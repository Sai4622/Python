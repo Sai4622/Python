{
 "cells": [
  {
   "cell_type": "markdown",
   "metadata": {},
   "source": [
    "## Tuples"
   ]
  },
  {
   "cell_type": "code",
   "execution_count": 1,
   "metadata": {},
   "outputs": [],
   "source": [
    "#Tuples are Similar to List\n",
    "#Used to read The Object Data\n",
    "#Tuples is a Immutable\n",
    "#Tuples Object Can Used For Only Reading\n",
    "#Tuple can be Defined as with in paraenthsis()"
   ]
  },
  {
   "cell_type": "code",
   "execution_count": 2,
   "metadata": {},
   "outputs": [
    {
     "name": "stdout",
     "output_type": "stream",
     "text": [
      "(1, 2, 3, 4, 5, 6)\n",
      "<class 'tuple'>\n"
     ]
    }
   ],
   "source": [
    "t1=(1,2,3,4,5,6)\n",
    "print(t1)\n",
    "print(type(t1))"
   ]
  },
  {
   "cell_type": "code",
   "execution_count": 3,
   "metadata": {},
   "outputs": [
    {
     "name": "stdout",
     "output_type": "stream",
     "text": [
      "1 2 3 4 5 6 "
     ]
    }
   ],
   "source": [
    "for i in range(len(t1)):\n",
    "              print(t1[i],end=\" \")"
   ]
  },
  {
   "cell_type": "markdown",
   "metadata": {},
   "source": [
    "## Dictionary"
   ]
  },
  {
   "cell_type": "code",
   "execution_count": 4,
   "metadata": {},
   "outputs": [
    {
     "ename": "SyntaxError",
     "evalue": "invalid syntax (<ipython-input-4-bf4324f67b17>, line 1)",
     "output_type": "error",
     "traceback": [
      "\u001b[1;36m  File \u001b[1;32m\"<ipython-input-4-bf4324f67b17>\"\u001b[1;36m, line \u001b[1;32m1\u001b[0m\n\u001b[1;33m    .General purpose data Structure in python\u001b[0m\n\u001b[1;37m    ^\u001b[0m\n\u001b[1;31mSyntaxError\u001b[0m\u001b[1;31m:\u001b[0m invalid syntax\n"
     ]
    }
   ],
   "source": [
    ".General purpose data Structure in python\n",
    ".Dict Objects basically consists of key and value\n",
    ".Dict Objects Consists of Unique Key\n",
    ".Dict Object Can be Enclosed in Cruly Braces { }\n",
    ".One pair key and Values in Separeted by comma(,)\n",
    ".Key and Values is Separeted"
   ]
  },
  {
   "cell_type": "code",
   "execution_count": null,
   "metadata": {},
   "outputs": [],
   "source": [
    "d1={'Name':'Teja','Email':'msaiteja4622@gmail.com','Phone':'8121815020'}\n",
    "print(d1)"
   ]
  },
  {
   "cell_type": "code",
   "execution_count": null,
   "metadata": {},
   "outputs": [],
   "source": [
    "l1=[]\n",
    "l1=print(d1)"
   ]
  },
  {
   "cell_type": "code",
   "execution_count": null,
   "metadata": {},
   "outputs": [],
   "source": [
    "d1.keys()"
   ]
  },
  {
   "cell_type": "code",
   "execution_count": null,
   "metadata": {},
   "outputs": [],
   "source": [
    "l1=[]\n",
    "l1=list(d1.keys())\n",
    "print(l1)"
   ]
  },
  {
   "cell_type": "code",
   "execution_count": null,
   "metadata": {},
   "outputs": [],
   "source": [
    "li=[]\n",
    "for i in d1.keys():\n",
    "    li.append(i)\n",
    "li"
   ]
  },
  {
   "cell_type": "code",
   "execution_count": null,
   "metadata": {},
   "outputs": [],
   "source": [
    "d1[\"Name\"]=\"Sai TEja M\"\n",
    "print(d1)"
   ]
  },
  {
   "cell_type": "markdown",
   "metadata": {},
   "source": [
    "## Contact Application\n",
    "**List,Tuple,Dict**"
   ]
  },
  {
   "cell_type": "code",
   "execution_count": null,
   "metadata": {},
   "outputs": [],
   "source": [
    "#Add A New Contact\n",
    "contact={} #Empty Dict\n",
    "def addcontact(name,phone):\n",
    "    if name not in contact:\n",
    "        contact[name]=phone\n",
    "        print(name,\"Contact is saved\")\n",
    "    else:\n",
    "        print(name,\"Contact is not saved\")\n",
    "    return\n",
    "addcontact(\"Sai\",\"8121815020\")# Inserting a New Contact\n",
    "addcontact(\"TEja\",\"8142969490\")\n",
    "addcontact(\"TEja\",\"8142969490\")#Error"
   ]
  },
  {
   "cell_type": "code",
   "execution_count": null,
   "metadata": {},
   "outputs": [],
   "source": [
    "#Search The Conatct \n",
    "def searchcontact(name):\n",
    "    if name in contact:\n",
    "        return name,\":\",contact[name]\n",
    "    return \"Contact is Not Present\"\n",
    "print(searchcontact('Sai'))\n",
    "print(searchcontact('naseer'))"
   ]
  },
  {
   "cell_type": "code",
   "execution_count": null,
   "metadata": {},
   "outputs": [],
   "source": [
    "#editContact\n",
    "def editcontact(name,phone):\n",
    "    if name in contact:\n",
    "        contact[name]=phone\n",
    "        return name,\"Phone Number Updated\"\n",
    "    else:\n",
    "        return name,\"Name is Not Exited\"\n",
    "print(editcontact(\"Sai\",9988776655))\n",
    "print(editcontact(\"sai\",9988776655))"
   ]
  },
  {
   "cell_type": "code",
   "execution_count": null,
   "metadata": {},
   "outputs": [],
   "source": [
    "#Deleting a Contact\n",
    "def deletecontact(name):\n",
    "    if name in contact:\n",
    "        del contact[name]\n",
    "        print(name,\"Name is Deleted\")\n",
    "    else:\n",
    "        print(name,\"Name is Not in Contact\")\n",
    "print(deletecontact(\"TEja\"))\n",
    "print(deletecontact(\"sai\"))"
   ]
  },
  {
   "cell_type": "code",
   "execution_count": 27,
   "metadata": {},
   "outputs": [
    {
     "data": {
      "text/plain": [
       "[('hirath', 1234567899),\n",
       " ('kiranmai', 4455661122),\n",
       " ('kishore Vemula', 3344556677),\n",
       " ('naseer', 9988776655),\n",
       " ('raj', 5566443322),\n",
       " ('ravali', 8899445566),\n",
       " ('sai', 8121815020),\n",
       " ('teja', 8142969490),\n",
       " ('vijaya', 7788994455)]"
      ]
     },
     "execution_count": 27,
     "metadata": {},
     "output_type": "execute_result"
    }
   ],
   "source": [
    "#Add a Contact and Sorting\n",
    "contacts={}\n",
    "li=[]\n",
    "def addcontact(name,phone):\n",
    "    if name not in contacts:\n",
    "        contacts[name,phone]=phone\n",
    "        li=list(contacts)\n",
    "        li.sort()\n",
    "        return li\n",
    "addcontact(\"sai\",8121815020)\n",
    "addcontact(\"teja\",8142969490)\n",
    "addcontact(\"naseer\",9988776655)\n",
    "addcontact(\"hirath\",1234567899)\n",
    "addcontact(\"vijaya\",7788994455)\n",
    "addcontact(\"ravali\",8899445566)\n",
    "addcontact(\"raj\",5566443322)\n",
    "addcontact(\"kiranmai\",4455661122)\n",
    "addcontact(\"kishore Vemula\",3344556677)"
   ]
  },
  {
   "cell_type": "code",
   "execution_count": 20,
   "metadata": {},
   "outputs": [
    {
     "name": "stdout",
     "output_type": "stream",
     "text": [
      "['hirath', 'kiranmai', 'kishore Vemula', 'naseer', 'raj', 'ravali', 'sai', 'teja', 'vijaya']\n"
     ]
    }
   ],
   "source": [
    "li=[]\n",
    "li=list(contacts)\n",
    "li.sort()\n",
    "li\n",
    "d1={}\n",
    "d1=dict(li)\n",
    "print(list(d1.keys()))"
   ]
  },
  {
   "cell_type": "code",
   "execution_count": null,
   "metadata": {},
   "outputs": [],
   "source": [
    "def display(name):\n",
    "    if name not in contact:\n",
    "        contact[name,phone]=phone\n",
    "        li=list(contact)\n",
    "        li.sort()\n",
    "    return li,\"Contact Saved\"\n",
    "display()"
   ]
  },
  {
   "cell_type": "code",
   "execution_count": null,
   "metadata": {},
   "outputs": [],
   "source": []
  }
 ],
 "metadata": {
  "kernelspec": {
   "display_name": "Python 3",
   "language": "python",
   "name": "python3"
  },
  "language_info": {
   "codemirror_mode": {
    "name": "ipython",
    "version": 3
   },
   "file_extension": ".py",
   "mimetype": "text/x-python",
   "name": "python",
   "nbconvert_exporter": "python",
   "pygments_lexer": "ipython3",
   "version": "3.7.4"
  }
 },
 "nbformat": 4,
 "nbformat_minor": 2
}
