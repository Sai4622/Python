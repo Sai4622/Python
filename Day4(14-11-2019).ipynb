{
 "cells": [
  {
   "cell_type": "markdown",
   "metadata": {},
   "source": [
    "# 1. Read the input as string and Output will followed Example #1: Input : orange Output : puboif Reason: Print the next consonent to the vowel and Print the vowel to the next consonent\n"
   ]
  },
  {
   "cell_type": "code",
   "execution_count": 4,
   "metadata": {},
   "outputs": [
    {
     "name": "stdout",
     "output_type": "stream",
     "text": [
      "puboif\n"
     ]
    }
   ],
   "source": [
    "str1=\"orange\"\n",
    "str2=\"\"\n",
    "for ch in str1:\n",
    "    if ch in ('a','e','i','o','u'):\n",
    "        str2=str2+chr(ord(ch)+1)\n",
    "    else:\n",
    "        if ord(ch)>=98 and ord(ch)<=100:\n",
    "            str2=str2+'e'\n",
    "        elif ord(ch)>=102 and ord(ch)<=104:\n",
    "            str2=str2+'i'\n",
    "        elif ord(ch)>=106 and ord(ch)<=110:\n",
    "            str2=str2+'o'\n",
    "        elif ord(ch)>=112 and ord(ch)<=116:\n",
    "            str2=str2+'u'\n",
    "print(str2)            "
   ]
  },
  {
   "cell_type": "code",
   "execution_count": 3,
   "metadata": {},
   "outputs": [
    {
     "name": "stdout",
     "output_type": "stream",
     "text": [
      "30\n"
     ]
    }
   ],
   "source": [
    "def addition(a,b): /* \n",
    "    c=a+b\n",
    "    print(c)\n",
    "addition(20,a=10)    /*positional arguments"
   ]
  },
  {
   "cell_type": "markdown",
   "metadata": {},
   "source": [
    " # 1.Required Arguments\n",
    " # 2.Keyword Arguments\n",
    " # 3.Default Arguments\n",
    " # 4.Variable length Arguments"
   ]
  },
  {
   "cell_type": "code",
   "execution_count": 2,
   "metadata": {},
   "outputs": [
    {
     "name": "stdout",
     "output_type": "stream",
     "text": [
      "20\n"
     ]
    }
   ],
   "source": [
    "def mul(a,b): #Required\n",
    "    c=a*b\n",
    "    print(c)\n",
    "mul(10,2)    "
   ]
  },
  {
   "cell_type": "code",
   "execution_count": 9,
   "metadata": {},
   "outputs": [
    {
     "name": "stdout",
     "output_type": "stream",
     "text": [
      "200\n"
     ]
    }
   ],
   "source": [
    "def mul(a,b): #Keyword\n",
    "    c=a*b\n",
    "    print(c)\n",
    "mul(b=20, a=10)    "
   ]
  },
  {
   "cell_type": "code",
   "execution_count": 19,
   "metadata": {},
   "outputs": [
    {
     "name": "stdout",
     "output_type": "stream",
     "text": [
      "20\n"
     ]
    }
   ],
   "source": [
    "def mul(a, b): #Default\n",
    "    c=a*b\n",
    "    print(c)\n",
    "mul(b=2, a=10)    "
   ]
  },
  {
   "cell_type": "code",
   "execution_count": 18,
   "metadata": {},
   "outputs": [
    {
     "name": "stdout",
     "output_type": "stream",
     "text": [
      "15\n"
     ]
    }
   ],
   "source": [
    "def mul(*a):  #Variable length \n",
    "    sum=0\n",
    "    for i in a:\n",
    "        sum+=i\n",
    "    print(sum)\n",
    "mul(1,2,3,4,5)    "
   ]
  },
  {
   "cell_type": "code",
   "execution_count": 22,
   "metadata": {},
   "outputs": [
    {
     "name": "stdout",
     "output_type": "stream",
     "text": [
      "2\n",
      "4\n"
     ]
    }
   ],
   "source": [
    "def even(a,b):\n",
    "    for i in range(a,b):\n",
    "        if i%2==0:\n",
    "            print(i)\n",
    "even(a=1,b=5)            \n",
    "            "
   ]
  },
  {
   "cell_type": "code",
   "execution_count": 2,
   "metadata": {},
   "outputs": [
    {
     "name": "stdout",
     "output_type": "stream",
     "text": [
      "even\n"
     ]
    }
   ],
   "source": [
    "def odd(a):\n",
    "        if a%2!=0:\n",
    "            print(\"odd\")\n",
    "        else:\n",
    "            print(\"even\")\n",
    "odd(10)            "
   ]
  },
  {
   "cell_type": "markdown",
   "metadata": {},
   "source": [
    "# Read the input as string and Output will be alternate words in lower case Ex1:Input : Learn Python Programming EASy        Output : python easy"
   ]
  },
  {
   "cell_type": "code",
   "execution_count": 22,
   "metadata": {},
   "outputs": [
    {
     "name": "stdout",
     "output_type": "stream",
     "text": [
      "python easy "
     ]
    },
    {
     "data": {
      "text/plain": [
       "['Learn', 'Python', 'Programming', 'EASy']"
      ]
     },
     "execution_count": 22,
     "metadata": {},
     "output_type": "execute_result"
    }
   ],
   "source": [
    "a=\"Learn Python Programming EASy\"\n",
    "b=a.split()\n",
    "for i in range(1,len(b),2):\n",
    "    print(b[i].lower(),end=\" \")\n",
    "b"
   ]
  },
  {
   "cell_type": "code",
   "execution_count": 15,
   "metadata": {},
   "outputs": [
    {
     "name": "stdout",
     "output_type": "stream",
     "text": [
      "Learn Python Programming EASy\n"
     ]
    }
   ],
   "source": [
    "print(a)"
   ]
  },
  {
   "cell_type": "code",
   "execution_count": null,
   "metadata": {},
   "outputs": [],
   "source": []
  }
 ],
 "metadata": {
  "kernelspec": {
   "display_name": "Python 3",
   "language": "python",
   "name": "python3"
  },
  "language_info": {
   "codemirror_mode": {
    "name": "ipython",
    "version": 3
   },
   "file_extension": ".py",
   "mimetype": "text/x-python",
   "name": "python",
   "nbconvert_exporter": "python",
   "pygments_lexer": "ipython3",
   "version": "3.7.4"
  }
 },
 "nbformat": 4,
 "nbformat_minor": 2
}
