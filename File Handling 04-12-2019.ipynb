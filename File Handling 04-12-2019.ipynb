{
 "cells": [
  {
   "cell_type": "code",
   "execution_count": 1,
   "metadata": {},
   "outputs": [],
   "source": [
    "f=open(\"data1.txt\",\"w\") #Write\n",
    "f.write(\"Hai Everyone\")\n",
    "f.close()"
   ]
  },
  {
   "cell_type": "code",
   "execution_count": 2,
   "metadata": {},
   "outputs": [
    {
     "name": "stdout",
     "output_type": "stream",
     "text": [
      "Hai Everyone\n"
     ]
    }
   ],
   "source": [
    "f=open(\"data1.txt\",\"r\") #Read\n",
    "data=f.read()\n",
    "print(data)"
   ]
  },
  {
   "cell_type": "code",
   "execution_count": 3,
   "metadata": {},
   "outputs": [],
   "source": [
    "f=open(\"data.txt\",\"a\") #Append\n",
    "f.write(\"Good Afternoon\")\n",
    "f.close()"
   ]
  },
  {
   "cell_type": "code",
   "execution_count": 4,
   "metadata": {},
   "outputs": [
    {
     "name": "stdout",
     "output_type": "stream",
     "text": [
      "Hai EveryoneGood Afternoon\n"
     ]
    }
   ],
   "source": [
    "f=open(\"data.txt\",\"r\") #Read\n",
    "data=f.read()\n",
    "print(data)"
   ]
  },
  {
   "cell_type": "code",
   "execution_count": 5,
   "metadata": {},
   "outputs": [
    {
     "name": "stdout",
     "output_type": "stream",
     "text": [
      "Hai EveryoneGood Afternoon\n"
     ]
    }
   ],
   "source": [
    "with open(\"data.txt\",\"r\") as f:\n",
    "    print(f.read())"
   ]
  },
  {
   "cell_type": "code",
   "execution_count": 6,
   "metadata": {},
   "outputs": [],
   "source": [
    "#Function to create a File and write same 10 lines of the data into the file..!\n",
    "with open(\"data.txt\",\"w\") as f:\n",
    "    for i in range(10):\n",
    "        f.write(\"HAI Everyone %d \\n\"%i)"
   ]
  },
  {
   "cell_type": "code",
   "execution_count": 7,
   "metadata": {},
   "outputs": [
    {
     "name": "stdout",
     "output_type": "stream",
     "text": [
      "HAI Everyone 0 \n",
      "HAI Everyone 1 \n",
      "HAI Everyone 2 \n",
      "HAI Everyone 3 \n",
      "HAI Everyone 4 \n",
      "HAI Everyone 5 \n",
      "HAI Everyone 6 \n",
      "HAI Everyone 7 \n",
      "HAI Everyone 8 \n",
      "HAI Everyone 9 \n",
      "\n"
     ]
    }
   ],
   "source": [
    "with open(\"data.txt\",\"r\") as f:\n",
    "    print(f.read())"
   ]
  },
  {
   "cell_type": "code",
   "execution_count": 8,
   "metadata": {},
   "outputs": [
    {
     "name": "stdout",
     "output_type": "stream",
     "text": [
      "Enter File Name:data1.txt\n"
     ]
    },
    {
     "data": {
      "text/plain": [
       "2"
      ]
     },
     "execution_count": 8,
     "metadata": {},
     "output_type": "execute_result"
    }
   ],
   "source": [
    "# Count Number of Word in given String\n",
    "def read1(name):\n",
    "    count=0\n",
    "    with open(name,'r') as k:\n",
    "        a= k.read()\n",
    "        x=a.split()\n",
    "        for i in x:\n",
    "            count=count+1\n",
    "        return count\n",
    "name=input(\"Enter File Name:\")\n",
    "read1(name)\n",
    "#using Function Method"
   ]
  },
  {
   "cell_type": "code",
   "execution_count": 16,
   "metadata": {},
   "outputs": [
    {
     "name": "stdout",
     "output_type": "stream",
     "text": [
      "2\n"
     ]
    }
   ],
   "source": [
    "#Count he Number of Word Present in the Given File..!\n",
    "with open(\"data1.txt\",\"r\") as f:\n",
    "    data=f.read()\n",
    "    list1=data.split()\n",
    "    print(len(list1))\n",
    "#using Method"
   ]
  },
  {
   "cell_type": "code",
   "execution_count": 17,
   "metadata": {},
   "outputs": [
    {
     "name": "stdout",
     "output_type": "stream",
     "text": [
      "12\n"
     ]
    }
   ],
   "source": [
    "#Count number of Char in the Given file\n",
    "with open(\"data1.txt\",\"r\") as f:\n",
    "    data=f.read()\n",
    "    list1=data.split()\n",
    "    print(len(data))"
   ]
  },
  {
   "cell_type": "code",
   "execution_count": 18,
   "metadata": {},
   "outputs": [
    {
     "name": "stdout",
     "output_type": "stream",
     "text": [
      "1\n"
     ]
    }
   ],
   "source": [
    "#Count the Number of Lines in the Given File\n",
    "with open(\"data1.txt\",\"r\") as f:\n",
    "    data=f.read()\n",
    "    list1=data.split()\n",
    "    print(len(data.split(\"\\n\")))"
   ]
  },
  {
   "cell_type": "code",
   "execution_count": 33,
   "metadata": {},
   "outputs": [
    {
     "name": "stdout",
     "output_type": "stream",
     "text": [
      "No.of Char: 11 /n No.of Digits in: 0\n"
     ]
    }
   ],
   "source": [
    "#Count the no.of alphabets and no.of digit in the given file\n",
    "ch=0\n",
    "num=0\n",
    "for i in data:\n",
    "    if i.isalpha():\n",
    "        ch+=1\n",
    "    elif i.isdigit():\n",
    "        num+=1\n",
    "print(\"No.of Char:\",ch,\"/n No.of Digits in:\",num)"
   ]
  },
  {
   "cell_type": "code",
   "execution_count": 22,
   "metadata": {},
   "outputs": [
    {
     "name": "stdout",
     "output_type": "stream",
     "text": [
      "Hai\n",
      "Hai Everyone\n"
     ]
    }
   ],
   "source": [
    "#Program to find the longest word in the given file\n",
    "with open(\"data1.txt\",\"r\") as f:\n",
    "    data=f.read()\n",
    "    list1=data.split()\n",
    "print(max(list1))\n",
    "print(data)"
   ]
  },
  {
   "cell_type": "code",
   "execution_count": 14,
   "metadata": {},
   "outputs": [],
   "source": [
    "#Program to Copy the Contents of a File to Another File"
   ]
  },
  {
   "cell_type": "code",
   "execution_count": 23,
   "metadata": {},
   "outputs": [
    {
     "name": "stdout",
     "output_type": "stream",
     "text": [
      "Hai\n",
      "['Hai', 'Everyone']\n"
     ]
    }
   ],
   "source": [
    "with open(\"data1.txt\",\"r\") as f:\n",
    "    data=f.read()\n",
    "    list1=data.split()\n",
    "    print(max(list1))\n",
    "print(list1)"
   ]
  },
  {
   "cell_type": "code",
   "execution_count": 26,
   "metadata": {},
   "outputs": [],
   "source": [
    "import os\n",
    "os.mkdir(\"E:/Python\")"
   ]
  },
  {
   "cell_type": "code",
   "execution_count": 27,
   "metadata": {},
   "outputs": [],
   "source": [
    "with open(\"E:/python/Filehanding\",\"w\") as f:\n",
    "    f.write(\"This is 1 Line\")\n",
    "    f.write(\"This is 2 Line\")\n",
    "    f.write(\"This is 3 Line\")\n",
    "    f.write(\"This is 4 Line\")\n",
    "    f.write(\"This is 5 Line\")\n",
    "    f.write(\"This is 6 Line\")\n",
    "    f.write(\"This is 7 Line\")\n",
    "    f.write(\"This is 8 Line\")\n",
    "    f.write(\"This is 9 Line\")\n",
    "    f.write(\"This is 10 Line\")"
   ]
  },
  {
   "cell_type": "code",
   "execution_count": 47,
   "metadata": {},
   "outputs": [
    {
     "name": "stdout",
     "output_type": "stream",
     "text": [
      "This is 1 LineThis is 2 LineThis is 3 LineThis is 4 LineThis is 5 LineThis is 6 LineThis is 7 LineThis is 8 LineThis is 9 LineThis is 10 Line\n"
     ]
    }
   ],
   "source": [
    "with open(\"E:/python/Filehanding\",\"r\") as k:\n",
    "    print(k.read())"
   ]
  },
  {
   "cell_type": "code",
   "execution_count": null,
   "metadata": {},
   "outputs": [],
   "source": [
    "#"
   ]
  }
 ],
 "metadata": {
  "kernelspec": {
   "display_name": "Python 3",
   "language": "python",
   "name": "python3"
  },
  "language_info": {
   "codemirror_mode": {
    "name": "ipython",
    "version": 3
   },
   "file_extension": ".py",
   "mimetype": "text/x-python",
   "name": "python",
   "nbconvert_exporter": "python",
   "pygments_lexer": "ipython3",
   "version": "3.7.4"
  }
 },
 "nbformat": 4,
 "nbformat_minor": 2
}
