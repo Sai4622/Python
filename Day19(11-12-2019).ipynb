{
 "cells": [
  {
   "cell_type": "code",
   "execution_count": 9,
   "metadata": {},
   "outputs": [
    {
     "name": "stdout",
     "output_type": "stream",
     "text": [
      "enter stringRAJeevi\n",
      "R A J "
     ]
    }
   ],
   "source": [
    "## function to print upper case char\n",
    "## example : RAJeevi--RAJ\n",
    "## ASCII \n",
    "## A-Z : 65-90\n",
    "## a-z : 97-122\n",
    "## 0-9 : 48-57\n",
    "## space :32\n",
    "\n",
    "def printUpper(s):\n",
    "    #c=0\n",
    "    for i in range(len(s)):\n",
    "        if ord(s[i])>=65 and ord(s[i])<=90:\n",
    "            print(s[i],end=\" \")\n",
    "            #c=c+1\n",
    "    #print(\"\\ncount of uppercase char\",c)        \n",
    "s=input(\"enter string\")\n",
    "printUpper(s)            "
   ]
  },
  {
   "cell_type": "code",
   "execution_count": 12,
   "metadata": {},
   "outputs": [
    {
     "name": "stdout",
     "output_type": "stream",
     "text": [
      "enter stringRAJeevi\n",
      "Programming\n"
     ]
    }
   ],
   "source": [
    "# Function to return output as \"Samecount\" or \"Pogramming\"\n",
    "# Samecount --Lower and upper chars have same count\n",
    "# Programming -- Count of lower and Upper case is not same\n",
    "\n",
    "#ex: RAJeev- 3 R A J\n",
    "#          - 3 e e v\n",
    "#ex: RAJeevi-3 R A J\n",
    "#           -4 e e v i\n",
    "\n",
    "def countUL(s1):\n",
    "    c=0\n",
    "    s=0\n",
    "    for i in range(len(s1)):\n",
    "        if ord(s1[i])>=97 and ord(s1[i])<=122:\n",
    "            c=c+1\n",
    "        elif ord(s2[i])>=65 and ord(s2[i])<=90:\n",
    "            s=s+1\n",
    "    if c==s:\n",
    "        print(\"SameCount\")\n",
    "    else:\n",
    "        print(\"Programming\")\n",
    "s1=input(\"enter string\")\n",
    "countUL(s1)\n",
    "            "
   ]
  },
  {
   "cell_type": "code",
   "execution_count": 14,
   "metadata": {},
   "outputs": [
    {
     "name": "stdout",
     "output_type": "stream",
     "text": [
      "enter string: Appli18cation89\n",
      "1 8 8 9 "
     ]
    }
   ],
   "source": [
    "# FUnction to extract the digits from the string\n",
    "# Ex: I/p: Appli18cation89\n",
    "#     o/p: 1 8 8 9\n",
    "\n",
    "def printNum(s):\n",
    "    for i in range(len(s)):\n",
    "        if ord(s[i])>=48 and ord(s[i])<=57:\n",
    "            print(s[i],end=\" \")\n",
    "s=input(\"enter string: \")\n",
    "printNum(s)            "
   ]
  },
  {
   "cell_type": "code",
   "execution_count": 20,
   "metadata": {},
   "outputs": [
    {
     "name": "stdout",
     "output_type": "stream",
     "text": [
      "enter string: Appli18cation89\n",
      "1 8 8 9 sum of numbers:  218\n"
     ]
    }
   ],
   "source": [
    "# FUnction to extract the digits from the string\n",
    "# Ex: I/p: Appli18cation89\n",
    "#     o/p: 26 (1+8+8+9)\n",
    "\n",
    "def printNum(s):\n",
    "    c=0\n",
    "    for i in range(len(s)):\n",
    "        if ord(s[i])>=48 and ord(s[i])<=57:\n",
    "            print(s[i],end=\" \")\n",
    "            c=c+(ord(s[i])-48)\n",
    "    print(\"sum of numbers: \",c)       \n",
    "s=input(\"enter string: \")\n",
    "printNum(s)  "
   ]
  },
  {
   "cell_type": "code",
   "execution_count": 25,
   "metadata": {},
   "outputs": [
    {
     "name": "stdout",
     "output_type": "stream",
     "text": [
      "PYTHON"
     ]
    }
   ],
   "source": [
    "# Function to print 2nd word in upper case\n",
    "#ex: I/p: pyhton made easy\n",
    "#    o/p: MADE\n",
    "#ex: I/p: learn pyhton strings\n",
    "#    o/p: PYTHON\n",
    "\n",
    "def convertUpper(s):\n",
    "    c=0\n",
    "    for i in range(len(s)):\n",
    "        if ord(s[i])==32:\n",
    "            c=c+1\n",
    "        if c==1:\n",
    "            if ord(s[i])>=65 and ord(s[i])<90:\n",
    "                print(s[i],end='')\n",
    "            elif ord(s[i])>=97 and ord(s[i])<=122:\n",
    "                print(chr(ord(s[i])-32),end='')\n",
    "        if c==2:\n",
    "            break\n",
    "                  \n",
    "convertUpper(\"Learn python programming\")                \n",
    "             "
   ]
  },
  {
   "cell_type": "markdown",
   "metadata": {},
   "source": [
    "## List"
   ]
  },
  {
   "cell_type": "markdown",
   "metadata": {},
   "source": [
    "* One of the Data Structure in python\n",
    "* Data Structure means to store, sort and search options\n",
    "* It's one common Data Structure in python, the items of list separated by comma and enclosed in square brackets[]\n",
    "  * Example\n",
    "     * list1=[1,2,3,4,5]\n",
    "     * list2=[\"Gitam\",1,2,1.89.\"Vizag\"]  "
   ]
  },
  {
   "cell_type": "code",
   "execution_count": 28,
   "metadata": {},
   "outputs": [
    {
     "name": "stdout",
     "output_type": "stream",
     "text": [
      "[1, 6, 2, 8, 3, 9]\n",
      "1\n",
      "9\n",
      "[2, 8, 3, 9]\n"
     ]
    }
   ],
   "source": [
    "l=[1,6,2,8,3,9]\n",
    "print(l)# to print  all the list items\n",
    "print(l[0])# access the 1st item\n",
    "print(l[-1])# access the last item\n",
    "print(l[2:])"
   ]
  },
  {
   "cell_type": "code",
   "execution_count": 29,
   "metadata": {},
   "outputs": [
    {
     "name": "stdout",
     "output_type": "stream",
     "text": [
      "['gitam', 123, 5, 23, 97, 'vizag']\n"
     ]
    }
   ],
   "source": [
    "l=[\"gitam\",1,5,23,97,\"vizag\"]\n",
    "l[1]=123 # updating the list item with value\n",
    "print(l)\n"
   ]
  },
  {
   "cell_type": "code",
   "execution_count": 32,
   "metadata": {},
   "outputs": [
    {
     "name": "stdout",
     "output_type": "stream",
     "text": [
      "['gitam', 5, 23, 97, 'vizag']\n"
     ]
    }
   ],
   "source": [
    "del l[1]\n",
    "print(l)"
   ]
  },
  {
   "cell_type": "code",
   "execution_count": null,
   "metadata": {},
   "outputs": [],
   "source": []
  }
 ],
 "metadata": {
  "kernelspec": {
   "display_name": "Python 3",
   "language": "python",
   "name": "python3"
  },
  "language_info": {
   "codemirror_mode": {
    "name": "ipython",
    "version": 3
   },
   "file_extension": ".py",
   "mimetype": "text/x-python",
   "name": "python",
   "nbconvert_exporter": "python",
   "pygments_lexer": "ipython3",
   "version": "3.7.4"
  }
 },
 "nbformat": 4,
 "nbformat_minor": 2
}
