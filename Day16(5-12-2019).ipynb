{
 "cells": [
  {
   "cell_type": "markdown",
   "metadata": {},
   "source": [
    "# level 1: Return no.of pairs which gives sum as 3 i.e.,v\n",
    "# level 2: Append those pairs to a list and print the list\n",
    "# level 3: Do it using a single loop    "
   ]
  },
  {
   "cell_type": "code",
   "execution_count": 22,
   "metadata": {
    "scrolled": true
   },
   "outputs": [
    {
     "name": "stdout",
     "output_type": "stream",
     "text": [
      "[1, 2, 2, 1, 3, 0, 0, 3, 4, -1, -1, 4, 5, -2, -2, 5, 6, -3, -3, 6]\n"
     ]
    }
   ],
   "source": [
    "n=([1,2],[2,1],[3,0],[0,3],[4,-1],[-1,4],[5,-2],[-2,5],[6,-3],[-3,6])\n",
    "l=[]\n",
    "for i in n:\n",
    "    l.append(i)\n",
    "print(sum(l,[]))   \n",
    "    "
   ]
  },
  {
   "cell_type": "code",
   "execution_count": 2,
   "metadata": {},
   "outputs": [
    {
     "name": "stdout",
     "output_type": "stream",
     "text": [
      "[[-6, 9], [-5, 8], [-4, 7], [-3, 6], [-2, 5], [-1, 4], [0, 3], [1, 2], [2, 1], [3, 0], [4, -1], [5, -2], [6, -3], [7, -4], [8, -5], [9, -6]]\n"
     ]
    }
   ],
   "source": [
    "def CalculateSumPairs(a,v):\n",
    "   l=[-9, -8, -7, -6, -5, -4, -3, -2, -1, 0, 1, 2, 3, 4, 5, 6, 7, 8, 9]\n",
    "   ls=[]\n",
    "   for i in a:\n",
    "       for k in l:\n",
    "           if i+k==3:\n",
    "               ls.append([i,k])\n",
    "   print(ls)\n",
    "               \n",
    "               \n",
    "CalculateSumPairs([-9, -8, -7, -6, -5, -4, -3, -2, -1, 0, 1, 2, 3, 4, 5, 6, 7, 8, 9],3)\n",
    "\n"
   ]
  },
  {
   "cell_type": "code",
   "execution_count": 7,
   "metadata": {},
   "outputs": [
    {
     "name": "stdout",
     "output_type": "stream",
     "text": [
      "[[-6, 9], [-5, 8], [-4, 7], [-3, 6], [-2, 5], [-1, 4], [0, 3], [1, 2]]\n"
     ]
    }
   ],
   "source": [
    "lst = [-9, -8, -7, -6, -5, -4, -3, -2, -1, 0, 1, 2, 3, 4, 5, 6, 7, 8, 9]\n",
    "K = 3\n",
    "l = []\n",
    "while lst:\n",
    "   num = lst.pop()\n",
    "   d= K - num\n",
    "   if d in lst:\n",
    "       l.append([d, num])\n",
    "   #l.reverse ()    \n",
    "   \n",
    "print(l) "
   ]
  },
  {
   "cell_type": "code",
   "execution_count": null,
   "metadata": {},
   "outputs": [],
   "source": []
  }
 ],
 "metadata": {
  "kernelspec": {
   "display_name": "Python 3",
   "language": "python",
   "name": "python3"
  },
  "language_info": {
   "codemirror_mode": {
    "name": "ipython",
    "version": 3
   },
   "file_extension": ".py",
   "mimetype": "text/x-python",
   "name": "python",
   "nbconvert_exporter": "python",
   "pygments_lexer": "ipython3",
   "version": "3.7.4"
  }
 },
 "nbformat": 4,
 "nbformat_minor": 2
}
