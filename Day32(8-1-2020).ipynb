{
 "cells": [
  {
   "cell_type": "markdown",
   "metadata": {},
   "source": [
    "## Tuples\n",
    "   - Tuples are similar to list\n",
    "   - Used to read the object data\n",
    "   - List is Mutable and Tuples are immutable\n",
    "   - List object can be used for insert, update, delete\n",
    "   - Tuple object can only support for reading\n",
    "   - Tuple can be defined as with in paranthsis()"
   ]
  },
  {
   "cell_type": "code",
   "execution_count": 1,
   "metadata": {},
   "outputs": [
    {
     "name": "stdout",
     "output_type": "stream",
     "text": [
      "(1, 2, 3, 4, 5)\n"
     ]
    }
   ],
   "source": [
    "t1 = (1,2,3,4,5)\n",
    "print(t1)"
   ]
  },
  {
   "cell_type": "code",
   "execution_count": 2,
   "metadata": {},
   "outputs": [
    {
     "name": "stdout",
     "output_type": "stream",
     "text": [
      "<class 'tuple'>\n"
     ]
    }
   ],
   "source": [
    "print(type(t1))"
   ]
  },
  {
   "cell_type": "code",
   "execution_count": 4,
   "metadata": {},
   "outputs": [
    {
     "data": {
      "text/plain": [
       "(1, 2, 3)"
      ]
     },
     "execution_count": 4,
     "metadata": {},
     "output_type": "execute_result"
    }
   ],
   "source": [
    "t1[0:3]"
   ]
  },
  {
   "cell_type": "code",
   "execution_count": 5,
   "metadata": {},
   "outputs": [
    {
     "data": {
      "text/plain": [
       "(1, 2, 3, 4)"
      ]
     },
     "execution_count": 5,
     "metadata": {},
     "output_type": "execute_result"
    }
   ],
   "source": [
    "t1[0:-1]"
   ]
  },
  {
   "cell_type": "code",
   "execution_count": 6,
   "metadata": {},
   "outputs": [
    {
     "data": {
      "text/plain": [
       "(3, 4)"
      ]
     },
     "execution_count": 6,
     "metadata": {},
     "output_type": "execute_result"
    }
   ],
   "source": [
    "t1[2:-1]"
   ]
  },
  {
   "cell_type": "code",
   "execution_count": 7,
   "metadata": {},
   "outputs": [
    {
     "ename": "TypeError",
     "evalue": "'tuple' object does not support item assignment",
     "output_type": "error",
     "traceback": [
      "\u001b[1;31m---------------------------------------------------------------------------\u001b[0m",
      "\u001b[1;31mTypeError\u001b[0m                                 Traceback (most recent call last)",
      "\u001b[1;32m<ipython-input-7-f9ba00fe697f>\u001b[0m in \u001b[0;36m<module>\u001b[1;34m\u001b[0m\n\u001b[1;32m----> 1\u001b[1;33m \u001b[0mt1\u001b[0m\u001b[1;33m[\u001b[0m\u001b[1;36m0\u001b[0m\u001b[1;33m]\u001b[0m\u001b[1;33m=\u001b[0m\u001b[1;36m20\u001b[0m\u001b[1;33m\u001b[0m\u001b[1;33m\u001b[0m\u001b[0m\n\u001b[0m",
      "\u001b[1;31mTypeError\u001b[0m: 'tuple' object does not support item assignment"
     ]
    }
   ],
   "source": [
    "t1[0]=20"
   ]
  },
  {
   "cell_type": "code",
   "execution_count": 8,
   "metadata": {},
   "outputs": [
    {
     "ename": "TypeError",
     "evalue": "'tuple' object doesn't support item deletion",
     "output_type": "error",
     "traceback": [
      "\u001b[1;31m---------------------------------------------------------------------------\u001b[0m",
      "\u001b[1;31mTypeError\u001b[0m                                 Traceback (most recent call last)",
      "\u001b[1;32m<ipython-input-8-cad7b2ca8ce3>\u001b[0m in \u001b[0;36m<module>\u001b[1;34m\u001b[0m\n\u001b[1;32m----> 1\u001b[1;33m \u001b[1;32mdel\u001b[0m \u001b[0mt1\u001b[0m\u001b[1;33m[\u001b[0m\u001b[1;36m2\u001b[0m\u001b[1;33m]\u001b[0m\u001b[1;33m\u001b[0m\u001b[1;33m\u001b[0m\u001b[0m\n\u001b[0m",
      "\u001b[1;31mTypeError\u001b[0m: 'tuple' object doesn't support item deletion"
     ]
    }
   ],
   "source": [
    "del t1[2]"
   ]
  },
  {
   "cell_type": "code",
   "execution_count": 9,
   "metadata": {},
   "outputs": [
    {
     "name": "stdout",
     "output_type": "stream",
     "text": [
      "1 2 3 4 5 "
     ]
    }
   ],
   "source": [
    "for i in range(len(t1)):\n",
    "    print(t1[i],end=\" \")\n"
   ]
  },
  {
   "cell_type": "markdown",
   "metadata": {},
   "source": [
    "## Dictionaries\n",
    "   - General purpose data structure in python\n",
    "   - Dict object basically consists of key and value\n",
    "   - Dict object consists of unique key\n",
    "   - Dict object can be enclosed in curly braces -{}\n",
    "   - One pair key and value is sepaated by comma(,)\n",
    "   - Key and values is separated by colon symbol(:)"
   ]
  },
  {
   "cell_type": "code",
   "execution_count": 12,
   "metadata": {},
   "outputs": [
    {
     "name": "stdout",
     "output_type": "stream",
     "text": [
      "{'Name': 'Rajeevi', 'Email': 'rajee123@gmail.com', 'phone': '9876543210'}\n"
     ]
    }
   ],
   "source": [
    "d1 ={'Name' : 'Rajeevi', 'Email': 'rajee123@gmail.com','phone': '9876543210'}\n",
    "print(d1)"
   ]
  },
  {
   "cell_type": "code",
   "execution_count": 13,
   "metadata": {},
   "outputs": [
    {
     "name": "stdout",
     "output_type": "stream",
     "text": [
      "Rajeevi\n"
     ]
    }
   ],
   "source": [
    "print(d1['Name'])"
   ]
  },
  {
   "cell_type": "code",
   "execution_count": 14,
   "metadata": {},
   "outputs": [
    {
     "name": "stdout",
     "output_type": "stream",
     "text": [
      "dict_keys(['Name', 'Email', 'phone'])\n"
     ]
    }
   ],
   "source": [
    "li =[]\n",
    "li=d1.keys()\n",
    "print(li)"
   ]
  },
  {
   "cell_type": "code",
   "execution_count": 15,
   "metadata": {},
   "outputs": [
    {
     "data": {
      "text/plain": [
       "3"
      ]
     },
     "execution_count": 15,
     "metadata": {},
     "output_type": "execute_result"
    }
   ],
   "source": [
    "len(d1.keys())"
   ]
  },
  {
   "cell_type": "code",
   "execution_count": 16,
   "metadata": {},
   "outputs": [
    {
     "data": {
      "text/plain": [
       "['Name', 'Email', 'phone']"
      ]
     },
     "execution_count": 16,
     "metadata": {},
     "output_type": "execute_result"
    }
   ],
   "source": [
    "li=[]\n",
    "for i in d1.keys():\n",
    "    li.append(i)\n",
    "li    "
   ]
  },
  {
   "cell_type": "code",
   "execution_count": 18,
   "metadata": {},
   "outputs": [
    {
     "name": "stdout",
     "output_type": "stream",
     "text": [
      "['Name', 'Email', 'phone']\n"
     ]
    }
   ],
   "source": [
    "li1 =[]\n",
    "li1= list(d1.keys())\n",
    "print(li1)"
   ]
  },
  {
   "cell_type": "code",
   "execution_count": 19,
   "metadata": {},
   "outputs": [
    {
     "name": "stdout",
     "output_type": "stream",
     "text": [
      "['Rajeevi', 'rajee123@gmail.com', '9876543210']\n"
     ]
    }
   ],
   "source": [
    "li_values=[]\n",
    "li_values= list(d1.values())\n",
    "print(li_values)"
   ]
  },
  {
   "cell_type": "code",
   "execution_count": 20,
   "metadata": {},
   "outputs": [
    {
     "name": "stdout",
     "output_type": "stream",
     "text": [
      "{'Name': 'Rajeevi', 'Email': 'rajee123@gmail.com', 'phone': '9876543210'}\n"
     ]
    }
   ],
   "source": [
    "d1[\"Name\"]='Rajeevi'\n",
    "print(d1)"
   ]
  },
  {
   "cell_type": "code",
   "execution_count": 22,
   "metadata": {},
   "outputs": [
    {
     "ename": "KeyError",
     "evalue": "'phone'",
     "output_type": "error",
     "traceback": [
      "\u001b[1;31m---------------------------------------------------------------------------\u001b[0m",
      "\u001b[1;31mKeyError\u001b[0m                                  Traceback (most recent call last)",
      "\u001b[1;32m<ipython-input-22-9442813d9813>\u001b[0m in \u001b[0;36m<module>\u001b[1;34m\u001b[0m\n\u001b[1;32m----> 1\u001b[1;33m \u001b[1;32mdel\u001b[0m \u001b[0md1\u001b[0m\u001b[1;33m[\u001b[0m\u001b[1;34m\"phone\"\u001b[0m\u001b[1;33m]\u001b[0m\u001b[1;33m\u001b[0m\u001b[1;33m\u001b[0m\u001b[0m\n\u001b[0m\u001b[0;32m      2\u001b[0m \u001b[0mprint\u001b[0m\u001b[1;33m(\u001b[0m\u001b[0md1\u001b[0m\u001b[1;33m)\u001b[0m\u001b[1;33m\u001b[0m\u001b[1;33m\u001b[0m\u001b[0m\n",
      "\u001b[1;31mKeyError\u001b[0m: 'phone'"
     ]
    }
   ],
   "source": [
    "del d1[\"phone\"]\n",
    "print(d1)"
   ]
  },
  {
   "cell_type": "code",
   "execution_count": 23,
   "metadata": {},
   "outputs": [
    {
     "data": {
      "text/plain": [
       "True"
      ]
     },
     "execution_count": 23,
     "metadata": {},
     "output_type": "execute_result"
    }
   ],
   "source": [
    "\"Rajeevi\" not in li"
   ]
  },
  {
   "cell_type": "markdown",
   "metadata": {},
   "source": [
    "## Contact Application\n",
    "   - **List, Tuple, Dict**\n",
    "   - Add a new Contact Details\n",
    "   - Modify the contact\n",
    "   - Delete Contact\n",
    "   - Sorting the Contacts list Name - phne\n",
    "   - One name should have 2 mobile numbers\n",
    "   - print only name in Sorted order"
   ]
  },
  {
   "cell_type": "code",
   "execution_count": 25,
   "metadata": {},
   "outputs": [
    {
     "name": "stdout",
     "output_type": "stream",
     "text": [
      "Rajeevi  Inserted Succesfully\n",
      "Kiranmai  Inserted Succesfully\n",
      "Rajeevi  Already exists\n"
     ]
    }
   ],
   "source": [
    "contacts= {} # empty dict object\n",
    "def addContact(name, phone):\n",
    "    if name not in contacts:\n",
    "        contacts[name]= phone\n",
    "        print(name,\" Inserted Succesfully\")\n",
    "    else:\n",
    "        print(name, \" Already exists\")\n",
    "    return\n",
    "addContact('Rajeevi',9876543210)\n",
    "addContact('Kiranmai',9876543212)\n",
    "addContact('Rajeevi',9873421987)"
   ]
  },
  {
   "cell_type": "code",
   "execution_count": 27,
   "metadata": {},
   "outputs": [
    {
     "name": "stdout",
     "output_type": "stream",
     "text": [
      "('Rajeevi', ',', 9876543210)\n",
      "Contact is not present\n"
     ]
    }
   ],
   "source": [
    "def searchContact(name):\n",
    "    if name in contacts:\n",
    "        return name,\",\" ,contacts[name]\n",
    "    return 'Contact is not present'\n",
    "print(searchContact('Rajeevi'))\n",
    "print(searchContact('akki'))\n"
   ]
  },
  {
   "cell_type": "code",
   "execution_count": 28,
   "metadata": {},
   "outputs": [
    {
     "name": "stdout",
     "output_type": "stream",
     "text": [
      "Rajeevi Updated succesfully\n",
      "Akki Not exists\n"
     ]
    }
   ],
   "source": [
    "def editContact(name,phone):\n",
    "    if name in contacts:\n",
    "        contacts[name]=phone\n",
    "        print(name,'Updated succesfully')\n",
    "    else:\n",
    "        print(name,'Not exists')\n",
    "    return\n",
    "editContact('Rajeevi',9908487112)\n",
    "editContact('Akki',9977668765)\n",
    "\n"
   ]
  },
  {
   "cell_type": "code",
   "execution_count": 29,
   "metadata": {},
   "outputs": [
    {
     "name": "stdout",
     "output_type": "stream",
     "text": [
      "Rajeevi Deleted Succesfully\n",
      "akkii not exists\n"
     ]
    }
   ],
   "source": [
    "def deleteContact(name):\n",
    "    if name in contacts:\n",
    "        del contacts[name]\n",
    "        print(name,\"Deleted Succesfully\")\n",
    "    else:\n",
    "        print(name,\"not exists\")\n",
    "    return\n",
    "deleteContact('Rajeevi')\n",
    "deleteContact('akkii')"
   ]
  },
  {
   "cell_type": "markdown",
   "metadata": {},
   "source": [
    "## Sorting the Contacts list Name - phne\n",
    "###    One name should have 2 mobile numbers\n",
    "###    print only name in Sorted order"
   ]
  },
  {
   "cell_type": "code",
   "execution_count": 8,
   "metadata": {},
   "outputs": [
    {
     "data": {
      "text/plain": [
       "['aji',\n",
       " 'akki',\n",
       " 'harshi',\n",
       " 'ji',\n",
       " 'kiranmai',\n",
       " 'rajee',\n",
       " 'rajeevi',\n",
       " 'raji',\n",
       " 'ramu',\n",
       " 'ravali']"
      ]
     },
     "execution_count": 8,
     "metadata": {},
     "output_type": "execute_result"
    }
   ],
   "source": [
    "contacts={}\n",
    "li=[]\n",
    "def addContact(name,phn):\n",
    "    if name not in contacts:\n",
    "        contacts[name]=phn\n",
    "        li=list(contacts)\n",
    "        li.sort()\n",
    "        return li\n",
    "    else:\n",
    "        print(name,\"already exists\")\n",
    "    return\n",
    "addContact('rajee',985473298)\n",
    "addContact('kiranmai',9846773278)\n",
    "addContact('raji',9854983298)\n",
    "addContact('aji',9854987298)\n",
    "addContact('ji',9854983456)\n",
    "addContact('akki',8094983298)\n",
    "addContact('harshi',9854805298)\n",
    "addContact('ravali',9854983276)\n",
    "addContact('ramu',8854983297)\n",
    "addContact('rajeevi',9754983298)"
   ]
  },
  {
   "cell_type": "code",
   "execution_count": 9,
   "metadata": {},
   "outputs": [
    {
     "data": {
      "text/plain": [
       "{'rajee': 985473298,\n",
       " 'kiranmai': 9846773278,\n",
       " 'raji': 9854983298,\n",
       " 'aji': 9854987298,\n",
       " 'ji': 9854983456,\n",
       " 'akki': 8094983298,\n",
       " 'harshi': 9854805298,\n",
       " 'ravali': 9854983276,\n",
       " 'ramu': 8854983297,\n",
       " 'rajeevi': 9754983298}"
      ]
     },
     "execution_count": 9,
     "metadata": {},
     "output_type": "execute_result"
    }
   ],
   "source": [
    "contacts"
   ]
  },
  {
   "cell_type": "code",
   "execution_count": 13,
   "metadata": {},
   "outputs": [
    {
     "name": "stdout",
     "output_type": "stream",
     "text": [
      "['aji', 'akki', 'harshi', 'ji', 'kiranmai', 'rajee', 'rajeevi', 'raji', 'ramu', 'ravali'] "
     ]
    }
   ],
   "source": [
    "d1={}\n",
    "l1=[]\n",
    "l1=list(contacts)\n",
    "d1=dict(contacts)\n",
    "list(d1.keys())\n",
    "l1.sort()\n",
    "print(l1,end=\" \")"
   ]
  },
  {
   "cell_type": "code",
   "execution_count": null,
   "metadata": {},
   "outputs": [],
   "source": []
  },
  {
   "cell_type": "code",
   "execution_count": null,
   "metadata": {},
   "outputs": [],
   "source": []
  }
 ],
 "metadata": {
  "kernelspec": {
   "display_name": "Python 3",
   "language": "python",
   "name": "python3"
  },
  "language_info": {
   "codemirror_mode": {
    "name": "ipython",
    "version": 3
   },
   "file_extension": ".py",
   "mimetype": "text/x-python",
   "name": "python",
   "nbconvert_exporter": "python",
   "pygments_lexer": "ipython3",
   "version": "3.7.4"
  }
 },
 "nbformat": 4,
 "nbformat_minor": 2
}
