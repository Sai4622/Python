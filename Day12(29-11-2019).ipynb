{
 "cells": [
  {
   "cell_type": "markdown",
   "metadata": {},
   "source": [
    "# file Handling"
   ]
  },
  {
   "cell_type": "code",
   "execution_count": null,
   "metadata": {},
   "outputs": [],
   "source": [
    "# define a function to read  file aata for a given file"
   ]
  },
  {
   "cell_type": "code",
   "execution_count": 2,
   "metadata": {},
   "outputs": [
    {
     "data": {
      "text/plain": [
       "' Plastic bags are  major cause of environmental pollution.\\n Plastic as a substance is non-biodegradable.\\n And thus plastic bags remain in the environment for hundreds of years polluting  immensely.\\n It  become very essential to ban plastic bags before they ruin our planet completely.\\n Many countries around the globe have either put a ban on the plastic bag or Levi tax on it.\\n However, the problem hasnâ€™t been solved completely because the implementation it.\\n'"
      ]
     },
     "execution_count": 2,
     "metadata": {},
     "output_type": "execute_result"
    }
   ],
   "source": [
    "def readfile(filename):\n",
    "    f = open(filename,'r')\n",
    "    filedata = f.read() # return list of lines in the file\n",
    "    return filedata\n",
    "filename= 'File Handling/d1.txt'\n",
    "readfile(filename)"
   ]
  },
  {
   "cell_type": "code",
   "execution_count": 3,
   "metadata": {},
   "outputs": [
    {
     "data": {
      "text/plain": [
       "76"
      ]
     },
     "execution_count": 3,
     "metadata": {},
     "output_type": "execute_result"
    }
   ],
   "source": [
    "import re\n",
    "def readfile(filename):\n",
    "    f = open(filename,'r')\n",
    "    filedata = f.read()\n",
    "    return filedata\n",
    "filename= 'File Handling/d1.txt'\n",
    "len(re.split('\\ ',readfile(filename))) # number of words"
   ]
  },
  {
   "cell_type": "code",
   "execution_count": 7,
   "metadata": {},
   "outputs": [
    {
     "data": {
      "text/plain": [
       "['',\n",
       " 'Plastic',\n",
       " 'bags',\n",
       " 'are',\n",
       " '',\n",
       " 'major',\n",
       " 'cause',\n",
       " 'of',\n",
       " 'environmental',\n",
       " 'pollution.\\n',\n",
       " 'Plastic',\n",
       " 'as',\n",
       " 'a',\n",
       " 'substance',\n",
       " 'is',\n",
       " 'non-biodegradable.\\n',\n",
       " 'And',\n",
       " 'thus',\n",
       " 'plastic',\n",
       " 'bags',\n",
       " 'remain',\n",
       " 'in',\n",
       " 'the',\n",
       " 'environment',\n",
       " 'for',\n",
       " 'hundreds',\n",
       " 'of',\n",
       " 'years',\n",
       " 'polluting',\n",
       " '',\n",
       " 'immensely.\\n',\n",
       " 'It',\n",
       " '',\n",
       " 'become',\n",
       " 'very',\n",
       " 'essential',\n",
       " 'to',\n",
       " 'ban',\n",
       " 'plastic',\n",
       " 'bags',\n",
       " 'before',\n",
       " 'they',\n",
       " 'ruin',\n",
       " 'our',\n",
       " 'planet',\n",
       " 'completely.\\n',\n",
       " 'Many',\n",
       " 'countries',\n",
       " 'around',\n",
       " 'the',\n",
       " 'globe',\n",
       " 'have',\n",
       " 'either',\n",
       " 'put',\n",
       " 'a',\n",
       " 'ban',\n",
       " 'on',\n",
       " 'the',\n",
       " 'plastic',\n",
       " 'bag',\n",
       " 'or',\n",
       " 'Levi',\n",
       " 'tax',\n",
       " 'on',\n",
       " 'it.\\n',\n",
       " 'However,',\n",
       " 'the',\n",
       " 'problem',\n",
       " 'hasnâ€™t',\n",
       " 'been',\n",
       " 'solved',\n",
       " 'completely',\n",
       " 'because',\n",
       " 'the',\n",
       " 'implementation',\n",
       " 'it.\\n']"
      ]
     },
     "execution_count": 7,
     "metadata": {},
     "output_type": "execute_result"
    }
   ],
   "source": [
    "# word separating\n",
    "def readfile(filename):\n",
    "    f = open(filename,'r')\n",
    "    filedata = f.read()\n",
    "    return filedata\n",
    "filename= 'File Handling/d1.txt'\n",
    "wordlist = re.split('\\ ',readfile(filename))\n",
    "wordlist"
   ]
  },
  {
   "cell_type": "code",
   "execution_count": 2,
   "metadata": {},
   "outputs": [],
   "source": [
    "# frequency count of unique words\n",
    "def readfile(filename):\n",
    "    f = open(filename,'r')\n",
    "    filedata = f.read()\n",
    "    f.close()\n",
    "    return filedata\n",
    "filename = 'File Handling/d1.txt'\n",
    "\n",
    "    \n"
   ]
  },
  {
   "cell_type": "code",
   "execution_count": 3,
   "metadata": {},
   "outputs": [
    {
     "data": {
      "text/plain": [
       "{'': 1,\n",
       " 'Plastic': 1,\n",
       " 'bags': 1,\n",
       " 'are': 1,\n",
       " 'major': 1,\n",
       " 'cause': 1,\n",
       " 'of': 1,\n",
       " 'environmental': 1,\n",
       " 'pollution.\\n': 1,\n",
       " 'as': 1,\n",
       " 'a': 1,\n",
       " 'substance': 1,\n",
       " 'is': 1,\n",
       " 'non-biodegradable.\\n': 1,\n",
       " 'And': 1,\n",
       " 'thus': 1,\n",
       " 'plastic': 1,\n",
       " 'remain': 1,\n",
       " 'in': 1,\n",
       " 'the': 1,\n",
       " 'environment': 1,\n",
       " 'for': 1,\n",
       " 'hundreds': 1,\n",
       " 'years': 1,\n",
       " 'polluting': 1,\n",
       " 'immensely.\\n': 1,\n",
       " 'It': 1,\n",
       " 'become': 1,\n",
       " 'very': 1,\n",
       " 'essential': 1,\n",
       " 'to': 1,\n",
       " 'ban': 1,\n",
       " 'before': 1,\n",
       " 'they': 1,\n",
       " 'ruin': 1,\n",
       " 'our': 1,\n",
       " 'planet': 1,\n",
       " 'completely.\\n': 1,\n",
       " 'Many': 1,\n",
       " 'countries': 1,\n",
       " 'around': 1,\n",
       " 'globe': 1,\n",
       " 'have': 1,\n",
       " 'either': 1,\n",
       " 'put': 1,\n",
       " 'on': 1,\n",
       " 'bag': 1,\n",
       " 'or': 1,\n",
       " 'Levi': 1,\n",
       " 'tax': 1,\n",
       " 'it.\\n': 1,\n",
       " 'However,': 1,\n",
       " 'problem': 1,\n",
       " 'hasnâ€™t': 1,\n",
       " 'been': 1,\n",
       " 'solved': 1,\n",
       " 'completely': 1,\n",
       " 'because': 1,\n",
       " 'implementation': 1}"
      ]
     },
     "execution_count": 3,
     "metadata": {},
     "output_type": "execute_result"
    }
   ],
   "source": [
    "# extract unique words\n",
    "import re\n",
    "def extractUniqueWords(filename):\n",
    "    filedata = readfile(filename)\n",
    "    wordlist = re.split('\\ ',filedata)\n",
    "    uniqueWords = {}\n",
    "    for word in wordlist:\n",
    "        if word not in uniqueWords.keys():\n",
    "            uniqueWords[word] = 1\n",
    "    return uniqueWords\n",
    "\n",
    "filename = 'File Handling/d1.txt'\n",
    "extractUniqueWords(filename)\n",
    " "
   ]
  },
  {
   "cell_type": "code",
   "execution_count": null,
   "metadata": {},
   "outputs": [],
   "source": []
  }
 ],
 "metadata": {
  "kernelspec": {
   "display_name": "Python 3",
   "language": "python",
   "name": "python3"
  },
  "language_info": {
   "codemirror_mode": {
    "name": "ipython",
    "version": 3
   },
   "file_extension": ".py",
   "mimetype": "text/x-python",
   "name": "python",
   "nbconvert_exporter": "python",
   "pygments_lexer": "ipython3",
   "version": "3.7.4"
  }
 },
 "nbformat": 4,
 "nbformat_minor": 2
}
