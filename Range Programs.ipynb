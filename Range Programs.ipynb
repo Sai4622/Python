{
 "cells": [
  {
   "cell_type": "markdown",
   "metadata": {},
   "source": [
    "# Range Program"
   ]
  },
  {
   "cell_type": "markdown",
   "metadata": {},
   "source": [
    "## 1. Print  all the even numbers in the given range"
   ]
  },
  {
   "cell_type": "code",
   "execution_count": 1,
   "metadata": {},
   "outputs": [
    {
     "name": "stdout",
     "output_type": "stream",
     "text": [
      "2\n",
      "4\n",
      "6\n",
      "8\n",
      "10\n"
     ]
    }
   ],
   "source": [
    "i=1\n",
    "while i<=10:\n",
    "    if i%2==0:\n",
    "        print(i)\n",
    "    else:\n",
    "        pass\n",
    "\n",
    "    i+=1"
   ]
  },
  {
   "cell_type": "markdown",
   "metadata": {},
   "source": [
    "## 2. Print all the odd numbers in the given range "
   ]
  },
  {
   "cell_type": "code",
   "execution_count": 2,
   "metadata": {},
   "outputs": [
    {
     "name": "stdout",
     "output_type": "stream",
     "text": [
      "enter a numbe:12\n",
      "1 3 5 7 9 11 "
     ]
    }
   ],
   "source": [
    "n=int(input(\"Enter a Number:\"))\n",
    "for i in range(1,n+1):\n",
    "    if i%2!=0:\n",
    "        print(i,end=\" \")"
   ]
  },
  {
   "cell_type": "markdown",
   "metadata": {},
   "source": [
    "## 3. Print the sum of even numbers in the given range"
   ]
  },
  {
   "cell_type": "code",
   "execution_count": 5,
   "metadata": {},
   "outputs": [
    {
     "name": "stdout",
     "output_type": "stream",
     "text": [
      "Enter a Number:10\n",
      "sum of even numbers in given nrange 30\n"
     ]
    }
   ],
   "source": [
    "n=int(input(\"Enter a Number:\"))\n",
    "sum=0\n",
    "for i in range(1,n+1):\n",
    "    if i%2==0:\n",
    "        sum=sum+i\n",
    "    else:\n",
    "        pass\n",
    "print(\"sum of even numbers in given nrange\",sum)"
   ]
  },
  {
   "cell_type": "markdown",
   "metadata": {},
   "source": [
    "## 4. Print the digits of the given number"
   ]
  },
  {
   "cell_type": "code",
   "execution_count": 7,
   "metadata": {},
   "outputs": [
    {
     "name": "stdout",
     "output_type": "stream",
     "text": [
      "Enter a Number:10\n",
      "0\n",
      "1\n"
     ]
    }
   ],
   "source": [
    "n=int(input(\"Enter a Number:\"))\n",
    "i=n\n",
    "digit=0\n",
    "while i>0:\n",
    "    digit=i%10\n",
    "    print(digit)\n",
    "    i=i//10"
   ]
  },
  {
   "cell_type": "markdown",
   "metadata": {},
   "source": [
    "## 5.Multiplicative table for the given numbe"
   ]
  },
  {
   "cell_type": "code",
   "execution_count": 10,
   "metadata": {},
   "outputs": [
    {
     "name": "stdout",
     "output_type": "stream",
     "text": [
      "Enter a Number:5\n",
      "5 * 1 = 5\n",
      "5 * 2 = 10\n",
      "5 * 3 = 15\n",
      "5 * 4 = 20\n",
      "5 * 5 = 25\n",
      "5 * 6 = 30\n",
      "5 * 7 = 35\n",
      "5 * 8 = 40\n",
      "5 * 9 = 45\n",
      "5 * 10 = 50\n"
     ]
    }
   ],
   "source": [
    "n=int(input(\"Enter a Number:\"))\n",
    "for i in range(1,11):\n",
    "    print(n,\"*\",i,\"=\",n*i)"
   ]
  },
  {
   "cell_type": "markdown",
   "metadata": {},
   "source": [
    "## 6. In the given range:\n",
    "  #####   If number is only divisible by 3 print fizz\n",
    "  ##### If number is divisible by 5 print buzz\n",
    "  #####   If number is divisible by 3 and 5 print fizzbuzz"
   ]
  },
  {
   "cell_type": "code",
   "execution_count": 23,
   "metadata": {},
   "outputs": [
    {
     "name": "stdout",
     "output_type": "stream",
     "text": [
      "Enter a number:12\n",
      "fizz\n",
      "buzz\n",
      "fizz\n",
      "fizz\n",
      "buzz\n",
      "fizz\n"
     ]
    }
   ],
   "source": [
    "j=0\n",
    "n=int(input(\"Enter a number:\"))\n",
    "for i in range(1,n+1):\n",
    "    if i%3==0 and i%5!=0:\n",
    "        print(\"fizz\")\n",
    "    elif i%5==0 and i%3!=0:\n",
    "        print(\"buzz\")\n",
    "    elif i%3==0 and i%5==0:\n",
    "        print(\"fizzbuzz\")\n",
    "    else:\n",
    "        pass\n",
    "\n",
    "    "
   ]
  },
  {
   "cell_type": "code",
   "execution_count": null,
   "metadata": {},
   "outputs": [],
   "source": []
  }
 ],
 "metadata": {
  "kernelspec": {
   "display_name": "Python 3",
   "language": "python",
   "name": "python3"
  },
  "language_info": {
   "codemirror_mode": {
    "name": "ipython",
    "version": 3
   },
   "file_extension": ".py",
   "mimetype": "text/x-python",
   "name": "python",
   "nbconvert_exporter": "python",
   "pygments_lexer": "ipython3",
   "version": "3.7.4"
  }
 },
 "nbformat": 4,
 "nbformat_minor": 2
}
