{
 "cells": [
  {
   "cell_type": "markdown",
   "metadata": {},
   "source": [
    "# Lists"
   ]
  },
  {
   "cell_type": "code",
   "execution_count": 8,
   "metadata": {},
   "outputs": [
    {
     "name": "stdout",
     "output_type": "stream",
     "text": [
      "[1, 2, 3, 4, 5]\n"
     ]
    }
   ],
   "source": [
    "list=[1,2,3,4]\n",
    "list.append(5)\n",
    "print(list)\n",
    "#Append it will add new element at the end of the list"
   ]
  },
  {
   "cell_type": "code",
   "execution_count": 10,
   "metadata": {},
   "outputs": [
    {
     "name": "stdout",
     "output_type": "stream",
     "text": [
      "[]\n"
     ]
    }
   ],
   "source": [
    "list=[2,3,4,5,6]\n",
    "list.clear()\n",
    "print(list)\n",
    "#clear it will clear the total list"
   ]
  },
  {
   "cell_type": "code",
   "execution_count": 16,
   "metadata": {},
   "outputs": [
    {
     "name": "stdout",
     "output_type": "stream",
     "text": [
      "[1, 2, 3, 4, 5]\n"
     ]
    }
   ],
   "source": [
    "list=[1,2,3,4,5]\n",
    "x=list.copy()\n",
    "print(x)"
   ]
  },
  {
   "cell_type": "code",
   "execution_count": 22,
   "metadata": {},
   "outputs": [
    {
     "name": "stdout",
     "output_type": "stream",
     "text": [
      "2\n"
     ]
    }
   ],
   "source": [
    "list=[1,2,3,4,5,2,3]\n",
    "x=list.count(2)\n",
    "print(x)\n",
    "#it will Count Number element common in the list"
   ]
  },
  {
   "cell_type": "code",
   "execution_count": 23,
   "metadata": {},
   "outputs": [],
   "source": [
    "fruits = ['apple', 'banana', 'cherry']\n",
    "\n",
    "cars = ['Ford', 'BMW', 'Volvo']\n",
    "\n",
    "fruits.extend(cars)"
   ]
  },
  {
   "cell_type": "code",
   "execution_count": 56,
   "metadata": {},
   "outputs": [
    {
     "name": "stdout",
     "output_type": "stream",
     "text": [
      "Enter M1 Marks:80\n",
      "Enter M2 Marks:70\n",
      "Enter M3 Marks:90\n",
      "total 240\n",
      "avg 80.0\n",
      "Got Minmum marks\n",
      "Grade is A\n"
     ]
    }
   ],
   "source": [
    "#Accept three number as input from the user ,you need to check whether student got min marks(30)in all the subject.if not print fail if he got minmimum marks then find the avg if the avg is >75...print grade as A.if the avg is between 60-75,print grand a B.if the avg is between 30-60,print as grand C,if the <30 print it as fail.....\n",
    "m1=int(input(\"Enter M1 Marks:\"))\n",
    "m2=int(input(\"Enter M2 Marks:\"))\n",
    "m3=int(input(\"Enter M3 Marks:\"))\n",
    "total=m1+m2+m3\n",
    "print(\"total\",total)\n",
    "avg=total/3\n",
    "print(\"avg\",avg)\n",
    "if m1>=30 and m2>=30 and m3>=30:\n",
    "    print(\"Got Minmum marks\")\n",
    "    if avg>75:\n",
    "        print(\"Grade is A\")\n",
    "    elif avg<=70 and avg>=60:\n",
    "        print(\"Grade is B\")\n",
    "    elif avg<=60 and avg>=30:\n",
    "        print(\"Grade is C\")\n",
    "    elif avg<30:\n",
    "        print(\"Fail\")\n",
    "else:\n",
    "            print(\"Fail\")"
   ]
  },
  {
   "cell_type": "code",
   "execution_count": null,
   "metadata": {},
   "outputs": [],
   "source": []
  }
 ],
 "metadata": {
  "kernelspec": {
   "display_name": "Python 3",
   "language": "python",
   "name": "python3"
  },
  "language_info": {
   "codemirror_mode": {
    "name": "ipython",
    "version": 3
   },
   "file_extension": ".py",
   "mimetype": "text/x-python",
   "name": "python",
   "nbconvert_exporter": "python",
   "pygments_lexer": "ipython3",
   "version": "3.7.4"
  }
 },
 "nbformat": 4,
 "nbformat_minor": 2
}
