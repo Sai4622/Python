{
 "cells": [
  {
   "cell_type": "markdown",
   "metadata": {},
   "source": [
    "# Variable Length Argument"
   ]
  },
  {
   "cell_type": "code",
   "execution_count": 11,
   "metadata": {},
   "outputs": [
    {
     "name": "stdout",
     "output_type": "stream",
     "text": [
      "1\n",
      "3\n",
      "6\n",
      "10\n",
      "15\n"
     ]
    }
   ],
   "source": [
    "def addition(*b):\n",
    "    sum=0\n",
    "    for i in b:\n",
    "        sum=sum+i\n",
    "        print(sum)\n",
    "addition(1,2,3,4,5)\n",
    "#If you do not know how many arguments that will be passed into your function,\n",
    "#add a * before the parameter name in the function definition."
   ]
  },
  {
   "cell_type": "markdown",
   "metadata": {},
   "source": [
    "# Position Arguments:\n"
   ]
  },
  {
   "cell_type": "code",
   "execution_count": 2,
   "metadata": {},
   "outputs": [
    {
     "name": "stdout",
     "output_type": "stream",
     "text": [
      "60\n"
     ]
    }
   ],
   "source": [
    "def addition(a,b,c):\n",
    "    sum=a+b+c\n",
    "    print(sum)\n",
    "addition(10,20,30)\n",
    "#We have specified the no of parameter in function we have to pass the same no of value \n",
    "# we will specified the value at Run time only"
   ]
  },
  {
   "cell_type": "markdown",
   "metadata": {},
   "source": [
    "# Default argument "
   ]
  },
  {
   "cell_type": "code",
   "execution_count": 9,
   "metadata": {},
   "outputs": [
    {
     "name": "stdout",
     "output_type": "stream",
     "text": [
      "30\n"
     ]
    }
   ],
   "source": [
    "def addition(a,b=10):\n",
    "    sum=a+b\n",
    "    print(sum)\n",
    "addition(20)\n",
    "#default Arguments we have to Specified the default argument at the first position and next specified the value.."
   ]
  },
  {
   "cell_type": "markdown",
   "metadata": {},
   "source": [
    "# Keyword Argument"
   ]
  },
  {
   "cell_type": "code",
   "execution_count": 7,
   "metadata": {},
   "outputs": [
    {
     "name": "stdout",
     "output_type": "stream",
     "text": [
      "40\n"
     ]
    }
   ],
   "source": [
    "def addition(c,b,a):\n",
    "    sum=a+b+c\n",
    "    print(sum)\n",
    "addition(c=20,b=10,a=10)\n",
    "#Keyword argument we can pass the parameter in any manner and we can pass the value to pararmeter\n",
    "#by using reference name (a=10,c=20,b=30)"
   ]
  },
  {
   "cell_type": "code",
   "execution_count": null,
   "metadata": {},
   "outputs": [],
   "source": []
  },
  {
   "cell_type": "markdown",
   "metadata": {},
   "source": [
    "### ->A prime number is a whole number greater than 1 whose only factors are 1 and itself. A factor is a whole numbers that can be divided evenly into another number. The first few prime numbers are 2, 3, 5, 7, 11, 13, 17, 19, 23 and 29. Numbers that have more than two factors are called composite numbers."
   ]
  },
  {
   "cell_type": "markdown",
   "metadata": {},
   "source": [
    "### ->The factorial of a number is the product of all the integers from 1 to that number. For example, the factorial of 6 (denoted as 6!) is 1*2*3*4*5*6 = 720. Factorial is not defined for negative numbers and the factorial of zero is one, 0!"
   ]
  },
  {
   "cell_type": "markdown",
   "metadata": {},
   "source": [
    "### ->Armstrong number is a number that is equal to the sum of cubes of its digits. For example 0, 1, 153, 370, 371 and 407 are the Armstrong numbers."
   ]
  },
  {
   "cell_type": "markdown",
   "metadata": {},
   "source": [
    "## 1. Accept name as input and search for that name in the master list if the name is available, print yes or print no"
   ]
  },
  {
   "cell_type": "code",
   "execution_count": 6,
   "metadata": {},
   "outputs": [
    {
     "name": "stdout",
     "output_type": "stream",
     "text": [
      "Enter a String:Saiteja\n",
      "yes\n"
     ]
    }
   ],
   "source": [
    "def present(a,b):\n",
    "    if b in list:\n",
    "        print(\"yes\")\n",
    "    else:\n",
    "        print(\"No\")\n",
    "b=input(\"Enter a String:\")\n",
    "list=[\"Saiteja\",\"Vijaya\",\"Pawan\",\"Kishore\",\"Ravali\",\"Shaik\"]\n",
    "present(a,b)"
   ]
  },
  {
   "cell_type": "markdown",
   "metadata": {},
   "source": [
    "# 2. Print the count of the students whose age is >20"
   ]
  },
  {
   "cell_type": "code",
   "execution_count": 3,
   "metadata": {},
   "outputs": [
    {
     "name": "stdout",
     "output_type": "stream",
     "text": [
      "4\n"
     ]
    }
   ],
   "source": [
    "def count_age(x):\n",
    "    list=[]\n",
    "    for i in x.values():\n",
    "        if i>20:\n",
    "            list.append(i)\n",
    "        else:\n",
    "            pass\n",
    "    print(len(list))      \n",
    "students={\"vijaya\":23,\"teja\":20,\"pawan\":19,\"sai\":24,\"ram\":32,\"ravali\":55,\"naseer\":20}\n",
    "count_age(students)\n"
   ]
  },
  {
   "cell_type": "markdown",
   "metadata": {},
   "source": [
    "# 3. Read the Input as number and print the output as true or false. If the input number is prime then print true otherwise print fasle"
   ]
  },
  {
   "cell_type": "markdown",
   "metadata": {},
   "source": [
    "### Example 1:\n",
    "#### Input : 11\n",
    "#### Output : True"
   ]
  },
  {
   "cell_type": "code",
   "execution_count": 5,
   "metadata": {},
   "outputs": [
    {
     "name": "stdout",
     "output_type": "stream",
     "text": [
      "enter the value:10\n",
      "False\n"
     ]
    }
   ],
   "source": [
    "def prime(n):\n",
    "    x=0\n",
    "    for i in range(1,n+1):\n",
    "        if n%i==0:\n",
    "            x+=1\n",
    "    if x==2:\n",
    "        print(\"True\")\n",
    "    else:\n",
    "        print(\"False\")        \n",
    "n=int(input(\"enter the value:\"))\n",
    "prime(n)"
   ]
  },
  {
   "cell_type": "markdown",
   "metadata": {},
   "source": [
    "# 4.Read the input as number N and print the output as prime number count between 1 to N\n",
    "### Example 1;\n",
    "#### Input : 10\n",
    "#### Output : 4 (2,3,5,7)\n"
   ]
  },
  {
   "cell_type": "code",
   "execution_count": 1,
   "metadata": {},
   "outputs": [
    {
     "name": "stdout",
     "output_type": "stream",
     "text": [
      "Enter upper range: 10\n",
      "2,3,5,7,count 4\n"
     ]
    }
   ],
   "source": [
    "upto = int(input(\"Enter upper range: \"))  \n",
    "cnt = 0\n",
    "for num in range(1,upto + 1):\n",
    "   \n",
    "   if num > 1:  \n",
    "        for i in range(2,num):  \n",
    "            if (num % i) == 0:  \n",
    "                break       \n",
    "        else:\n",
    "            print(num,end=\",\")\n",
    "            cnt+=1\n",
    "print(\"count\", cnt)\n"
   ]
  },
  {
   "cell_type": "markdown",
   "metadata": {},
   "source": [
    "# 5. Read the input as two limits and print the output as palindrome count between the two limits\n",
    "### Example 1;\n",
    "#### Input : 1 10\n",
    "##### Output : 1 2 3 4 5 6 7 8 9"
   ]
  },
  {
   "cell_type": "code",
   "execution_count": 6,
   "metadata": {},
   "outputs": [
    {
     "name": "stdout",
     "output_type": "stream",
     "text": [
      "1\n",
      "2\n",
      "3\n",
      "4\n",
      "5\n",
      "6\n",
      "7\n",
      "8\n",
      "9\n"
     ]
    }
   ],
   "source": [
    "for num in range(1,10):\n",
    "    temp=num\n",
    "    reverse=0\n",
    "    while temp>0:\n",
    "        reminder=temp%10\n",
    "        reverse=(reverse*10)+reminder\n",
    "        temp=temp//10\n",
    "    if num==reverse:\n",
    "        print(num)"
   ]
  },
  {
   "cell_type": "code",
   "execution_count": null,
   "metadata": {},
   "outputs": [],
   "source": []
  },
  {
   "cell_type": "code",
   "execution_count": null,
   "metadata": {},
   "outputs": [],
   "source": []
  }
 ],
 "metadata": {
  "kernelspec": {
   "display_name": "Python 3",
   "language": "python",
   "name": "python3"
  },
  "language_info": {
   "codemirror_mode": {
    "name": "ipython",
    "version": 3
   },
   "file_extension": ".py",
   "mimetype": "text/x-python",
   "name": "python",
   "nbconvert_exporter": "python",
   "pygments_lexer": "ipython3",
   "version": "3.7.4"
  }
 },
 "nbformat": 4,
 "nbformat_minor": 2
}
