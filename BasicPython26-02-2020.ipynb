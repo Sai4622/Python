{
 "cells": [
  {
   "cell_type": "markdown",
   "metadata": {},
   "source": [
    "# Concepts\n",
    "- Basics\n",
    "- Datatypes adn Conversions\n",
    "- Control Statements\n",
    "    -Conditional Statement\n",
    "    -Looping Statement\n",
    "- Functional Programming\n",
    "- List,Tuples,Dict\n",
    "- External Packages\n",
    "    -Math\n",
    "- Regural Expressions\n",
    "- File Handling\n",
    "    -Reading the File Data\n",
    "    -Writing the File Data\n",
    "    -Perform the Operations on the File\n",
    "- oops\n",
    "    -Class\n",
    "    -Objects\n",
    "    -Methods\n",
    "    -Constructors\n",
    "    -inheritance\n",
    "- Exception Handling,Lamdba Expressions"
   ]
  },
  {
   "cell_type": "markdown",
   "metadata": {},
   "source": [
    "# Functional Programming\n",
    "- Reduce the Complex\n",
    "- Reuseable Block\n",
    "- Divides the lengthy Program into Sun Blocks so that it is easy for Read\n",
    "- Function and Varaible Should be Write in Camel Case"
   ]
  },
  {
   "cell_type": "code",
   "execution_count": 1,
   "metadata": {},
   "outputs": [
    {
     "data": {
      "text/plain": [
       "int"
      ]
     },
     "execution_count": 1,
     "metadata": {},
     "output_type": "execute_result"
    }
   ],
   "source": [
    "def test(v):\n",
    "    return type(v)\n",
    "v=4622\n",
    "test(v)"
   ]
  },
  {
   "cell_type": "code",
   "execution_count": 2,
   "metadata": {},
   "outputs": [
    {
     "data": {
      "text/plain": [
       "'ProMize'"
      ]
     },
     "execution_count": 2,
     "metadata": {},
     "output_type": "execute_result"
    }
   ],
   "source": [
    "def isTest():\n",
    "    return \"ProMize\"\n",
    "isTest()  # Calling Function"
   ]
  },
  {
   "cell_type": "code",
   "execution_count": 3,
   "metadata": {},
   "outputs": [
    {
     "data": {
      "text/plain": [
       "'Dhyanahita'"
      ]
     },
     "execution_count": 3,
     "metadata": {},
     "output_type": "execute_result"
    }
   ],
   "source": [
    "def Value(x):\n",
    "    return x\n",
    "Value(\"Dhyanahita\")"
   ]
  },
  {
   "cell_type": "code",
   "execution_count": 6,
   "metadata": {},
   "outputs": [
    {
     "data": {
      "text/plain": [
       "'I am Good Boy'"
      ]
     },
     "execution_count": 6,
     "metadata": {},
     "output_type": "execute_result"
    }
   ],
   "source": [
    "def funName():\n",
    "    return \"I am Good Boy\"\n",
    "funName()"
   ]
  },
  {
   "cell_type": "code",
   "execution_count": 9,
   "metadata": {},
   "outputs": [
    {
     "data": {
      "text/plain": [
       "[1, 2, 3, 4]"
      ]
     },
     "execution_count": 9,
     "metadata": {},
     "output_type": "execute_result"
    }
   ],
   "source": [
    "def inputTest(x):\n",
    "    return x\n",
    "a=[1,2,3,4]\n",
    "inputTest(a)"
   ]
  },
  {
   "cell_type": "code",
   "execution_count": 14,
   "metadata": {},
   "outputs": [
    {
     "data": {
      "text/plain": [
       "list"
      ]
     },
     "execution_count": 14,
     "metadata": {},
     "output_type": "execute_result"
    }
   ],
   "source": [
    "def isValue(s):\n",
    "    return type(s)\n",
    "s=[1,2,3]\n",
    "isValue(s)"
   ]
  },
  {
   "cell_type": "markdown",
   "metadata": {},
   "source": [
    "# Coding Standards\n",
    "- Variable Name:Use a lowercase single letter, word, or words. Separate words with underscores to improve readability.\n",
    "    -Example->x, var, my_variable\n",
    "- Function Name:Use a lowercase word or words. Separate words by underscores to improve readability.\n",
    "    -Example-> function, my_function\n",
    "- Constructor Name: __init__ it is a default Contructors in Python \n",
    "- Class Name:Start each word with a capital letter. Do not separate words with underscores. This style is called camel case.\n",
    "    -Example->Model, MyClass\n",
    "- import  : import Packagename\n",
    "- import  : from packagename import function1,2......"
   ]
  },
  {
   "cell_type": "markdown",
   "metadata": {},
   "source": [
    "# Extenal Packages : import statement re,math,pandas,mathlib...\n",
    "# Regular Expression Creating\n",
    "- Checking for Numbers\n",
    "- Checking For lower case and Upper case\n",
    "- Checking for Special Character"
   ]
  },
  {
   "cell_type": "code",
   "execution_count": 15,
   "metadata": {},
   "outputs": [],
   "source": [
    "import re"
   ]
  },
  {
   "cell_type": "code",
   "execution_count": 16,
   "metadata": {},
   "outputs": [
    {
     "name": "stdout",
     "output_type": "stream",
     "text": [
      "True\n",
      "False\n"
     ]
    }
   ],
   "source": [
    "def two_digits(n):\n",
    "    pattern='^[0-9]{2}$'\n",
    "    n=str(n)\n",
    "    if re.match(pattern,n):\n",
    "        return True\n",
    "    return False\n",
    "print(two_digits(12))\n",
    "print(two_digits(123))"
   ]
  },
  {
   "cell_type": "code",
   "execution_count": 19,
   "metadata": {},
   "outputs": [
    {
     "name": "stdout",
     "output_type": "stream",
     "text": [
      "True\n",
      "False\n"
     ]
    }
   ],
   "source": [
    "def username(name):\n",
    "    pattern='^[A-Z][a-z A-Z]{5,11}$'\n",
    "    if re.match(pattern,name):\n",
    "        return True\n",
    "    return False\n",
    "print(username('Saiteja'))\n",
    "print(username('saiteja'))"
   ]
  },
  {
   "cell_type": "code",
   "execution_count": 24,
   "metadata": {},
   "outputs": [
    {
     "name": "stdout",
     "output_type": "stream",
     "text": [
      "True\n",
      "True\n",
      "False\n",
      "False\n"
     ]
    }
   ],
   "source": [
    "#Valoidate-DHS00120\n",
    "#DHS00120 -DHS00999\n",
    "def validate(number):\n",
    "    pattern='^[D][H][S][0][0][1-9][2-9][0-9]$'\n",
    "    if re.match(pattern,number):\n",
    "        return True\n",
    "    return False\n",
    "print(validate('DHS00120'))\n",
    "print(validate('DHS00999'))\n",
    "print(validate('DHS01299'))\n",
    "print(validate('SHS00120'))"
   ]
  },
  {
   "cell_type": "code",
   "execution_count": 38,
   "metadata": {},
   "outputs": [
    {
     "name": "stdout",
     "output_type": "stream",
     "text": [
      "True\n",
      "True\n",
      "True\n",
      "False\n"
     ]
    }
   ],
   "source": [
    "def phone_number(phone):\n",
    "    pattern='^[6-9][0-9]{9}|[0][0-9]{10}|[+][9][1][-][0-9]{10}$'\n",
    "    n=str(phone)\n",
    "    if re.match(pattern,n):\n",
    "        return True\n",
    "    return False\n",
    "print(phone_number('6998877664'))\n",
    "print(phone_number('09988776644'))\n",
    "print(phone_number('+91-6998877664'))\n",
    "print(phone_number('5998877664'))"
   ]
  },
  {
   "cell_type": "code",
   "execution_count": 45,
   "metadata": {},
   "outputs": [
    {
     "name": "stdout",
     "output_type": "stream",
     "text": [
      "False\n",
      "False\n",
      "False\n"
     ]
    }
   ],
   "source": [
    "# USername Validate\n",
    "#Should need to Contains One Upper Case\n",
    "#case,6 Lower Case m,1 Digit\n",
    "def username(name):\n",
    "    pattern='^[A-Z][a-z]{6}[0-9]{1}$'\n",
    "    if re.match(pattern,name):\n",
    "        return True\n",
    "    return False\n",
    "\n",
    "print(username('saiTeja1'))\n",
    "print(username('SaiTeja1'))\n",
    "print(username('1aiteja1'))"
   ]
  },
  {
   "cell_type": "code",
   "execution_count": null,
   "metadata": {},
   "outputs": [],
   "source": []
  }
 ],
 "metadata": {
  "kernelspec": {
   "display_name": "Python 3",
   "language": "python",
   "name": "python3"
  },
  "language_info": {
   "codemirror_mode": {
    "name": "ipython",
    "version": 3
   },
   "file_extension": ".py",
   "mimetype": "text/x-python",
   "name": "python",
   "nbconvert_exporter": "python",
   "pygments_lexer": "ipython3",
   "version": "3.7.4"
  }
 },
 "nbformat": 4,
 "nbformat_minor": 2
}
