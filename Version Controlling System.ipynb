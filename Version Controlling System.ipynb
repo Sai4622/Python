{
 "cells": [
  {
   "cell_type": "markdown",
   "metadata": {},
   "source": [
    "## Version Controlling System"
   ]
  },
  {
   "cell_type": "markdown",
   "metadata": {},
   "source": [
    "#### Version Controlling System is Used To provide the Dupilate Copy of The Software of the Pervious Version of the  particual software\n",
    "#### Ex:GIT"
   ]
  },
  {
   "cell_type": "markdown",
   "metadata": {},
   "source": [
    "## Basic Linux Commands"
   ]
  },
  {
   "cell_type": "code",
   "execution_count": 1,
   "metadata": {},
   "outputs": [],
   "source": [
    "#1.pwd--Present Working Directory\n",
    "#2.ls--Lists of files and Folders\n",
    "#3.clear--clear the screen \n",
    "#4.cd..--Change the Directory to previous one\n",
    "#5.cd--change the Directory to next Directory \n",
    "#6.cd-- Go the Default Folder\n",
    "#7.mkdir--Create a Floder in Drive\n",
    "#     touch,gedit,cat,vi--Used to Work with Folders\n",
    "#8.touch--Create a File\n",
    "#9.gedit--Edit the File\n",
    "#10.cat--Read the File data\n",
    "#11.vi--Write and Read \n",
    "#12.echo--create a new Folder\n",
    "#https://sites.google.com/view/gitam-skill-enhancement-july/resources/versioncontrol-git\n",
    "#13.ls -a--is used to see the hidden folder\n",
    "#14.nano--It is used to add Multiply Line in the File"
   ]
  },
  {
   "cell_type": "markdown",
   "metadata": {},
   "source": [
    "### Git Commands"
   ]
  },
  {
   "cell_type": "code",
   "execution_count": null,
   "metadata": {},
   "outputs": [],
   "source": [
    "#1.git version--Current Version of git in the your Computer\n",
    "#2.cd..Change the folder\n",
    "#3.mkdir--Create a Folder in The Current Dirt\n",
    "#4.touch--Create a File\n",
    "#5.ls--Check the File Presnt in the Folder\n",
    "#6.echo--used to add the data in file in only Single Line\n",
    "#7.nano--used to add Mutiply line in the file\n",
    "#\">\"--is add new line into the file\n",
    "#\">>\"--is used to append lines\n",
    "#8.cat-- is used to read the data in the file\n",
    "#9.git status -- to check the status of the file\n",
    "#10.git init--Used For New Project Creation initialized \n",
    "#11.ls -a -- show the hidden files and foders of the given dic"
   ]
  }
 ],
 "metadata": {
  "kernelspec": {
   "display_name": "Python 3",
   "language": "python",
   "name": "python3"
  },
  "language_info": {
   "codemirror_mode": {
    "name": "ipython",
    "version": 3
   },
   "file_extension": ".py",
   "mimetype": "text/x-python",
   "name": "python",
   "nbconvert_exporter": "python",
   "pygments_lexer": "ipython3",
   "version": "3.7.4"
  }
 },
 "nbformat": 4,
 "nbformat_minor": 2
}
