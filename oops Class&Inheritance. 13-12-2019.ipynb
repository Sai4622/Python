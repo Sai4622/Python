{
 "cells": [
  {
   "cell_type": "code",
   "execution_count": 1,
   "metadata": {},
   "outputs": [
    {
     "name": "stdout",
     "output_type": "stream",
     "text": [
      "Hello\n"
     ]
    }
   ],
   "source": [
    "#Class-->Virtual Representation\n",
    "#Object-->Physical Reprentation\n",
    "#inheritance\n",
    "#Polymorphism\n",
    "#Data abstraction\n",
    "#Encapsulation"
   ]
  },
  {
   "cell_type": "code",
   "execution_count": 1,
   "metadata": {},
   "outputs": [
    {
     "name": "stdout",
     "output_type": "stream",
     "text": [
      "Hello\n"
     ]
    }
   ],
   "source": [
    "class Employee:\n",
    "    def print_info(self):\n",
    "        print(\"Hello\")\n",
    "\n",
    "e=Employee()\n",
    "e.print_info()"
   ]
  },
  {
   "cell_type": "code",
   "execution_count": 8,
   "metadata": {},
   "outputs": [
    {
     "name": "stdout",
     "output_type": "stream",
     "text": [
      "314.0\n",
      "125.60000000000001\n",
      "153.86\n",
      "87.92\n",
      "2\n"
     ]
    }
   ],
   "source": [
    "#Create a Circle Class and Print area and Perimeter of the Circle..\n",
    "class Circle:\n",
    "    Count=0 #Class Variable\n",
    "    def __init__(self,r):# Const\n",
    "        self.r = r #Instance Variable\n",
    "        Circle.Count +=1\n",
    "    def area(self):#Method\n",
    "        print(3.14*self.r*self.r)\n",
    "    def Perimeter(self):#Method\n",
    "        print(4*3.14*self.r)\n",
    "    def display_count():#Method\n",
    "        print(Circle.Count)\n",
    "        \n",
    "c=Circle(10)#Creating a object For Class Passing the Value\n",
    "c.area()#Calling the Method\n",
    "c.Perimeter()\n",
    "c1=Circle(7)\n",
    "c1.area()\n",
    "c1.Perimeter()\n",
    "Circle.display_count()\n",
    "#Self is Current Class Object       "
   ]
  },
  {
   "cell_type": "markdown",
   "metadata": {},
   "source": [
    "### Inheritance..\n",
    "##### 1.Single\n",
    "##### 2.Multiple\n",
    "##### 3.Multi-level\n",
    "##### 4.Hierarchical\n",
    "##### 5.Hybrid"
   ]
  },
  {
   "cell_type": "code",
   "execution_count": 9,
   "metadata": {},
   "outputs": [
    {
     "name": "stdout",
     "output_type": "stream",
     "text": [
      "This is Class A Method\n",
      "This is Class A Method\n"
     ]
    }
   ],
   "source": [
    "class A:\n",
    "    def add(self):\n",
    "        print(\"This is Class A Method\")\n",
    "class B(A):\n",
    "    def sub(self):\n",
    "        print(\"This is Class B Method\")\n",
    "a=A()\n",
    "b=B()\n",
    "a.add()\n",
    "b.add()\n",
    "#Single inheritance"
   ]
  },
  {
   "cell_type": "code",
   "execution_count": 11,
   "metadata": {},
   "outputs": [
    {
     "name": "stdout",
     "output_type": "stream",
     "text": [
      "This is Class A Method\n",
      "This is Class A sub Method\n"
     ]
    }
   ],
   "source": [
    "class A:\n",
    "    def add(self):\n",
    "        print(\"This is Class A Method\")\n",
    "    def sub(self):\n",
    "        print(\"This is Class A sub Method\")\n",
    "class B:\n",
    "    def sub(self):\n",
    "        print(\"This is Class B Method\")\n",
    "class C(A,B):\n",
    "    pass\n",
    "c=C()\n",
    "c.add()\n",
    "c.sub()\n",
    "#Multiple inheritance"
   ]
  },
  {
   "cell_type": "code",
   "execution_count": 12,
   "metadata": {},
   "outputs": [
    {
     "name": "stdout",
     "output_type": "stream",
     "text": [
      "This is Class A Method\n",
      "This is Class B Method\n",
      "This is Class C Method\n"
     ]
    }
   ],
   "source": [
    "#Multi-level inheritance\n",
    "class A:\n",
    "    def add(self):\n",
    "        print(\"This is Class A Method\")\n",
    "class B(A):\n",
    "    def sub(self):\n",
    "        print(\"This is Class B Method\")\n",
    "class C(B):\n",
    "    def mul(self):\n",
    "        print(\"This is Class C Method\")\n",
    "c=C()\n",
    "c.add()\n",
    "c.sub()\n",
    "c.mul()"
   ]
  },
  {
   "cell_type": "code",
   "execution_count": 14,
   "metadata": {},
   "outputs": [
    {
     "name": "stdout",
     "output_type": "stream",
     "text": [
      "This is Class A Method\n",
      "This is Class B Method\n",
      "This is Class A Method\n",
      "This is Class C Method\n"
     ]
    }
   ],
   "source": [
    "#Hierachical inheritance Class is Holdind Multiply Method\n",
    "class A:\n",
    "    def add(self):\n",
    "        print(\"This is Class A Method\")\n",
    "class B(A):\n",
    "    def sub(self):\n",
    "        print(\"This is Class B Method\")\n",
    "class C(A):\n",
    "    def mul(self):\n",
    "        print(\"This is Class C Method\")\n",
    "b=B()\n",
    "c=C()\n",
    "b.add()\n",
    "b.sub()\n",
    "c.add()\n",
    "c.mul()"
   ]
  },
  {
   "cell_type": "code",
   "execution_count": 16,
   "metadata": {},
   "outputs": [
    {
     "ename": "TypeError",
     "evalue": "Cannot create a consistent method resolution\norder (MRO) for bases A, B",
     "output_type": "error",
     "traceback": [
      "\u001b[1;31m---------------------------------------------------------------------------\u001b[0m",
      "\u001b[1;31mTypeError\u001b[0m                                 Traceback (most recent call last)",
      "\u001b[1;32m<ipython-input-16-e218f985635b>\u001b[0m in \u001b[0;36m<module>\u001b[1;34m\u001b[0m\n\u001b[0;32m      6\u001b[0m     \u001b[1;32mdef\u001b[0m \u001b[0msub\u001b[0m\u001b[1;33m(\u001b[0m\u001b[0mself\u001b[0m\u001b[1;33m)\u001b[0m\u001b[1;33m:\u001b[0m\u001b[1;33m\u001b[0m\u001b[1;33m\u001b[0m\u001b[0m\n\u001b[0;32m      7\u001b[0m         \u001b[0mprint\u001b[0m\u001b[1;33m(\u001b[0m\u001b[1;34m\"This is Class B Method\"\u001b[0m\u001b[1;33m)\u001b[0m\u001b[1;33m\u001b[0m\u001b[1;33m\u001b[0m\u001b[0m\n\u001b[1;32m----> 8\u001b[1;33m \u001b[1;32mclass\u001b[0m \u001b[0mC\u001b[0m\u001b[1;33m(\u001b[0m\u001b[0mA\u001b[0m\u001b[1;33m,\u001b[0m\u001b[0mB\u001b[0m\u001b[1;33m)\u001b[0m\u001b[1;33m:\u001b[0m\u001b[1;33m\u001b[0m\u001b[1;33m\u001b[0m\u001b[0m\n\u001b[0m\u001b[0;32m      9\u001b[0m     \u001b[1;32mdef\u001b[0m \u001b[0mmul\u001b[0m\u001b[1;33m(\u001b[0m\u001b[0mself\u001b[0m\u001b[1;33m)\u001b[0m\u001b[1;33m:\u001b[0m\u001b[1;33m\u001b[0m\u001b[1;33m\u001b[0m\u001b[0m\n\u001b[0;32m     10\u001b[0m         \u001b[0mprint\u001b[0m\u001b[1;33m(\u001b[0m\u001b[1;34m\"This is Class C Method\"\u001b[0m\u001b[1;33m)\u001b[0m\u001b[1;33m\u001b[0m\u001b[1;33m\u001b[0m\u001b[0m\n",
      "\u001b[1;31mTypeError\u001b[0m: Cannot create a consistent method resolution\norder (MRO) for bases A, B"
     ]
    }
   ],
   "source": [
    "#Hybrid inheritance-->Hierarchical+multiple\n",
    "class A:\n",
    "    def add(self):\n",
    "        print(\"This is Class A Method\")\n",
    "class B(A):\n",
    "    def sub(self):\n",
    "        print(\"This is Class B Method\")\n",
    "class C(A,B):\n",
    "    def mul(self):\n",
    "        print(\"This is Class C Method\")\n",
    "class D:\n",
    "    def div(self):\n",
    "        print(\"This is Class A Method\")\n",
    "d=C()\n",
    "d.add()"
   ]
  },
  {
   "cell_type": "code",
   "execution_count": 2,
   "metadata": {},
   "outputs": [
    {
     "ename": "SyntaxError",
     "evalue": "invalid syntax (<ipython-input-2-519c18263403>, line 16)",
     "output_type": "error",
     "traceback": [
      "\u001b[1;36m  File \u001b[1;32m\"<ipython-input-2-519c18263403>\"\u001b[1;36m, line \u001b[1;32m16\u001b[0m\n\u001b[1;33m    print(\"Student RollNo is:\"self.r)\u001b[0m\n\u001b[1;37m                                 ^\u001b[0m\n\u001b[1;31mSyntaxError\u001b[0m\u001b[1;31m:\u001b[0m invalid syntax\n"
     ]
    }
   ],
   "source": [
    "#Real time Scenarious:\n",
    "#Class 1\n",
    "#->Method Student Details:name,rollno,brance\n",
    "#Method :Print Student Details\n",
    "#Class 2\n",
    "#->Members-->rollno,total fee,paid\n",
    "#Members-->Print the due amount\n",
    "\n",
    "class student():\n",
    "    def __init__(self,n,r,b):\n",
    "        self.r=Name\n",
    "        self.r=Rollno\n",
    "        self.b=Brance\n",
    "    def display(self):\n",
    "        print(\"Student Name is:\",self.n)\n",
    "        print(\"Student RollNo is:\"self.r)\n",
    "        print(\"Student Brance is:\"self.b)\n",
    "class Student2(student):\n",
    "    def "
   ]
  },
  {
   "cell_type": "code",
   "execution_count": 17,
   "metadata": {},
   "outputs": [
    {
     "name": "stdout",
     "output_type": "stream",
     "text": [
      "[<class '__main__.D'>, <class '__main__.A'>, <class '__main__.B'>, <class 'object'>]\n"
     ]
    }
   ],
   "source": [
    "class A:\n",
    "    def M1(self):\n",
    "        print(\"M1\")\n",
    "class B:\n",
    "    def M1(self):\n",
    "        print(\"M1\")\n",
    "class C:\n",
    "    def M1(self):\n",
    "        print(\"M1\")\n",
    "class D(A,B):\n",
    "    def M1(self):\n",
    "        print(\"M1\")\n",
    "class E(B,C):\n",
    "    def M1(self):\n",
    "        print(\"M1\")\n",
    "class F(D,E):\n",
    "    def M1(self):\n",
    "        print(\"M1\")\n",
    "f=F()\n",
    "print(D.mro())\n",
    "#mro Method"
   ]
  },
  {
   "cell_type": "code",
   "execution_count": null,
   "metadata": {},
   "outputs": [],
   "source": []
  }
 ],
 "metadata": {
  "kernelspec": {
   "display_name": "Python 3",
   "language": "python",
   "name": "python3"
  },
  "language_info": {
   "codemirror_mode": {
    "name": "ipython",
    "version": 3
   },
   "file_extension": ".py",
   "mimetype": "text/x-python",
   "name": "python",
   "nbconvert_exporter": "python",
   "pygments_lexer": "ipython3",
   "version": "3.7.4"
  }
 },
 "nbformat": 4,
 "nbformat_minor": 2
}
