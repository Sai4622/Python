{
 "cells": [
  {
   "cell_type": "markdown",
   "metadata": {},
   "source": [
    "# Filehandling"
   ]
  },
  {
   "cell_type": "code",
   "execution_count": 32,
   "metadata": {},
   "outputs": [
    {
     "data": {
      "text/plain": [
       "'r'"
      ]
     },
     "execution_count": 32,
     "metadata": {},
     "output_type": "execute_result"
    }
   ],
   "source": [
    "f=open(\"Python.txt\") \n",
    "f.mode               #checking  which mode it is [read() or write()]"
   ]
  },
  {
   "cell_type": "code",
   "execution_count": 27,
   "metadata": {},
   "outputs": [
    {
     "data": {
      "text/plain": [
       "9"
      ]
     },
     "execution_count": 27,
     "metadata": {},
     "output_type": "execute_result"
    }
   ],
   "source": [
    "f.write(\"This is a pyhton \\n\")\n",
    "f.write(\"Thank you\")"
   ]
  },
  {
   "cell_type": "code",
   "execution_count": 22,
   "metadata": {},
   "outputs": [
    {
     "data": {
      "text/plain": [
       "'This is '"
      ]
     },
     "execution_count": 22,
     "metadata": {},
     "output_type": "execute_result"
    }
   ],
   "source": [
    "f.read(8) # number is using for to print that no. of charecters"
   ]
  },
  {
   "cell_type": "code",
   "execution_count": 23,
   "metadata": {},
   "outputs": [
    {
     "data": {
      "text/plain": [
       "'a '"
      ]
     },
     "execution_count": 23,
     "metadata": {},
     "output_type": "execute_result"
    }
   ],
   "source": [
    "f.read(2)"
   ]
  },
  {
   "cell_type": "code",
   "execution_count": 30,
   "metadata": {},
   "outputs": [
    {
     "data": {
      "text/plain": [
       "'This is a pyhton \\n'"
      ]
     },
     "execution_count": 30,
     "metadata": {},
     "output_type": "execute_result"
    }
   ],
   "source": [
    "f.readline() # it displays single line"
   ]
  },
  {
   "cell_type": "code",
   "execution_count": 33,
   "metadata": {},
   "outputs": [
    {
     "data": {
      "text/plain": [
       "['This is a pyhton \\n', 'Thank you']"
      ]
     },
     "execution_count": 33,
     "metadata": {},
     "output_type": "execute_result"
    }
   ],
   "source": [
    "f.readlines() # it displays multiple lines"
   ]
  },
  {
   "cell_type": "code",
   "execution_count": 34,
   "metadata": {},
   "outputs": [
    {
     "data": {
      "text/plain": [
       "False"
      ]
     },
     "execution_count": 34,
     "metadata": {},
     "output_type": "execute_result"
    }
   ],
   "source": [
    "f.closed # it checks file is closed or not( If closed -'True' else -'False')\n"
   ]
  },
  {
   "cell_type": "code",
   "execution_count": 36,
   "metadata": {},
   "outputs": [
    {
     "data": {
      "text/plain": [
       "True"
      ]
     },
     "execution_count": 36,
     "metadata": {},
     "output_type": "execute_result"
    }
   ],
   "source": [
    "f.close()\n",
    "f.closed"
   ]
  },
  {
   "cell_type": "code",
   "execution_count": 28,
   "metadata": {},
   "outputs": [],
   "source": [
    "with open(\"p.txt\",mode='w',encoding='utf-8')as f1: #  creating text file with python code \n",
    "    f1.writelines(\"Hiii Rajee \\n hello\")  # using for to enter multiple lines\n",
    "    f1.write(\"\\n Welcome to pyhton \\n\")# usng for to enter single line into text file "
   ]
  },
  {
   "cell_type": "code",
   "execution_count": 29,
   "metadata": {},
   "outputs": [],
   "source": [
    "with open(\"p.txt\",mode='a',encoding='utf-8')as f1: # here adding text to the file using append-'a'\n",
    "    f1.write(\"\\n learn python\")\n",
    "    f1.writelines(\" \\n Rajee\")"
   ]
  },
  {
   "cell_type": "code",
   "execution_count": 32,
   "metadata": {},
   "outputs": [
    {
     "name": "stdout",
     "output_type": "stream",
     "text": [
      " hello\n",
      " Welcome to pyhton \n",
      "\n",
      " learn python \n",
      " Rajee\n"
     ]
    }
   ],
   "source": [
    "a=open(\"p.txt\",mode='r')\n",
    "for i in a:\n",
    "    print(a.read())"
   ]
  },
  {
   "cell_type": "markdown",
   "metadata": {},
   "source": [
    "# 1. Function to create a file and write to the file"
   ]
  },
  {
   "cell_type": "code",
   "execution_count": 19,
   "metadata": {},
   "outputs": [],
   "source": [
    "with open(\"Rajee1.txt\",mode='w',encoding='utf-8')as f:\n",
    "    f.write(\"\\nThis is a creating text file\\n\")\n",
    "    f.writelines(\"Using python\")"
   ]
  },
  {
   "cell_type": "markdown",
   "metadata": {},
   "source": [
    "# 2. Function to read of the file\n"
   ]
  },
  {
   "cell_type": "code",
   "execution_count": 20,
   "metadata": {},
   "outputs": [
    {
     "name": "stdout",
     "output_type": "stream",
     "text": [
      "This is a creating text file\n",
      "Using python\n"
     ]
    }
   ],
   "source": [
    "n=open('Rajee1.txt',mode='r')\n",
    "for i in n:\n",
    "    print(n.read())"
   ]
  },
  {
   "cell_type": "markdown",
   "metadata": {},
   "source": [
    "# 3. Word Count Program-Count the number of words present in the text file.\n"
   ]
  },
  {
   "cell_type": "code",
   "execution_count": 21,
   "metadata": {},
   "outputs": [
    {
     "name": "stdout",
     "output_type": "stream",
     "text": [
      "enter file name Rajee1.txt\n",
      "count of words 8\n"
     ]
    }
   ],
   "source": [
    "def now(n):\n",
    "    s=0\n",
    "    f=open(n,'r')\n",
    "    for i in f:\n",
    "        a=i.split()\n",
    "        s=s+len(a)\n",
    "    print(\"count of words\",s)\n",
    "n=input(\"enter file name \")\n",
    "now(n)"
   ]
  },
  {
   "cell_type": "markdown",
   "metadata": {},
   "source": [
    "# 4. Count the number of characters from the given file\n"
   ]
  },
  {
   "cell_type": "code",
   "execution_count": 33,
   "metadata": {},
   "outputs": [
    {
     "name": "stdout",
     "output_type": "stream",
     "text": [
      "enter file name Rajee1.txt\n",
      "41\n"
     ]
    }
   ],
   "source": [
    "n=input('enter file name ')\n",
    "c=0\n",
    "f=open(n,'r')\n",
    "x=f.read()\n",
    "for i in x:\n",
    "    c=c+1\n",
    "print(c)    \n",
    "    "
   ]
  },
  {
   "cell_type": "markdown",
   "metadata": {},
   "source": [
    "# 5. Function to find the no of lines in the input file\n",
    " # Input -- filename(file2.txt)\n",
    "  # Output -- No of Lines(12)\n"
   ]
  },
  {
   "cell_type": "code",
   "execution_count": 3,
   "metadata": {},
   "outputs": [
    {
     "name": "stdout",
     "output_type": "stream",
     "text": [
      "filenameRajee1.txt\n",
      "No of Lines ( 3 )\n"
     ]
    }
   ],
   "source": [
    "n=input(\"filename\")\n",
    "c=0\n",
    "f=open(n,'r')\n",
    "for i in f:\n",
    "    c=c+1\n",
    "print(\"No of Lines\",'(',c,')')\n",
    "    \n"
   ]
  },
  {
   "cell_type": "markdown",
   "metadata": {},
   "source": [
    "# 6. Function to print the Upper and Lower characters from the given file.\n"
   ]
  },
  {
   "cell_type": "code",
   "execution_count": 27,
   "metadata": {},
   "outputs": [
    {
     "name": "stdout",
     "output_type": "stream",
     "text": [
      "filenameRajee1.txt\n",
      "lower letter:  his is a creating text file\n",
      "sing python\n",
      "m the best person\n",
      "upper letter:  TUA\n"
     ]
    }
   ],
   "source": [
    "n=input(\"filename\")\n",
    "l=''\n",
    "u=''\n",
    "f=open(n,'r')\n",
    "x=f.read()\n",
    "for i in x:\n",
    "    if i.isupper()==True:\n",
    "        u=u+(i)\n",
    "    else:\n",
    "        l=l+(i)\n",
    "print(\"lower letter: \",l)\n",
    "print(\"upper letter: \",u)\n",
    "        \n",
    "        \n"
   ]
  },
  {
   "cell_type": "code",
   "execution_count": null,
   "metadata": {},
   "outputs": [],
   "source": []
  },
  {
   "cell_type": "code",
   "execution_count": null,
   "metadata": {},
   "outputs": [],
   "source": []
  }
 ],
 "metadata": {
  "kernelspec": {
   "display_name": "Python 3",
   "language": "python",
   "name": "python3"
  },
  "language_info": {
   "codemirror_mode": {
    "name": "ipython",
    "version": 3
   },
   "file_extension": ".py",
   "mimetype": "text/x-python",
   "name": "python",
   "nbconvert_exporter": "python",
   "pygments_lexer": "ipython3",
   "version": "3.7.4"
  }
 },
 "nbformat": 4,
 "nbformat_minor": 2
}
