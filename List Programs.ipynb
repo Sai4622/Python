{
 "cells": [
  {
   "cell_type": "markdown",
   "metadata": {},
   "source": [
    "# Lists Programs\n"
   ]
  },
  {
   "cell_type": "markdown",
   "metadata": {},
   "source": [
    "# 1. Check whether the given number is even or odd"
   ]
  },
  {
   "cell_type": "code",
   "execution_count": 9,
   "metadata": {},
   "outputs": [
    {
     "name": "stdout",
     "output_type": "stream",
     "text": [
      "Enter a Number5\n",
      "it is odd Number\n"
     ]
    }
   ],
   "source": [
    "x=int(input(\"Enter a Number\"))\n",
    "if (x%2)==0:\n",
    "    print(\"IT is Even Number\")\n",
    "else:\n",
    "    print(\"it is odd Number\")"
   ]
  },
  {
   "cell_type": "markdown",
   "metadata": {},
   "source": [
    "# 2. Accept age of a person and decide whether the candidate is eligible for     voting or not\n"
   ]
  },
  {
   "cell_type": "code",
   "execution_count": 14,
   "metadata": {},
   "outputs": [
    {
     "name": "stdout",
     "output_type": "stream",
     "text": [
      "Enter your age:18\n",
      "Candidate is eligible for Voting\n"
     ]
    }
   ],
   "source": [
    "age=int(input(\"Enter your age:\"))\n",
    "if age>=18:\n",
    "    print(\"Candidate is eligible for Voting\")\n",
    "else:\n",
    "    print(\"Candidate is  not eligible for Voting\")"
   ]
  },
  {
   "cell_type": "markdown",
   "metadata": {},
   "source": [
    "# 3. Check whether the given number is divible by 2 and 3 but not 4."
   ]
  },
  {
   "cell_type": "code",
   "execution_count": 25,
   "metadata": {},
   "outputs": [
    {
     "ename": "SyntaxError",
     "evalue": "invalid syntax (<ipython-input-25-9a82d46e4a2c>, line 2)",
     "output_type": "error",
     "traceback": [
      "\u001b[1;36m  File \u001b[1;32m\"<ipython-input-25-9a82d46e4a2c>\"\u001b[1;36m, line \u001b[1;32m2\u001b[0m\n\u001b[1;33m    if x%2==0 and x%3==0 and x%4!==0:\u001b[0m\n\u001b[1;37m                                  ^\u001b[0m\n\u001b[1;31mSyntaxError\u001b[0m\u001b[1;31m:\u001b[0m invalid syntax\n"
     ]
    }
   ],
   "source": [
    "x=int(input(\"Enter a number:\"))\n",
    "if x%2==0 and x%3==0 and x%4!==0:\n",
    "    print(\"It is Satisfied\")\n",
    "else:\n",
    "    print(\"it is not Satisfied\")\n"
   ]
  },
  {
   "cell_type": "markdown",
   "metadata": {},
   "source": [
    "# 4. find the large number from the given 3 numbers.\n"
   ]
  },
  {
   "cell_type": "code",
   "execution_count": 18,
   "metadata": {},
   "outputs": [
    {
     "name": "stdout",
     "output_type": "stream",
     "text": [
      "Enter a Number10\n",
      "Enter b Number20\n",
      "Enter c Number30\n",
      "C is Large Number 30\n"
     ]
    }
   ],
   "source": [
    "a=int(input(\"Enter a Number\"))\n",
    "b=int(input(\"Enter b Number\"))\n",
    "c=int(input(\"Enter c Number\"))\n",
    "if a>b and a>c:\n",
    "    print(\"A is Large Number\",a)\n",
    "elif b>c:\n",
    "    print(\"B is Large Number\",b)\n",
    "else:\n",
    "    print(\"C is Large Number\",c)"
   ]
  },
  {
   "cell_type": "markdown",
   "metadata": {},
   "source": [
    "# 5. check whether the given year is leap year or not."
   ]
  },
  {
   "cell_type": "code",
   "execution_count": 3,
   "metadata": {},
   "outputs": [
    {
     "name": "stdout",
     "output_type": "stream",
     "text": [
      "Enter your year2003\n",
      "it is not a leap year\n"
     ]
    }
   ],
   "source": [
    "year=int(input(\"Enter your year\"))\n",
    "if year%4==0:\n",
    "    print(\"it is a leap year\")\n",
    "elif year%100==0:\n",
    "    print(\"it is Centuray year\")\n",
    "elif year%400==0:\n",
    "    print(\"it is not leap year\")\n",
    "else:\n",
    "    print(\"it is not a leap year\")"
   ]
  },
  {
   "cell_type": "markdown",
   "metadata": {},
   "source": [
    "# 6.Read the string and char as input and print the number of occurances of charin the given string"
   ]
  },
  {
   "cell_type": "code",
   "execution_count": 32,
   "metadata": {},
   "outputs": [
    {
     "name": "stdout",
     "output_type": "stream",
     "text": [
      "Enter a Stringsaitejaaaa\n",
      "Enter a charatchera\n",
      "5\n"
     ]
    }
   ],
   "source": [
    "x=(input(\"Enter a String\"))\n",
    "chr=input(\"Enter a charatcher\")\n",
    "if chr not in x:\n",
    "    print(\"Enter a Wrong Chart\")\n",
    "else:\n",
    "    print(x.count(chr))"
   ]
  },
  {
   "cell_type": "markdown",
   "metadata": {},
   "source": [
    "# 7. Read the input as string and print the output in the following manner\n",
    "###   Input: PythonProgrMMINg \n",
    "#### Output: pYTHONpROGRmminG"
   ]
  },
  {
   "cell_type": "code",
   "execution_count": 36,
   "metadata": {},
   "outputs": [
    {
     "name": "stdout",
     "output_type": "stream",
     "text": [
      "Enter a StringproGRAM\n",
      "PROgram\n"
     ]
    }
   ],
   "source": [
    "str=input(\"Enter a String\")\n",
    "x=str.swapcase()\n",
    "print(x)"
   ]
  },
  {
   "cell_type": "markdown",
   "metadata": {},
   "source": [
    "# 8. Test whether the string is palindrome or not:"
   ]
  },
  {
   "cell_type": "code",
   "execution_count": 5,
   "metadata": {},
   "outputs": [
    {
     "name": "stdout",
     "output_type": "stream",
     "text": [
      "Enter a Stringsaiteja\n",
      "it is Not a Palindrome\n"
     ]
    }
   ],
   "source": [
    "x=input(\"Enter a String\")\n",
    "act=x\n",
    "rev=x[::-1]\n",
    "if act==rev:\n",
    "    print(\"It is a Palindrome\")\n",
    "else:\n",
    "    print(\"it is Not a Palindrome\")"
   ]
  },
  {
   "cell_type": "markdown",
   "metadata": {},
   "source": [
    "# 9. Convert string into list:\n",
    "## Example: \n",
    "###   Input: a= \"1 2 3 4 5 6\"\n",
    "####   Output: [1, 2, 3, 4, 5, 6]"
   ]
  },
  {
   "cell_type": "code",
   "execution_count": 1,
   "metadata": {},
   "outputs": [
    {
     "name": "stdout",
     "output_type": "stream",
     "text": [
      "[1, 2, 3, 4, 5, 6, 7, 8, 9]\n"
     ]
    }
   ],
   "source": [
    "str=\"123456789\"\n",
    "l=[]\n",
    "for i in str:\n",
    "    l.append(int(i))\n",
    "print(l)\n",
    "#convert the input into srt and append it with int and print it...!"
   ]
  },
  {
   "cell_type": "markdown",
   "metadata": {},
   "source": [
    "# 10.Print the second largest string from the list of string:\n",
    "###  Input: a=[\"Python\",\"Java\",\"C\",\"programming\", \"Swift\"]\n"
   ]
  },
  {
   "cell_type": "code",
   "execution_count": 5,
   "metadata": {},
   "outputs": [
    {
     "name": "stdout",
     "output_type": "stream",
     "text": [
      "Python\n"
     ]
    }
   ],
   "source": [
    "list=[\"Python\",\"java\",\"C\",\"Programming\",\"Swift\"]\n",
    "x=sorted(list,key=len)\n",
    "print(x[-2])"
   ]
  },
  {
   "cell_type": "markdown",
   "metadata": {},
   "source": [
    "pwd"
   ]
  },
  {
   "cell_type": "markdown",
   "metadata": {},
   "source": [
    "# 11. Read the input as string and output will followed\n",
    "####  Example :\n",
    "  ##### Input : orange \n",
    "   ###### Reason: Print the next consonent to the vowel and print the vowel to the next  consonent\n",
    "\n"
   ]
  },
  {
   "cell_type": "code",
   "execution_count": 8,
   "metadata": {},
   "outputs": [
    {
     "name": "stdout",
     "output_type": "stream",
     "text": [
      "Enter a String:Saiteja\n",
      "ebjufob"
     ]
    }
   ],
   "source": [
    "a=input(\"Enter a String:\")\n",
    "vowels=\"aeiou\"\n",
    "for i in a:\n",
    "    if i in vowels:\n",
    "        print(chr(ord(i)+1),end=\"\")\n",
    "    else:\n",
    "        if ord(i)+97 and ord(i)<101:\n",
    "            print(\"e\",end=\"\")\n",
    "        elif ord(i)>101 and ord(i)<105:\n",
    "            print(\"i\",end=\"\")\n",
    "        elif ord(i)>105 and ord(i)<111:\n",
    "            print(\"o\",end=\"\")\n",
    "        elif ord(i)>111 and ord(i)<117:\n",
    "            print(\"u\",end=\"\")\n",
    "        else:\n",
    "            print(\"a\",end=\"\")"
   ]
  },
  {
   "cell_type": "markdown",
   "metadata": {},
   "source": [
    "pwd"
   ]
  },
  {
   "cell_type": "markdown",
   "metadata": {},
   "source": []
  },
  {
   "cell_type": "code",
   "execution_count": 10,
   "metadata": {},
   "outputs": [
    {
     "data": {
      "text/plain": [
       "'C:\\\\Users\\\\Lenovo\\\\Python Programs jupiter'"
      ]
     },
     "execution_count": 10,
     "metadata": {},
     "output_type": "execute_result"
    }
   ],
   "source": [
    "pwd"
   ]
  },
  {
   "cell_type": "markdown",
   "metadata": {},
   "source": []
  },
  {
   "cell_type": "code",
   "execution_count": null,
   "metadata": {},
   "outputs": [],
   "source": []
  }
 ],
 "metadata": {
  "kernelspec": {
   "display_name": "Python 3",
   "language": "python",
   "name": "python3"
  },
  "language_info": {
   "codemirror_mode": {
    "name": "ipython",
    "version": 3
   },
   "file_extension": ".py",
   "mimetype": "text/x-python",
   "name": "python",
   "nbconvert_exporter": "python",
   "pygments_lexer": "ipython3",
   "version": "3.7.4"
  }
 },
 "nbformat": 4,
 "nbformat_minor": 2
}
