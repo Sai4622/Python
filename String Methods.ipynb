{
 "cells": [
  {
   "cell_type": "code",
   "execution_count": 126,
   "metadata": {},
   "outputs": [
    {
     "name": "stdout",
     "output_type": "stream",
     "text": [
      "False\n"
     ]
    }
   ],
   "source": [
    "x=\"sai teja\"\n",
    "txt=x.isspace()\n",
    "print(txt)\n",
    "#only Witespace"
   ]
  },
  {
   "cell_type": "code",
   "execution_count": 127,
   "metadata": {},
   "outputs": [
    {
     "name": "stdout",
     "output_type": "stream",
     "text": [
      "True\n"
     ]
    }
   ],
   "source": [
    "x=\"Python Program Promize\"\n",
    "txt=x.istitle()\n",
    "print(txt)\n",
    "#the starting letter should be upper/lower"
   ]
  },
  {
   "cell_type": "code",
   "execution_count": 128,
   "metadata": {},
   "outputs": [
    {
     "name": "stdout",
     "output_type": "stream",
     "text": [
      "True\n"
     ]
    }
   ],
   "source": [
    "x=\"TEJA\"\n",
    "txt=x.isupper()\n",
    "print(txt)\n",
    "#it contain only upper case"
   ]
  },
  {
   "cell_type": "code",
   "execution_count": 129,
   "metadata": {},
   "outputs": [
    {
     "name": "stdout",
     "output_type": "stream",
     "text": [
      "Sai@Teja@Pawan\n"
     ]
    }
   ],
   "source": [
    "x=\"Sai\",\"Teja\",\"Pawan\"\n",
    "txt=\"@\".join(x)\n",
    "print(txt)\n",
    "#it will place the special symbols in the string.."
   ]
  },
  {
   "cell_type": "code",
   "execution_count": 130,
   "metadata": {},
   "outputs": [
    {
     "name": "stdout",
     "output_type": "stream",
     "text": [
      "promize              This my Company\n"
     ]
    }
   ],
   "source": [
    "x=\"promize\"\n",
    "txt=x.ljust(20)\n",
    "print(txt,\"This my Company\")\n",
    "#it will display the Whitespace in our String"
   ]
  },
  {
   "cell_type": "code",
   "execution_count": 131,
   "metadata": {},
   "outputs": [
    {
     "name": "stdout",
     "output_type": "stream",
     "text": [
      "this is a python program in promize\n"
     ]
    }
   ],
   "source": [
    "x=\"This is a Python Program in promize\"\n",
    "txt=x.lower()\n",
    "print(txt)\n",
    "#it will convert the string into lower case"
   ]
  },
  {
   "cell_type": "code",
   "execution_count": 132,
   "metadata": {},
   "outputs": [
    {
     "name": "stdout",
     "output_type": "stream",
     "text": [
      " promize      fan\n"
     ]
    }
   ],
   "source": [
    "x=\"     promize     \"\n",
    "txt=x.lstrip()\n",
    "print(\"\",txt,\"fan\")\n",
    "#it will remove the white space for the left side of the string"
   ]
  },
  {
   "cell_type": "code",
   "execution_count": 133,
   "metadata": {},
   "outputs": [
    {
     "name": "stdout",
     "output_type": "stream",
     "text": [
      "('This is a ', 'Python', ' Program in promize')\n"
     ]
    }
   ],
   "source": [
    "x=\"This is a Python Program in promize\"\n",
    "txt=x.partition(\"Python\")\n",
    "print(txt)\n",
    "#creating you sting into Tuple for specified word"
   ]
  },
  {
   "cell_type": "code",
   "execution_count": 134,
   "metadata": {},
   "outputs": [
    {
     "name": "stdout",
     "output_type": "stream",
     "text": [
      "['This', 'Python', 'Program']\n"
     ]
    }
   ],
   "source": [
    "x=\"This,Python,Program\"\n",
    "txt=x.rsplit(\",\")\n",
    "print(txt)\n",
    "#it will seperated the string into list"
   ]
  },
  {
   "cell_type": "code",
   "execution_count": 135,
   "metadata": {},
   "outputs": [
    {
     "name": "stdout",
     "output_type": "stream",
     "text": [
      "This is a saiteja Program in promize\n"
     ]
    }
   ],
   "source": [
    "x=\"This is a Python Program in promize\"\n",
    "txt=x.replace(\"Python\",\"saiteja\")\n",
    "print(txt)\n",
    "#it will replace the string"
   ]
  },
  {
   "cell_type": "code",
   "execution_count": 136,
   "metadata": {},
   "outputs": [
    {
     "name": "stdout",
     "output_type": "stream",
     "text": [
      "25\n"
     ]
    }
   ],
   "source": [
    "x=\"This is a Python Program in promize\"\n",
    "txt=x.rfind(\"in\")\n",
    "print(txt)\n",
    "#it will find the position of the string"
   ]
  },
  {
   "cell_type": "code",
   "execution_count": 137,
   "metadata": {},
   "outputs": [
    {
     "name": "stdout",
     "output_type": "stream",
     "text": [
      "          Python Program in promize\n"
     ]
    }
   ],
   "source": [
    "x=\"Python Program in promize\"\n",
    "txt=x.rjust(35)\n",
    "print(txt)\n",
    "#inc the white space"
   ]
  },
  {
   "cell_type": "code",
   "execution_count": 138,
   "metadata": {},
   "outputs": [
    {
     "name": "stdout",
     "output_type": "stream",
     "text": [
      "['This is a Python', 'Program in promize']\n"
     ]
    }
   ],
   "source": [
    "x=\"This is a Python\\nProgram in promize\"\n",
    "txt=x.splitlines()\n",
    "print(txt)\n",
    "#it will convert into list"
   ]
  },
  {
   "cell_type": "code",
   "execution_count": 139,
   "metadata": {
    "scrolled": true
   },
   "outputs": [
    {
     "name": "stdout",
     "output_type": "stream",
     "text": [
      "00000000000000000000000000000000000000000000Python\n"
     ]
    }
   ],
   "source": [
    "x=\"Python\"\n",
    "txt=x.zfill(50)\n",
    "print(txt)\n",
    "#it place to 0 to the starting string"
   ]
  },
  {
   "cell_type": "code",
   "execution_count": 140,
   "metadata": {},
   "outputs": [
    {
     "name": "stdout",
     "output_type": "stream",
     "text": [
      "['This', 'is', 'a', 'Python', 'Program', 'in', 'promize']\n"
     ]
    }
   ],
   "source": [
    "x=\"This is a Python Program in promize\"\n",
    "txt=x.split()\n",
    "print(txt)\n",
    "#it will convert the string into list"
   ]
  },
  {
   "cell_type": "code",
   "execution_count": null,
   "metadata": {},
   "outputs": [],
   "source": []
  },
  {
   "cell_type": "code",
   "execution_count": null,
   "metadata": {},
   "outputs": [],
   "source": []
  },
  {
   "cell_type": "code",
   "execution_count": null,
   "metadata": {},
   "outputs": [],
   "source": []
  },
  {
   "cell_type": "code",
   "execution_count": 141,
   "metadata": {},
   "outputs": [
    {
     "name": "stdout",
     "output_type": "stream",
     "text": [
      "False\n"
     ]
    }
   ],
   "source": [
    "x=\"This\\n #is a Python P@rogram in 26promize\"\n",
    "txt=x.isprintable()\n",
    "print(txt)"
   ]
  },
  {
   "cell_type": "code",
   "execution_count": null,
   "metadata": {},
   "outputs": [],
   "source": []
  }
 ],
 "metadata": {
  "kernelspec": {
   "display_name": "Python 3",
   "language": "python",
   "name": "python3"
  },
  "language_info": {
   "codemirror_mode": {
    "name": "ipython",
    "version": 3
   },
   "file_extension": ".py",
   "mimetype": "text/x-python",
   "name": "python",
   "nbconvert_exporter": "python",
   "pygments_lexer": "ipython3",
   "version": "3.7.4"
  }
 },
 "nbformat": 4,
 "nbformat_minor": 2
}
