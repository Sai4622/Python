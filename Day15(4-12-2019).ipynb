{
 "cells": [
  {
   "cell_type": "markdown",
   "metadata": {},
   "source": [
    "# 1. Write a Python program to get a string which is n (non-negative integer) copies of a given string.\n",
    "\n"
   ]
  },
  {
   "cell_type": "code",
   "execution_count": 4,
   "metadata": {},
   "outputs": [
    {
     "name": "stdout",
     "output_type": "stream",
     "text": [
      "RajeeRajee\n"
     ]
    }
   ],
   "source": [
    "def lstring(str,n):\n",
    "    reslt =\"\"\n",
    "    for i in range(n):\n",
    "        reslt=reslt+str\n",
    "    return reslt\n",
    "print(lstring(\"Rajee\",2))\n"
   ]
  },
  {
   "cell_type": "markdown",
   "metadata": {},
   "source": [
    "# 2. Write a Python program to calculate the sum of three given numbers, if the values are equal then return thrice of their sum.\n",
    "\n"
   ]
  },
  {
   "cell_type": "code",
   "execution_count": 9,
   "metadata": {},
   "outputs": [
    {
     "name": "stdout",
     "output_type": "stream",
     "text": [
      "enter x value: 3\n",
      "enter y value: 3\n",
      "enter z value: 3\n",
      "numbers are equal so multiply with 3: 27\n"
     ]
    }
   ],
   "source": [
    "def num(x,y,z):\n",
    "    n=x+y+z\n",
    "    if x==y==z:\n",
    "        print(\"numbers are equal so multiply with 3:\",n*3)\n",
    "    else:\n",
    "        print(n)\n",
    "x=int(input(\"enter x value: \"))\n",
    "y=int(input(\"enter y value: \"))\n",
    "z=int(input(\"enter z value: \"))\n",
    "num(x,y,z)        \n",
    "    "
   ]
  },
  {
   "cell_type": "markdown",
   "metadata": {},
   "source": [
    "# 3. Write a Python program to get a new string from a given string where \"Is\" has been added to the front. If the given string already begins with \"Is\" then return the string unchanged.\n"
   ]
  },
  {
   "cell_type": "code",
   "execution_count": 12,
   "metadata": {},
   "outputs": [
    {
     "name": "stdout",
     "output_type": "stream",
     "text": [
      "IsRajee?\n"
     ]
    }
   ],
   "source": [
    "def strng(str):\n",
    "    if len(str)>2 and str[:2] ==\"Is\":\n",
    "        return str\n",
    "    return \"Is\"+str\n",
    "print(strng(\"Rajee?\"))"
   ]
  },
  {
   "cell_type": "code",
   "execution_count": 5,
   "metadata": {},
   "outputs": [
    {
     "name": "stdout",
     "output_type": "stream",
     "text": [
      "\n",
      " My Name is Rajeevi\n",
      "\n"
     ]
    }
   ],
   "source": [
    "f=open(\"file1.txt\",\"r\")#read\n",
    "data =f.read()\n",
    "print(data)"
   ]
  },
  {
   "cell_type": "code",
   "execution_count": 6,
   "metadata": {},
   "outputs": [],
   "source": [
    "f= open(\"file1.txt\",\"a\")#append\n",
    "f.write(\"hai everyone\")\n",
    "f.close()"
   ]
  },
  {
   "cell_type": "code",
   "execution_count": 3,
   "metadata": {},
   "outputs": [
    {
     "name": "stdout",
     "output_type": "stream",
     "text": [
      "\n",
      " My Name is Rajeevi\n",
      "hai everyone\n",
      "helloo\n"
     ]
    }
   ],
   "source": [
    "f=open(\"file1.txt\",\"r\")#read\n",
    "data=f.read()\n",
    "print(data)"
   ]
  },
  {
   "cell_type": "markdown",
   "metadata": {},
   "source": [
    "# File handling"
   ]
  },
  {
   "cell_type": "markdown",
   "metadata": {},
   "source": [
    "# 1. Function to create file and write some 10 lines of data into the file"
   ]
  },
  {
   "cell_type": "code",
   "execution_count": 32,
   "metadata": {},
   "outputs": [],
   "source": [
    "with open(\"file2.txt\",\"w\")as f:\n",
    "    f.writelines(\" hello everyone\\n How are you\\n I am fine\\n What are you doing\\n Am listening online class\\n line 6\\n line 7\\n line 8\\n line 9\\n line 10\")"
   ]
  },
  {
   "cell_type": "code",
   "execution_count": 33,
   "metadata": {},
   "outputs": [
    {
     "name": "stdout",
     "output_type": "stream",
     "text": [
      " hello everyone\n",
      " How are you\n",
      " I am fine\n",
      " What are you doing\n",
      " Am listening online class\n",
      " line 6\n",
      " line 7\n",
      " line 8\n",
      " line 9\n",
      " line 10\n"
     ]
    }
   ],
   "source": [
    "f=open(\"file2.txt\",\"r\")#read\n",
    "data =f.read()\n",
    "print(data)"
   ]
  },
  {
   "cell_type": "markdown",
   "metadata": {},
   "source": [
    "# 2. Count the no.of words in the given file"
   ]
  },
  {
   "cell_type": "code",
   "execution_count": 34,
   "metadata": {},
   "outputs": [
    {
     "name": "stdout",
     "output_type": "stream",
     "text": [
      "26\n",
      "127\n",
      "10\n"
     ]
    }
   ],
   "source": [
    "f=open(\"file2.txt\",\"r\")#read\n",
    "data =f.read()\n",
    "list1=data.split()\n",
    "print(len(list1))# no.of words\n",
    "print(len(data))# no.of charecters\n",
    "print(len(data.split(\"\\n\")))#no of lines"
   ]
  },
  {
   "cell_type": "markdown",
   "metadata": {},
   "source": [
    "# 3. Count the no.of chareters in the given file"
   ]
  },
  {
   "cell_type": "code",
   "execution_count": 24,
   "metadata": {},
   "outputs": [
    {
     "name": "stdout",
     "output_type": "stream",
     "text": [
      "enter file namefile2.txt\n",
      "128\n"
     ]
    }
   ],
   "source": [
    "n=input(\"enter file name\")\n",
    "c=0\n",
    "f=open(n,'r')\n",
    "x=f.read()\n",
    "for i in x:\n",
    "    c=c+1\n",
    "print(c)   \n",
    "    "
   ]
  },
  {
   "cell_type": "markdown",
   "metadata": {},
   "source": [
    "# 4.Count the no. of lines in the given file "
   ]
  },
  {
   "cell_type": "code",
   "execution_count": 36,
   "metadata": {},
   "outputs": [
    {
     "name": "stdout",
     "output_type": "stream",
     "text": [
      "10\n"
     ]
    }
   ],
   "source": [
    "f=open(\"file2.txt\",\"r\")#read\n",
    "data =f.read()\n",
    "list1=data.split()\n",
    "print(len(data.split(\"\\n\")))"
   ]
  },
  {
   "cell_type": "code",
   "execution_count": null,
   "metadata": {},
   "outputs": [],
   "source": [
    "# 5.Count the no.of alphabats and no.of digits in the given file.\n",
    "# 6. program to find the longest word in the given file?\n",
    "# 7.program to copy the contents of a file to another file."
   ]
  },
  {
   "cell_type": "markdown",
   "metadata": {},
   "source": [
    "# 5.Count the no.of alphabats and no.of digits in the given file"
   ]
  },
  {
   "cell_type": "code",
   "execution_count": 40,
   "metadata": {},
   "outputs": [
    {
     "name": "stdout",
     "output_type": "stream",
     "text": [
      "no.of alphabets:  26 no.of digits:  7\n"
     ]
    }
   ],
   "source": [
    "f=open(\"file1.txt\",\"r\")\n",
    "c=0\n",
    "d=0\n",
    "data=f.read()\n",
    "for i in data:\n",
    "    if i.isalpha():\n",
    "        c=c+1\n",
    "    else:\n",
    "        i.isdigit()\n",
    "        d=d+1\n",
    "print(\"no.of alphabets: \",c ,\"no.of digits: \",d)        "
   ]
  },
  {
   "cell_type": "code",
   "execution_count": 1,
   "metadata": {},
   "outputs": [
    {
     "name": "stdout",
     "output_type": "stream",
     "text": [
      "\n",
      " My Name is Rajeevi\n",
      "hai everyone\n",
      "helloo\n"
     ]
    }
   ],
   "source": [
    "f=open(\"file1.txt\",\"r\")\n",
    "data=f.read()\n",
    "print(data)"
   ]
  },
  {
   "cell_type": "markdown",
   "metadata": {},
   "source": [
    "# 6. program to find the longest word in the given file?\n"
   ]
  },
  {
   "cell_type": "code",
   "execution_count": 2,
   "metadata": {},
   "outputs": [
    {
     "name": "stdout",
     "output_type": "stream",
     "text": [
      "everyone\n",
      "None\n"
     ]
    }
   ],
   "source": [
    " def lw(fn):\n",
    "    f1=open(fn, 'r')\n",
    "    words = f1.read().split()\n",
    "    maxl = len(max(words, key=len))\n",
    "   # return [i for i in words if len(i) == maxl]\n",
    "    for i in words:\n",
    "        if len(i)==maxl:\n",
    "            print(i)\n",
    "print(lw('file1.txt'))"
   ]
  },
  {
   "cell_type": "code",
   "execution_count": 9,
   "metadata": {},
   "outputs": [
    {
     "name": "stdout",
     "output_type": "stream",
     "text": [
      "is\n"
     ]
    }
   ],
   "source": [
    "f = open(\"file1.txt\",\"r\")\n",
    "a = f.read()\n",
    "b = a.split()\n",
    "print(max(b))"
   ]
  },
  {
   "cell_type": "markdown",
   "metadata": {},
   "source": [
    "# 7.program to copy the contents of a file to another file."
   ]
  },
  {
   "cell_type": "code",
   "execution_count": 1,
   "metadata": {},
   "outputs": [
    {
     "name": "stdout",
     "output_type": "stream",
     "text": [
      "<_io.TextIOWrapper name='file1.txt' mode='w' encoding='cp1252'>\n"
     ]
    }
   ],
   "source": [
    "f=open(\"file2.txt\")\n",
    "f1=open(\"file1.txt\",\"w\")\n",
    "for i in f:\n",
    "    f1.write(i)\n",
    "print(f1)        "
   ]
  },
  {
   "cell_type": "code",
   "execution_count": 2,
   "metadata": {},
   "outputs": [
    {
     "name": "stdout",
     "output_type": "stream",
     "text": [
      "\n",
      " My Name is Rajeevi\n",
      "hai everyone\n",
      "helloo\n"
     ]
    }
   ],
   "source": [
    "f=open(\"file1.txt\",\"r\")\n",
    "data=f.read()\n",
    "print(data)"
   ]
  },
  {
   "cell_type": "code",
   "execution_count": 90,
   "metadata": {},
   "outputs": [],
   "source": []
  },
  {
   "cell_type": "code",
   "execution_count": null,
   "metadata": {},
   "outputs": [],
   "source": []
  }
 ],
 "metadata": {
  "kernelspec": {
   "display_name": "Python 3",
   "language": "python",
   "name": "python3"
  },
  "language_info": {
   "codemirror_mode": {
    "name": "ipython",
    "version": 3
   },
   "file_extension": ".py",
   "mimetype": "text/x-python",
   "name": "python",
   "nbconvert_exporter": "python",
   "pygments_lexer": "ipython3",
   "version": "3.7.4"
  }
 },
 "nbformat": 4,
 "nbformat_minor": 2
}
