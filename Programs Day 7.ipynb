{
 "cells": [
  {
   "cell_type": "markdown",
   "metadata": {},
   "source": [
    "# Programs"
   ]
  },
  {
   "cell_type": "markdown",
   "metadata": {},
   "source": [
    "# 4.Read the string as input and Print the output following the manner\n",
    "### Example #1:\n",
    "#### Input: PythonProgrMMINg \n",
    "##### Output: pYTHONpROGRmminG"
   ]
  },
  {
   "cell_type": "code",
   "execution_count": 1,
   "metadata": {},
   "outputs": [
    {
     "name": "stdout",
     "output_type": "stream",
     "text": [
      "Enter a Stringorange\n",
      "ORANGE\n"
     ]
    }
   ],
   "source": [
    "str=input(\"Enter a String:\")\n",
    "x=str.swapcase()\n",
    "print(x)"
   ]
  },
  {
   "cell_type": "markdown",
   "metadata": {},
   "source": [
    "# 3.Read the input as string and Print the Output as Only even digit sum\n",
    "### Example:\n",
    "#### Input : Applc18iation89\n",
    "##### Output : 16 (8+8)"
   ]
  },
  {
   "cell_type": "code",
   "execution_count": 3,
   "metadata": {},
   "outputs": [
    {
     "name": "stdout",
     "output_type": "stream",
     "text": [
      "enter the sting:Applc18iation89\n",
      "16 ( 8+8 )\n"
     ]
    }
   ],
   "source": [
    "n=input(\"enter the sting:\")\n",
    "x=\"ABCDEFGHIJKLMNOPQRSTUVWXYZabcdefghijklmnopqrstuvwxyz\"\n",
    "sum=0\n",
    "digit=[]\n",
    "for i in n:\n",
    "    if i in x:\n",
    "        pass\n",
    "    else:\n",
    "        y=int(i)\n",
    "        if y%2==0:\n",
    "            sum=sum+y\n",
    "            digit.append(str(y))                  \n",
    "z=\"+\".join(digit)\n",
    "print(sum,\"(\",z,\")\")\n",
    "            "
   ]
  },
  {
   "cell_type": "markdown",
   "metadata": {},
   "source": [
    "# 2.Read the input as string and Output will be alternate words in lower case\n",
    "### Example:\n",
    "#### Input : Learn Python Programming EASy\n",
    "##### Output : python easy"
   ]
  },
  {
   "cell_type": "code",
   "execution_count": 5,
   "metadata": {},
   "outputs": [
    {
     "name": "stdout",
     "output_type": "stream",
     "text": [
      "python easy "
     ]
    }
   ],
   "source": [
    "n=\"Learn Python Programming EASy\"\n",
    "n=n.split()\n",
    "for word in n:\n",
    "    if len(word)%2==0:\n",
    "        print(word.lower(),end=\" \")"
   ]
  },
  {
   "cell_type": "markdown",
   "metadata": {},
   "source": [
    "## 1.Read the input as string and Output will followed\n",
    "### Example #1:\n",
    "#### Input : orange \n",
    "##### Output : puboif"
   ]
  },
  {
   "cell_type": "code",
   "execution_count": null,
   "metadata": {},
   "outputs": [],
   "source": [
    "a=input(\"Enter a String:\")\n",
    "vowels=\"aeiou\"\n",
    "for i in a:\n",
    "    if i in vowels:\n",
    "        print(chr(ord(i)+1),end=\"\")\n",
    "    else:\n",
    "        if ord(i)+97 and ord(i)<101:\n",
    "            print(\"e\",end=\"\")\n",
    "        elif ord(i)>101 and ord(i)<105:\n",
    "            print(\"i\",end=\"\")\n",
    "        elif ord(i)>105 and ord(i)<111:\n",
    "            print(\"o\",end=\"\")\n",
    "        elif ord(i)>111 and ord(i)<117:\n",
    "            print(\"u\",end=\"\")\n",
    "        else:\n",
    "            print(\"a\",end=\"\") "
   ]
  },
  {
   "cell_type": "code",
   "execution_count": null,
   "metadata": {},
   "outputs": [],
   "source": []
  }
 ],
 "metadata": {
  "kernelspec": {
   "display_name": "Python 3",
   "language": "python",
   "name": "python3"
  },
  "language_info": {
   "codemirror_mode": {
    "name": "ipython",
    "version": 3
   },
   "file_extension": ".py",
   "mimetype": "text/x-python",
   "name": "python",
   "nbconvert_exporter": "python",
   "pygments_lexer": "ipython3",
   "version": "3.7.4"
  }
 },
 "nbformat": 4,
 "nbformat_minor": 2
}
