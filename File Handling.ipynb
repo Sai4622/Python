{
 "cells": [
  {
   "cell_type": "markdown",
   "metadata": {},
   "source": [
    "## File Handling"
   ]
  },
  {
   "cell_type": "code",
   "execution_count": 1,
   "metadata": {},
   "outputs": [],
   "source": [
    "#->The key function for working with files in Python is the open() function.\n",
    "#->The open() function takes two parameters; filename, and mode.\n",
    "#->There are four different methods (modes) for opening a file:\n",
    "#->\"r\" - Read - Default value. Opens a file for reading, error if the file does not exist\n",
    "#->\"a\" - Append - Opens a file for appending, creates the file if it does not exist\n",
    "#->\"w\" - Write - Opens a file for writing, creates the file if it does not exist\n",
    "#->\"x\" - Create - Creates the specified file, returns an error if the file exists\n",
    "#with is used to closed the file automatic"
   ]
  },
  {
   "cell_type": "code",
   "execution_count": 2,
   "metadata": {},
   "outputs": [],
   "source": [
    "def file():\n",
    "    with open(\"sai.txt\",\"w\") as f:\n",
    "        f.write(\"HAi Everyone\")\n",
    "file()\n",
    "#Creating A new File and Passing To The Data to the File"
   ]
  },
  {
   "cell_type": "code",
   "execution_count": null,
   "metadata": {},
   "outputs": [],
   "source": [
    "def file(name,mode):\n",
    "    with open(name,mode) as f:\n",
    "        f.write(\"Good Mornig\")\n",
    "name=input(\"Enter a Number\")\n",
    "mode=input(\"Please Enter A mode\")\n",
    "file(name,mode)\n",
    "# Creating a file with user entering data and it will Create a new a data"
   ]
  },
  {
   "cell_type": "code",
   "execution_count": 11,
   "metadata": {},
   "outputs": [
    {
     "name": "stdout",
     "output_type": "stream",
     "text": [
      "Enter File Name:sai.txt\n",
      "Enter Mode:r\n",
      "['HAi Everyone']\n"
     ]
    }
   ],
   "source": [
    "# Crate a Function and read the data and display the data\n",
    "def read1(name,mode):\n",
    "    with open(name,mode) as k:\n",
    "        a= k.readlines()\n",
    "        print(a)\n",
    "        \n",
    "name=input(\"Enter File Name:\")\n",
    "mode=input(\"Enter Mode:\")\n",
    "read1(name,mode)\n",
    "#read its display in text form\n",
    "#readlines it will display in list format"
   ]
  },
  {
   "cell_type": "code",
   "execution_count": 12,
   "metadata": {},
   "outputs": [
    {
     "name": "stdout",
     "output_type": "stream",
     "text": [
      "Enter File Name:ravali.txt\n"
     ]
    },
    {
     "data": {
      "text/plain": [
       "4"
      ]
     },
     "execution_count": 12,
     "metadata": {},
     "output_type": "execute_result"
    }
   ],
   "source": [
    "#  Word Count Program-Count the number of words present in the text file\n",
    "def read1(name):\n",
    "    count=0\n",
    "    with open(name,'r') as k:\n",
    "        a= k.read()\n",
    "        x=a.split()\n",
    "        for i in x:\n",
    "            count=count+1\n",
    "        return count\n",
    "name=input(\"Enter File Name:\")\n",
    "read1(name)\n",
    "# Count it Will Count Number of Words Present in String"
   ]
  },
  {
   "cell_type": "code",
   "execution_count": 13,
   "metadata": {},
   "outputs": [
    {
     "name": "stdout",
     "output_type": "stream",
     "text": [
      "Enter File Name:sai.txt\n"
     ]
    },
    {
     "data": {
      "text/plain": [
       "12"
      ]
     },
     "execution_count": 13,
     "metadata": {},
     "output_type": "execute_result"
    }
   ],
   "source": [
    "# Count the number of characters from the given file\n",
    "def read1(name):\n",
    "    count=0\n",
    "    with open(name,'r') as k:\n",
    "        a= k.read()\n",
    "        for i in a:\n",
    "            count=count+1\n",
    "        return count\n",
    "name=input(\"Enter File Name:\")\n",
    "read1(name)\n",
    "#Count it will Count the Number of Char Present In the String"
   ]
  },
  {
   "cell_type": "code",
   "execution_count": 14,
   "metadata": {},
   "outputs": [
    {
     "name": "stdout",
     "output_type": "stream",
     "text": [
      "Enter File Name:sai.txt\n",
      "Lower Case i veryone\n",
      "Upper Case HAE\n"
     ]
    }
   ],
   "source": [
    "#  Function to print the Upper and Lower characters from the given file\n",
    "def read1(name):\n",
    "    l1=''\n",
    "    l2=''\n",
    "    with open(name,'r') as k:\n",
    "        a= k.read()\n",
    "        for i in a:\n",
    "            if i.isupper()==True:\n",
    "                l1=l1+i\n",
    "            else:\n",
    "                l2=l2+i\n",
    "    return l1,l2             \n",
    "name=input(\"Enter File Name:\")\n",
    "x,y=read1(name)\n",
    "print( \"Lower Case\",y)\n",
    "print( \"Upper Case\",x)\n",
    "#Supper is Used to Count the Upper case Letter in the Given the String\n",
    "#\"r\" read this method id used to read the data in the given Data"
   ]
  },
  {
   "cell_type": "code",
   "execution_count": 9,
   "metadata": {},
   "outputs": [],
   "source": [
    "def file():\n",
    "    with open(\"ravali.txt\",\"w\") as f:\n",
    "        f.write(\"Hai good Morning Saiteja\")\n",
    "file()"
   ]
  },
  {
   "cell_type": "code",
   "execution_count": 19,
   "metadata": {},
   "outputs": [
    {
     "name": "stdout",
     "output_type": "stream",
     "text": [
      "Enter A File NAme:pavan.txt\n",
      "Enter Mode:x\n"
     ]
    }
   ],
   "source": [
    "def rav(name,mode):\n",
    "    with open(name,mode) as k:\n",
    "        k.write(\"hai Good Morning\")\n",
    "name=input(\"Enter A File NAme:\")\n",
    "mode=input(\"Enter Mode:\")\n",
    "rav(name,mode)"
   ]
  },
  {
   "cell_type": "code",
   "execution_count": null,
   "metadata": {},
   "outputs": [],
   "source": [
    "def rav(name,mode):\n",
    "    with open(name,mode) as k:\n",
    "        k.write(\"hai Good Morning\")\n",
    "name=input(\"Enter A File NAme:\")\n",
    "mode=input(\"Enter Mode:\")\n",
    "rav(name,mode)\n",
    "#\"X\"is used to create a new file if the file is already exists it will display the a Error..!"
   ]
  },
  {
   "cell_type": "code",
   "execution_count": 3,
   "metadata": {},
   "outputs": [
    {
     "name": "stdout",
     "output_type": "stream",
     "text": [
      "enter a number12345\n",
      "| *\n",
      "| **\n",
      "| ***\n",
      "| ****\n",
      "| *****\n"
     ]
    }
   ],
   "source": [
    "\n",
    "# 1. The program must accept an integer N the input. The program must print the desired pattern as shown in the Example\n",
    "#Input/Output section.\n",
    "#Input Format:\n",
    "#The first line contains the value of N.\n",
    "#Output Format:\n",
    "#The list of lines containing the desired pattern as shown in the Example Input/Output sections.\n",
    "#Example Input/Output 1:\n",
    "#Input:\n",
    "#41325\n",
    "#Output:\n",
    "#|**\n",
    "#|*\n",
    "#|***\n",
    "#|*\n",
    "#-----------------------\n",
    "n=int(input('enter a number'))\n",
    "l=[]\n",
    "while n>0:\n",
    "    a=n%10\n",
    "    l.append(a)\n",
    "    n=n//10\n",
    "b=l[::-1]\n",
    "for i in b:\n",
    "    print('|',('*'*i))"
   ]
  },
  {
   "cell_type": "code",
   "execution_count": 4,
   "metadata": {},
   "outputs": [
    {
     "name": "stdout",
     "output_type": "stream",
     "text": [
      "Hai good Morning Saiteja\n"
     ]
    }
   ],
   "source": [
    "f=open(\"ravali.txt\",\"r\")\n",
    "print(f.read(30))\n",
    "#read(5) it will Display the Spefied value in the given the String"
   ]
  },
  {
   "cell_type": "code",
   "execution_count": 6,
   "metadata": {},
   "outputs": [
    {
     "name": "stdout",
     "output_type": "stream",
     "text": [
      "\n"
     ]
    }
   ],
   "source": [
    "f=open(\"sai.txt\",\"r\")\n",
    "print(f.read())"
   ]
  },
  {
   "cell_type": "code",
   "execution_count": 1,
   "metadata": {},
   "outputs": [
    {
     "name": "stdout",
     "output_type": "stream",
     "text": [
      "\n",
      "Please wait a moment while I gather a list of all available modules...\n",
      "\n"
     ]
    },
    {
     "name": "stderr",
     "output_type": "stream",
     "text": [
      "C:\\ProgramData\\Anaconda3\\lib\\site-packages\\IPython\\kernel\\__init__.py:13: ShimWarning: The `IPython.kernel` package has been deprecated since IPython 4.0.You should import from ipykernel or jupyter_client instead.\n",
      "  \"You should import from ipykernel or jupyter_client instead.\", ShimWarning)\n",
      "WARNING: AstropyDeprecationWarning: astropy.utils.compat.futures is now deprecated - use concurrent.futures instead [astropy.utils.compat.futures]\n",
      "C:\\ProgramData\\Anaconda3\\lib\\site-packages\\nltk\\twitter\\__init__.py:22: UserWarning: The twython library has not been installed. Some functionality from the twitter package will not be available.\n",
      "  \"The twython library has not been installed. \"\n"
     ]
    },
    {
     "name": "stdout",
     "output_type": "stream",
     "text": [
      "DEBUG:pip._internal.vcs.versioncontrol:Registered VCS backend: bzr\n",
      "DEBUG:pip._internal.vcs.versioncontrol:Registered VCS backend: git\n",
      "DEBUG:pip._internal.vcs.versioncontrol:Registered VCS backend: hg\n",
      "DEBUG:pip._internal.vcs.versioncontrol:Registered VCS backend: svn\n"
     ]
    },
    {
     "name": "stderr",
     "output_type": "stream",
     "text": [
      "C:\\ProgramData\\Anaconda3\\lib\\site-packages\\skimage\\novice\\__init__.py:103: UserWarning: The `skimage.novice` module was deprecated in version 0.14. It will be removed in 0.16.\n",
      "  warnings.warn(\"The `skimage.novice` module was deprecated in version 0.14. \"\n",
      "C:\\ProgramData\\Anaconda3\\lib\\site-packages\\skimage\\viewer\\utils\\core.py:10: UserWarning: Recommended matplotlib backend is `Agg` for full skimage.viewer functionality.\n",
      "  warn(\"Recommended matplotlib backend is `Agg` for full \"\n",
      "C:\\ProgramData\\Anaconda3\\lib\\site-packages\\sklearn\\externals\\joblib\\__init__.py:15: DeprecationWarning: sklearn.externals.joblib is deprecated in 0.21 and will be removed in 0.23. Please import this functionality directly from joblib, which can be installed with: pip install joblib. If this warning is raised when loading pickled models, you may need to re-serialize those models with scikit-learn 0.21+.\n",
      "  warnings.warn(msg, category=DeprecationWarning)\n",
      "C:\\ProgramData\\Anaconda3\\lib\\site-packages\\qtawesome\\iconic_font.py:301: UserWarning: You need to have a running QApplication to use QtAwesome!\n",
      "  warnings.warn(\"You need to have a running \"\n",
      "C:\\ProgramData\\Anaconda3\\lib\\pkgutil.py:107: VisibleDeprecationWarning: zmq.eventloop.minitornado is deprecated in pyzmq 14.0 and will be removed.\n",
      "    Install tornado itself to use zmq with the tornado IOLoop.\n",
      "    \n",
      "  yield from walk_packages(path, info.name+'.', onerror)\n"
     ]
    },
    {
     "name": "stdout",
     "output_type": "stream",
     "text": [
      "Crypto              brain_six           marshal             sockshandler\n",
      "Cython              brain_ssl           math                sortedcollections\n",
      "IPython             brain_subprocess    matplotlib          sortedcontainers\n",
      "OpenSSL             brain_threading     mccabe              soupsieve\n",
      "PIL                 brain_typing        menuinst            sphinx\n",
      "PyQt5               brain_uuid          mimetypes           sphinxcontrib\n",
      "Star                bs4                 mistune             spyder\n",
      "__future__          builtins            mkl                 spyder_breakpoints\n",
      "_abc                bz2                 mkl_fft             spyder_io_dcm\n",
      "_ast                cProfile            mkl_random          spyder_io_hdf5\n",
      "_asyncio            calendar            mmap                spyder_kernels\n",
      "_bisect             certifi             mmapfile            spyder_profiler\n",
      "_blake2             cffi                mmsystem            spyder_pylint\n",
      "_bootlocale         cgi                 mock                sqlalchemy\n",
      "_bz2                cgitb               modulefinder        sqlite3\n",
      "_cffi_backend       chardet             more_itertools      square\n",
      "_codecs             chunk               mpmath              sre_compile\n",
      "_codecs_cn          click               msgpack             sre_constants\n",
      "_codecs_hk          cloudpickle         msilib              sre_parse\n",
      "_codecs_iso2022     clyent              msvcrt              ssl\n",
      "_codecs_jp          cmath               multipledispatch    sspi\n",
      "_codecs_kr          cmd                 multiprocessing     sspicon\n",
      "_codecs_tw          code                navigator_updater   stat\n",
      "_collections        codecs              nbconvert           statistics\n",
      "_collections_abc    codeop              nbformat            statsmodels\n",
      "_compat_pickle      collections         netbios             storemagic\n",
      "_compression        colorama            netrc               string\n",
      "_contextvars        colorsys            networkx            stringprep\n",
      "_csv                commctrl            nltk                struct\n",
      "_ctypes             compileall          nntplib             subprocess\n",
      "_ctypes_test        comtypes            nose                sunau\n",
      "_datetime           concurrent          notebook            symbol\n",
      "_decimal            conda               nt                  sympy\n",
      "_dummy_thread       conda_build         ntpath              sympyprinting\n",
      "_elementtree        conda_env           ntsecuritycon       symtable\n",
      "_functools          conda_package_handling nturl2path          sys\n",
      "_hashlib            conda_verify        numba               sysconfig\n",
      "_heapq              configparser        numbers             tables\n",
      "_imp                contextlib          numexpr             tabnanny\n",
      "_io                 contextlib2         numpy               tarfile\n",
      "_json               contextvars         numpydoc            tblib\n",
      "_locale             copy                odbc                telnetlib\n",
      "_lsprof             copyreg             olefile             tempfile\n",
      "_lzma               crypt               opcode              terminado\n",
      "_markupbase         cryptography        openpyxl            test\n",
      "_md5                csv                 operator            test_data\n",
      "_msi                ctypes              optparse            test_pycosat\n",
      "_multibytecodec     curl                os                  testpath\n",
      "_multiprocessing    curses              packaging           tests\n",
      "_nsis               cwp                 pandas              textwrap\n",
      "_opcode             cycler              pandocfilters       this\n",
      "_operator           cython              parser              threading\n",
      "_osx_support        cythonmagic         parso               time\n",
      "_overlapped         cytoolz             partd               timeit\n",
      "_pickle             dask                past                timer\n",
      "_py_abc             dataclasses         path                tkinter\n",
      "_pydecimal          datetime            pathlib             tl\n",
      "_pyio               dateutil            pathlib2            tl2\n",
      "_pylief             dbi                 patsy               tl3\n",
      "_pyrsistent_version dbm                 pdb                 tlz\n",
      "_pytest             dde                 pep8                token\n",
      "_queue              decimal             perfmon             tokenize\n",
      "_random             decorator           pickle              toolz\n",
      "_sha1               defusedxml          pickleshare         tornado\n",
      "_sha256             difflib             pickletools         tqdm\n",
      "_sha3               dis                 pip                 trace\n",
      "_sha512             distributed         pipes               traceback\n",
      "_signal             distutils           pkg_resources       tracemalloc\n",
      "_sitebuiltins       doctest             pkginfo             traitlets\n",
      "_socket             docutils            pkgutil             tty\n",
      "_sqlite3            dummy_threading     platform            turtle\n",
      "_sre                easy_install        plistlib            turtledemo\n",
      "_ssl                email               pluggy              types\n",
      "_stat               encodings           ply                 typing\n",
      "_string             ensurepip           poplib              unicodecsv\n",
      "_strptime           entrypoints         posixpath           unicodedata\n",
      "_struct             enum                pprint              unittest\n",
      "_symtable           errno               profile             urllib\n",
      "_system_path        et_xmlfile          prometheus_client   urllib3\n",
      "_testbuffer         fastcache           prompt_toolkit      uu\n",
      "_testcapi           faulthandler        pstats              uuid\n",
      "_testconsole        filecmp             psutil              venv\n",
      "_testimportmultiple fileinput           pty                 warnings\n",
      "_testmultiphase     filelock            pvectorc            wave\n",
      "_thread             flask               py                  wcwidth\n",
      "_threading_local    fnmatch             py_compile          weakref\n",
      "_tkinter            formatter           pyclbr              webbrowser\n",
      "_tracemalloc        fractions           pycodestyle         webencodings\n",
      "_warnings           fsspec              pycosat             werkzeug\n",
      "_weakref            ftplib              pycparser           wheel\n",
      "_weakrefset         functools           pycurl              widgetsnbextension\n",
      "_win32sysloader     future              pydoc               win2kras\n",
      "_winapi             gc                  pydoc_data          win32api\n",
      "_winxptheme         genericpath         pyexpat             win32clipboard\n",
      "_yaml               getopt              pyflakes            win32com\n",
      "abc                 getpass             pygments            win32con\n",
      "adodbapi            gettext             pylab               win32console\n",
      "afxres              gevent              pylint              win32cred\n",
      "aifc                glob                pyodbc              win32crypt\n",
      "alabaster           glob2               pyparsing           win32cryptcon\n",
      "anaconda_navigator  greenlet            pyreadline          win32event\n",
      "anaconda_project    gzip                pyrsistent          win32evtlog\n",
      "antigravity         h5py                pytest              win32evtlogutil\n",
      "argparse            hashlib             pytest_arraydiff    win32file\n",
      "array               heapdict            pytest_doctestplus  win32gui\n",
      "asn1crypto          heapq               pytest_openfiles    win32gui_struct\n",
      "ast                 hmac                pytest_remotedata   win32help\n",
      "astroid             html                pythoncom           win32inet\n",
      "astropy             html5lib            pytz                win32inetcon\n",
      "asynchat            http                pywin               win32job\n",
      "asyncio             idlelib             pywin32_testutil    win32lz\n",
      "asyncore            idna                pywintypes          win32net\n",
      "atexit              imageio             pywt                win32netcon\n",
      "atomicwrites        imagesize           pyximport           win32pdh\n",
      "attr                imaplib             qtawesome           win32pdhquery\n",
      "audioop             imghdr              qtconsole           win32pdhutil\n",
      "autoreload          imp                 qtpy                win32pipe\n"
     ]
    },
    {
     "name": "stdout",
     "output_type": "stream",
     "text": [
      "babel               importlib           queue               win32print\n",
      "backcall            importlib_metadata  quopri              win32process\n",
      "backports           inspect             random              win32profile\n",
      "base64              io                  rasutil             win32ras\n",
      "bdb                 ipaddress           re                  win32rcparser\n",
      "binascii            ipykernel           readline            win32security\n",
      "binhex              ipykernel_launcher  regcheck            win32service\n",
      "binstar_client      ipython_genutils    regutil             win32serviceutil\n",
      "bisect              ipywidgets          reprlib             win32timezone\n",
      "bitarray            isapi               requests            win32trace\n",
      "bkcharts            isort               rlcompleter         win32traceutil\n",
      "bleach              isympy              rmagic              win32transaction\n",
      "bokeh               itertools           rope                win32ts\n",
      "boto                itsdangerous        ruamel_yaml         win32ui\n",
      "bottleneck          jdcal               run                 win32uiole\n",
      "brain_argparse      jedi                runpy               win32verstamp\n",
      "brain_attrs         jinja2              sched               win32wnet\n",
      "brain_builtin_inference joblib              scipy               win_inet_pton\n",
      "brain_collections   json                scripts             win_unicode_console\n",
      "brain_crypt         json5               seaborn             wincertstore\n",
      "brain_curses        jsonschema          secrets             winerror\n",
      "brain_dataclasses   jupyter             select              winioctlcon\n",
      "brain_dateutil      jupyter_client      selectors           winnt\n",
      "brain_fstrings      jupyter_console     send2trash          winperf\n",
      "brain_functools     jupyter_core        servicemanager      winpty\n",
      "brain_gi            jupyterlab          setuptools          winreg\n",
      "brain_hashlib       jupyterlab_server   shelve              winsound\n",
      "brain_http          keyring             shlex               winxpgui\n",
      "brain_io            keyword             shutil              winxptheme\n",
      "brain_mechanize     kiwisolver          signal              wrapt\n",
      "brain_multiprocessing lazy_object_proxy   simplegeneric       wsgiref\n",
      "brain_namedtuple_enum lib2to3             singledispatch      xdrlib\n",
      "brain_nose          libarchive          singledispatch_helpers xlrd\n",
      "brain_numpy_core_fromnumeric libfuturize         sip                 xlsxwriter\n",
      "brain_numpy_core_function_base libpasteurize       sipconfig           xlwings\n",
      "brain_numpy_core_multiarray lief                sipdistutils        xlwt\n",
      "brain_numpy_core_numeric linecache           site                xml\n",
      "brain_numpy_core_numerictypes llvmlite            six                 xmlrpc\n",
      "brain_numpy_core_umath locale              skimage             xxsubtype\n",
      "brain_numpy_ndarray locket              sklearn             yaml\n",
      "brain_numpy_random_mtrand logging             smtpd               zict\n",
      "brain_numpy_utils   lxml                smtplib             zipapp\n",
      "brain_pkg_resources lzma                sndhdr              zipfile\n",
      "brain_pytest        macpath             snowballstemmer     zipimport\n",
      "brain_qt            mailbox             socket              zipp\n",
      "brain_random        mailcap             socketserver        zlib\n",
      "brain_re            markupsafe          socks               zmq\n",
      "\n",
      "Enter any module name to get more help.  Or, type \"modules spam\" to search\n",
      "for modules whose name or summary contain the string \"spam\".\n",
      "\n",
      "DEBUG:matplotlib.pyplot:Loaded backend module://ipykernel.pylab.backend_inline version unknown.\n"
     ]
    }
   ],
   "source": [
    "help(\"modules\")"
   ]
  },
  {
   "cell_type": "code",
   "execution_count": null,
   "metadata": {},
   "outputs": [],
   "source": []
  }
 ],
 "metadata": {
  "kernelspec": {
   "display_name": "Python 3",
   "language": "python",
   "name": "python3"
  },
  "language_info": {
   "codemirror_mode": {
    "name": "ipython",
    "version": 3
   },
   "file_extension": ".py",
   "mimetype": "text/x-python",
   "name": "python",
   "nbconvert_exporter": "python",
   "pygments_lexer": "ipython3",
   "version": "3.7.4"
  }
 },
 "nbformat": 4,
 "nbformat_minor": 2
}
