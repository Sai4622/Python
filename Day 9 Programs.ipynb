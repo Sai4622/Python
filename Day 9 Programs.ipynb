{
 "cells": [
  {
   "cell_type": "code",
   "execution_count": 24,
   "metadata": {},
   "outputs": [
    {
     "name": "stdout",
     "output_type": "stream",
     "text": [
      "even sum: 46\n",
      "odd sum: 20\n"
     ]
    }
   ],
   "source": [
    "# To display the even number and odd Number in given the list\n",
    "def evn_sum(x):\n",
    "    return sum(x)\n",
    "def odd_sum(y):\n",
    "    return sum(y)\n",
    "list1=[4,6,12,7,8,9,1,2,3,14]\n",
    "l1=[]\n",
    "l2=[]\n",
    "for i in list1:\n",
    "    if i%2==0:\n",
    "        l1.append(i)\n",
    "    else:\n",
    "        l2.append(i)\n",
    "x=evn_sum(l1)\n",
    "y=odd_sum(l2)\n",
    "print(\"even sum:\",x)\n",
    "print(\"odd sum:\",y)\n"
   ]
  },
  {
   "cell_type": "code",
   "execution_count": 33,
   "metadata": {},
   "outputs": [
    {
     "name": "stdout",
     "output_type": "stream",
     "text": [
      "1\n",
      "1\n",
      "2\n",
      "3\n",
      "5\n",
      "8\n",
      "13\n"
     ]
    }
   ],
   "source": [
    "x=0\n",
    "y=1\n",
    "while y<20:\n",
    "    print(y)\n",
    "    x,y=y,x+y\n",
    "#"
   ]
  },
  {
   "cell_type": "code",
   "execution_count": 13,
   "metadata": {},
   "outputs": [],
   "source": [
    "tuple=[1,2,3,4]"
   ]
  },
  {
   "cell_type": "code",
   "execution_count": 14,
   "metadata": {},
   "outputs": [],
   "source": [
    "tuple1=tuple.__iter__() "
   ]
  },
  {
   "cell_type": "code",
   "execution_count": 15,
   "metadata": {},
   "outputs": [
    {
     "data": {
      "text/plain": [
       "1"
      ]
     },
     "execution_count": 15,
     "metadata": {},
     "output_type": "execute_result"
    }
   ],
   "source": [
    "next(tuple1)"
   ]
  },
  {
   "cell_type": "code",
   "execution_count": 16,
   "metadata": {},
   "outputs": [
    {
     "data": {
      "text/plain": [
       "<list_iterator at 0x25b30dd0848>"
      ]
     },
     "execution_count": 16,
     "metadata": {},
     "output_type": "execute_result"
    }
   ],
   "source": [
    "iter(tuple)"
   ]
  },
  {
   "cell_type": "code",
   "execution_count": 2,
   "metadata": {},
   "outputs": [
    {
     "name": "stdout",
     "output_type": "stream",
     "text": [
      "Even Number 66\n",
      "Odd Numbers 20\n"
     ]
    }
   ],
   "source": [
    "def even_sum(x):\n",
    "    return sum(x)\n",
    "def odd_sum(n):\n",
    "    return sum(n)\n",
    "list=[1,2,3,4,5,6,7,8,9,12,13,15,17,14,20]\n",
    "l1=[]\n",
    "l2=[]\n",
    "for i in list:\n",
    "    if i%2==0:\n",
    "        l1.append(i)\n",
    "    else:\n",
    "        l2.append(i)\n",
    "x=even_sum(l1)\n",
    "n=odd_sum(l2)\n",
    "print(\"Even Number\",x)\n",
    "print(\"Odd Numbers\",y)"
   ]
  },
  {
   "cell_type": "code",
   "execution_count": 42,
   "metadata": {},
   "outputs": [
    {
     "name": "stdout",
     "output_type": "stream",
     "text": [
      "enter the range:12\n",
      "1\n",
      "2\n",
      "3\n",
      "5\n",
      "8\n",
      "13\n",
      "21\n",
      "34\n",
      "55\n",
      "89\n"
     ]
    }
   ],
   "source": [
    "n=int(input(\"enter the range:\"))\n",
    "a=0\n",
    "b=1\n",
    "sum=0\n",
    "while(n-2):\n",
    "    sum=a+b\n",
    "    a,b=b,sum\n",
    "    print(sum)\n",
    "    n=n-1"
   ]
  },
  {
   "cell_type": "code",
   "execution_count": 31,
   "metadata": {},
   "outputs": [
    {
     "name": "stdout",
     "output_type": "stream",
     "text": [
      "Enter number:121\n",
      "The number is a palindrome!\n"
     ]
    }
   ],
   "source": [
    "n=int(input(\"Enter number:\"))\n",
    "temp=n\n",
    "rev=0\n",
    "while(n>0):\n",
    "    dig=n%10\n",
    "    rev=rev*10+dig\n",
    "    n=n//10\n",
    "if(temp==rev):\n",
    "    print(\"The number is a palindrome!\")\n",
    "else:\n",
    "    print(\"The number isn't a palindrome!\")\n",
    "#Palindrome"
   ]
  },
  {
   "cell_type": "code",
   "execution_count": 17,
   "metadata": {},
   "outputs": [],
   "source": [
    "def num(n):\n",
    "    for i in n:\n",
    "        print(\"hello\")\n",
    "        yield i*i\n",
    "n=[1,2,3,4,5]"
   ]
  },
  {
   "cell_type": "code",
   "execution_count": 27,
   "metadata": {},
   "outputs": [
    {
     "data": {
      "text/plain": [
       "<generator object num at 0x000001811941D0C8>"
      ]
     },
     "execution_count": 27,
     "metadata": {},
     "output_type": "execute_result"
    }
   ],
   "source": [
    "squares=num(n)\n",
    "squares"
   ]
  },
  {
   "cell_type": "code",
   "execution_count": 29,
   "metadata": {},
   "outputs": [
    {
     "name": "stdout",
     "output_type": "stream",
     "text": [
      "hello\n"
     ]
    },
    {
     "data": {
      "text/plain": [
       "4"
      ]
     },
     "execution_count": 29,
     "metadata": {},
     "output_type": "execute_result"
    }
   ],
   "source": [
    "next(squares)"
   ]
  },
  {
   "cell_type": "code",
   "execution_count": 30,
   "metadata": {},
   "outputs": [
    {
     "name": "stdout",
     "output_type": "stream",
     "text": [
      "hello\n",
      "9\n",
      "hello\n",
      "16\n",
      "hello\n",
      "25\n"
     ]
    }
   ],
   "source": [
    "for i in squares:\n",
    "    print(i)"
   ]
  },
  {
   "cell_type": "code",
   "execution_count": 37,
   "metadata": {},
   "outputs": [
    {
     "name": "stdout",
     "output_type": "stream",
     "text": [
      "Enter a Number153\n",
      "It is a ArmStrong Number\n"
     ]
    }
   ],
   "source": [
    "num=int(input(\"Enter a Number\"))\n",
    "temp=num\n",
    "length=len(str(num))\n",
    "arm=0\n",
    "while num>0:\n",
    "    rem=num%10\n",
    "    arm=arm+(rem**length)\n",
    "    num=num//10\n",
    "if temp==arm:\n",
    "    print(\"It is a ArmStrong Number\")\n",
    "else:\n",
    "    print(\"it ios Not a ArmStrong Number\")\n",
    "#ArmStrong Number"
   ]
  },
  {
   "cell_type": "code",
   "execution_count": null,
   "metadata": {},
   "outputs": [],
   "source": [
    "#Find the Perfect number of the given range 6->1,2,3=6\n",
    "n=int(input(\"Enter any number:\"))\n",
    "sum=0\n",
    "for i in range(1, n):\n",
    "    if(n%i==0):\n",
    "        sum=sum+i\n",
    "if(sum==n):\n",
    "    print(\"The number is a Perfect number!\")\n",
    "else:\n",
    "    print(\"The number is not a Perfect number!\")\n"
   ]
  },
  {
   "cell_type": "code",
   "execution_count": 3,
   "metadata": {},
   "outputs": [
    {
     "name": "stdout",
     "output_type": "stream",
     "text": [
      "Enter a Number:5\n",
      "55\n"
     ]
    }
   ],
   "source": [
    "# Program to find the squares of natural numbers\n",
    "n=int(input(\"Enter a Number:\"))\n",
    "sum=0\n",
    "for i in range(1,n+1):\n",
    "    sum=sum+i**2\n",
    "print(sum)"
   ]
  },
  {
   "cell_type": "code",
   "execution_count": 2,
   "metadata": {},
   "outputs": [
    {
     "name": "stdout",
     "output_type": "stream",
     "text": [
      "Enter a Number:123456\n",
      "6\n"
     ]
    }
   ],
   "source": [
    "#program to the find count of palindromes in a given range\n",
    "#input:123456\n",
    "#output:6(Capture the largest number)\n",
    "n=int(input(\"Enter a Number:\"))\n",
    "list=[]\n",
    "while n>0:\n",
    "    digit=n%10\n",
    "    list.append(digit)\n",
    "    n=n//10\n",
    "print(max(list))"
   ]
  },
  {
   "cell_type": "code",
   "execution_count": null,
   "metadata": {},
   "outputs": [],
   "source": [
    "#input:Good morning,good time\n",
    "#output:morning(Highest length word)\n"
   ]
  }
 ],
 "metadata": {
  "kernelspec": {
   "display_name": "Python 3",
   "language": "python",
   "name": "python3"
  },
  "language_info": {
   "codemirror_mode": {
    "name": "ipython",
    "version": 3
   },
   "file_extension": ".py",
   "mimetype": "text/x-python",
   "name": "python",
   "nbconvert_exporter": "python",
   "pygments_lexer": "ipython3",
   "version": "3.7.4"
  }
 },
 "nbformat": 4,
 "nbformat_minor": 2
}
