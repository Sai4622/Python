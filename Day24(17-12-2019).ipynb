{
 "cells": [
  {
   "cell_type": "markdown",
   "metadata": {},
   "source": [
    "# File Handling"
   ]
  },
  {
   "cell_type": "code",
   "execution_count": 24,
   "metadata": {},
   "outputs": [
    {
     "name": "stdout",
     "output_type": "stream",
     "text": [
      "completed\n"
     ]
    }
   ],
   "source": [
    "# function to create file and write some data to the file\n",
    "# mode -- w(it creats the file and write to the same data)\n",
    "def createFile(filename):\n",
    "    f=open(filename,'w')\n",
    "    for i in range(10):\n",
    "        f.write('this is python line %d \\n' %i)\n",
    "    print('completed')\n",
    "    return\n",
    "createFile(\"data.txt\")    "
   ]
  },
  {
   "cell_type": "code",
   "execution_count": 13,
   "metadata": {},
   "outputs": [
    {
     "data": {
      "text/plain": [
       "'C:\\\\Users\\\\Admn'"
      ]
     },
     "execution_count": 13,
     "metadata": {},
     "output_type": "execute_result"
    }
   ],
   "source": [
    "pwd"
   ]
  },
  {
   "cell_type": "code",
   "execution_count": 22,
   "metadata": {},
   "outputs": [
    {
     "name": "stdout",
     "output_type": "stream",
     "text": [
      "completed\n"
     ]
    }
   ],
   "source": [
    "def createFile(filename):\n",
    "    f=open(filename,'w')\n",
    "    f.write('gitam hyd python training')\n",
    "    print('completed')\n",
    "    return\n",
    "createFile('data.txt')"
   ]
  },
  {
   "cell_type": "code",
   "execution_count": 25,
   "metadata": {},
   "outputs": [
    {
     "name": "stdout",
     "output_type": "stream",
     "text": [
      "successfully\n"
     ]
    }
   ],
   "source": [
    "def appendMode(filename):\n",
    "    f=open(filename,'a')\n",
    "    f.write('gitam hyd\\n')\n",
    "    f.write('training')\n",
    "    print('successfully')\n",
    "    return\n",
    "appendMode('data.txt')"
   ]
  },
  {
   "cell_type": "code",
   "execution_count": 29,
   "metadata": {},
   "outputs": [
    {
     "name": "stdout",
     "output_type": "stream",
     "text": [
      "this is python line 0 \n",
      "this is python line 1 \n",
      "this is python line 2 \n",
      "this is python line 3 \n",
      "this is python line 4 \n",
      "this is python line 5 \n",
      "this is python line 6 \n",
      "this is python line 7 \n",
      "this is python line 8 \n",
      "this is python line 9 \n",
      "gitam hyd\n",
      "training\n"
     ]
    }
   ],
   "source": [
    "# function to read the file\n",
    "def readData(filename):\n",
    "    f=open(filename,'r')\n",
    "    if f.mode =='r':\n",
    "        a = f.read()\n",
    "        print(a)\n",
    "    f.close()\n",
    "    return\n",
    "readData('data.txt')\n",
    "    "
   ]
  },
  {
   "cell_type": "code",
   "execution_count": 30,
   "metadata": {},
   "outputs": [
    {
     "name": "stdout",
     "output_type": "stream",
     "text": [
      "['pyhton', 'is', 'easy', 'progammig', 'language']\n"
     ]
    }
   ],
   "source": [
    "# Analysis on the file --word count, char count, Digit count\n",
    "s1=\"pyhton is easy progammig language\"\n",
    "print(s1.split())"
   ]
  },
  {
   "cell_type": "code",
   "execution_count": 32,
   "metadata": {},
   "outputs": [
    {
     "data": {
      "text/plain": [
       "53"
      ]
     },
     "execution_count": 32,
     "metadata": {},
     "output_type": "execute_result"
    }
   ],
   "source": [
    "# word count--input file\n",
    "def wordCount(filename):\n",
    "    with open(filename,'r') as f:\n",
    "        if f.mode=='r':\n",
    "            a= f.read()\n",
    "            l=a.split()\n",
    "    return len(l)\n",
    "wordCount('data.txt')"
   ]
  },
  {
   "cell_type": "code",
   "execution_count": 35,
   "metadata": {},
   "outputs": [
    {
     "data": {
      "text/plain": [
       "10"
      ]
     },
     "execution_count": 35,
     "metadata": {},
     "output_type": "execute_result"
    }
   ],
   "source": [
    "# specific word count from the file\n",
    "# ex: I/p=This\n",
    "#     o/p=10\n",
    "\n",
    "def wordCount(filename,word):\n",
    "    with open(filename,'r') as f:\n",
    "        if f.mode=='r':\n",
    "            a=f.read()\n",
    "            l=a.split()\n",
    "    return l.count(word)\n",
    "wordCount('data.txt','this')\n",
    "            "
   ]
  },
  {
   "cell_type": "code",
   "execution_count": 40,
   "metadata": {},
   "outputs": [
    {
     "data": {
      "text/plain": [
       "248"
      ]
     },
     "execution_count": 40,
     "metadata": {},
     "output_type": "execute_result"
    }
   ],
   "source": [
    "# function to find the character count from the input file\n",
    "def charCount(filename):\n",
    "    with open(filename,'r')as f:\n",
    "        if f.mode=='r':\n",
    "            a=f.read()\n",
    "            l=list(a)\n",
    "    return len(a)\n",
    "charCount('data.txt')"
   ]
  },
  {
   "cell_type": "code",
   "execution_count": 41,
   "metadata": {},
   "outputs": [
    {
     "name": "stdout",
     "output_type": "stream",
     "text": [
      "['r', 'a', 'j', 'e', 'e', 'v', 'i']\n"
     ]
    }
   ],
   "source": [
    "s=\"rajeevi\"\n",
    "a=list(s)\n",
    "print(a)"
   ]
  },
  {
   "cell_type": "code",
   "execution_count": 42,
   "metadata": {},
   "outputs": [
    {
     "data": {
      "text/plain": [
       "12"
      ]
     },
     "execution_count": 42,
     "metadata": {},
     "output_type": "execute_result"
    }
   ],
   "source": [
    "# find no of lines or rows in the given input stream\n",
    "\n",
    "def lineCount(filename):\n",
    "    with open(filename,'r') as f:\n",
    "        if f.mode=='r':\n",
    "            a=f.read()\n",
    "            l=a.split('\\n')\n",
    "    return len(l)\n",
    "lineCount('data.txt')"
   ]
  },
  {
   "cell_type": "code",
   "execution_count": 49,
   "metadata": {},
   "outputs": [
    {
     "data": {
      "text/plain": [
       "'upper case: 0 lower case : 176'"
      ]
     },
     "execution_count": 49,
     "metadata": {},
     "output_type": "execute_result"
    }
   ],
   "source": [
    "# function to find the upper and lower case characters\n",
    "# from the input stream\n",
    "\n",
    "def caseCount(filename):\n",
    "    c=0\n",
    "    s=0\n",
    "    with open(filename,'r')as f:\n",
    "        if f.mode=='r':\n",
    "            a= f.read()\n",
    "            l=list(a)\n",
    "    for i in range(len(l)):\n",
    "        if ord(l[i])>=65 and ord(l[i])<=90:\n",
    "            c=c+1\n",
    "        elif ord(l[i])>=97 and ord(l[i])<=122:\n",
    "            s=s+1\n",
    "    output= 'upper case: {0} lower case : {1}'.format(c,s)\n",
    "    return output\n",
    "caseCount('data.txt')            \n",
    "            "
   ]
  },
  {
   "cell_type": "markdown",
   "metadata": {},
   "source": [
    "# Standard Libraries\n",
    "- Regular Expressions\n",
    "  - To Validate the Indian Mobile\n",
    "  - To Validate the EmailId\n",
    "  - To Validate the Username\n",
    "  - To Validate the Password\n",
    "- Understanding the Regular Expressions\n",
    "  - [0-9]-- Any digit matching\n",
    "  - [a-z]-- Any lower case matching\n",
    "  - [A-Z]-- Any upper case matching\n",
    "  - cap symbol is used to represent the start of Regular Expression\n",
    "  - Dollor symbol is used to represent the end of Regular Expression "
   ]
  },
  {
   "cell_type": "code",
   "execution_count": null,
   "metadata": {},
   "outputs": [],
   "source": [
    "# function to test the two digit number as input\n",
    "# True -- Input two digit number\n",
    "# False -- Input not a two digit number\n",
    "\n",
    "import re\n",
    "def twoDigtiMatch(n):"
   ]
  },
  {
   "cell_type": "markdown",
   "metadata": {},
   "source": [
    "# OOPs"
   ]
  },
  {
   "cell_type": "markdown",
   "metadata": {},
   "source": [
    "## Polymorphism:\n",
    "\n"
   ]
  },
  {
   "cell_type": "code",
   "execution_count": 53,
   "metadata": {},
   "outputs": [
    {
     "data": {
      "text/plain": [
       "8"
      ]
     },
     "execution_count": 53,
     "metadata": {},
     "output_type": "execute_result"
    }
   ],
   "source": [
    "3+5  #addition"
   ]
  },
  {
   "cell_type": "code",
   "execution_count": 52,
   "metadata": {},
   "outputs": [
    {
     "data": {
      "text/plain": [
       "'abcxyz'"
      ]
     },
     "execution_count": 52,
     "metadata": {},
     "output_type": "execute_result"
    }
   ],
   "source": [
    "'abc'+'xyz' #concatenation"
   ]
  },
  {
   "cell_type": "code",
   "execution_count": 55,
   "metadata": {},
   "outputs": [
    {
     "name": "stdout",
     "output_type": "stream",
     "text": [
      "46\n"
     ]
    }
   ],
   "source": [
    "def add(x,y):\n",
    "    return x+y\n",
    "def add(x,y,z):\n",
    "    return x+y+z\n",
    "#print(add(12,23))\n",
    "print(add(12,23,11))"
   ]
  },
  {
   "cell_type": "code",
   "execution_count": 58,
   "metadata": {},
   "outputs": [
    {
     "name": "stdout",
     "output_type": "stream",
     "text": [
      "81\n",
      "30\n"
     ]
    }
   ],
   "source": [
    "def add(*x):\n",
    "    s=0\n",
    "    for i in x:\n",
    "        s+=i\n",
    "    return s\n",
    "print(add(12,23,12,34))\n",
    "print(add(10,20))"
   ]
  },
  {
   "cell_type": "code",
   "execution_count": 64,
   "metadata": {},
   "outputs": [
    {
     "name": "stdout",
     "output_type": "stream",
     "text": [
      "60\n"
     ]
    }
   ],
   "source": [
    "# method overloading\n",
    "class A:\n",
    "    def add(self,x,y):\n",
    "        print(x+y)\n",
    "    def add(self,x,y,z):\n",
    "        print(x+y+z)\n",
    "a= A()\n",
    "a.add(10,20,30)"
   ]
  },
  {
   "cell_type": "code",
   "execution_count": 69,
   "metadata": {},
   "outputs": [
    {
     "name": "stdout",
     "output_type": "stream",
     "text": [
      "this is class B methd\n"
     ]
    }
   ],
   "source": [
    "# method overrinding\n",
    "class A:\n",
    "    def add(self):\n",
    "        print(\"this is class A methd\")\n",
    "class B(A):\n",
    "    def add(self):\n",
    "        print(\"this is class B methd\")\n",
    "        \n",
    "b=B()\n",
    "b.add()"
   ]
  },
  {
   "cell_type": "code",
   "execution_count": null,
   "metadata": {},
   "outputs": [],
   "source": []
  }
 ],
 "metadata": {
  "kernelspec": {
   "display_name": "Python 3",
   "language": "python",
   "name": "python3"
  },
  "language_info": {
   "codemirror_mode": {
    "name": "ipython",
    "version": 3
   },
   "file_extension": ".py",
   "mimetype": "text/x-python",
   "name": "python",
   "nbconvert_exporter": "python",
   "pygments_lexer": "ipython3",
   "version": "3.7.4"
  }
 },
 "nbformat": 4,
 "nbformat_minor": 2
}
