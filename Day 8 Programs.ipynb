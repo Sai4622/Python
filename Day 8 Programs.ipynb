{
 "cells": [
  {
   "cell_type": "markdown",
   "metadata": {},
   "source": [
    "#                                                Day 8 Program"
   ]
  },
  {
   "cell_type": "markdown",
   "metadata": {},
   "source": [
    "## 1. Read a number as input and Print the Output as Factors of the given number\n",
    "### Example 1:\n",
    "#### Input : 6\n",
    "##### Output : 1 2 3 6"
   ]
  },
  {
   "cell_type": "code",
   "execution_count": 42,
   "metadata": {},
   "outputs": [
    {
     "name": "stdout",
     "output_type": "stream",
     "text": [
      "Enter a Number:45\n",
      "1 3 5 9 15 45 "
     ]
    }
   ],
   "source": [
    "n=int(input(\"Enter a Number:\"))\n",
    "fact=1\n",
    "i=1\n",
    "while i<=n:\n",
    "    if n%i==0:\n",
    "        #fact=fact+i\n",
    "        print(i,end=\" \")\n",
    "    i+=1"
   ]
  },
  {
   "cell_type": "code",
   "execution_count": 39,
   "metadata": {},
   "outputs": [
    {
     "name": "stdout",
     "output_type": "stream",
     "text": [
      "enter a number5\n",
      "1\n",
      "5\n"
     ]
    }
   ],
   "source": [
    "n=int(input(\"enter a number\"))\n",
    "for i in range(1,n+1):\n",
    "       if n%i==0:\n",
    "            print(i)"
   ]
  },
  {
   "cell_type": "markdown",
   "metadata": {},
   "source": [
    "# 2. The program must accept an integer N as the input. Need to print the largest digit     from the given number.\n",
    "### Example :\n",
    "#### Input1: 6 9 1 8\n",
    "##### Output:9"
   ]
  },
  {
   "cell_type": "code",
   "execution_count": 43,
   "metadata": {},
   "outputs": [
    {
     "name": "stdout",
     "output_type": "stream",
     "text": [
      "8\n"
     ]
    }
   ],
   "source": [
    "def large(*b):\n",
    "    x=list(b)\n",
    "    x.sort()\n",
    "    print(x[-1])\n",
    "large(1,7,8,5,1,1)"
   ]
  },
  {
   "cell_type": "markdown",
   "metadata": {},
   "source": [
    "# 3. The program must accept an integer N as the input. Need to print the output in the following manner.\n",
    "## Boundary Condition(s):\n",
    "### Example:\n",
    "#### Input1: 1889\n",
    "##### Output:16"
   ]
  },
  {
   "cell_type": "code",
   "execution_count": 50,
   "metadata": {},
   "outputs": [
    {
     "name": "stdout",
     "output_type": "stream",
     "text": [
      "enter a number1889\n",
      "16\n"
     ]
    }
   ],
   "source": [
    "num=int(input('enter a number'))\n",
    "n2=0\n",
    "while num>0:\n",
    "    rem=num%10\n",
    "    if rem%2==0:\n",
    "        n2=n2+rem\n",
    "    num=num//10\n",
    "print(n2)\n",
    "           "
   ]
  },
  {
   "cell_type": "markdown",
   "metadata": {},
   "source": [
    "# 4. Write a user-defined function to find factorial of a number in all the possible ways."
   ]
  },
  {
   "cell_type": "code",
   "execution_count": 48,
   "metadata": {},
   "outputs": [
    {
     "name": "stdout",
     "output_type": "stream",
     "text": [
      "enter a number10\n",
      "3628800\n"
     ]
    }
   ],
   "source": [
    "n=int(input(\"enter a number\"))\n",
    "fact=1\n",
    "if n==0:\n",
    "       print(\"factorial of 0 is 1\")\n",
    "else:\n",
    "    for i in range(1,n+1):\n",
    "        fact=fact*i\n",
    "    print(fact)    "
   ]
  },
  {
   "cell_type": "markdown",
   "metadata": {},
   "source": [
    "# 5.The program must accept an integer N as the input. Need to print the output in the following manner.\n",
    "### Example Input/Output 1:\n",
    "#### Input1:145\n",
    "#### Output:yes\n",
    "###### Input2:123\n",
    "###### Output:no"
   ]
  },
  {
   "cell_type": "code",
   "execution_count": 49,
   "metadata": {},
   "outputs": [
    {
     "name": "stdout",
     "output_type": "stream",
     "text": [
      "enter number145\n",
      "yes\n"
     ]
    }
   ],
   "source": [
    " #145 - 1! + 4! + 5! - 1 + 24 + 120 -- 145 -- YES\n",
    " #123 - 1! + 2! + 3! - 1 + 2 + 6 - 9 -- NO\n",
    "import math\n",
    "num=int(input('enter number'))\n",
    "temp=num\n",
    "n=0\n",
    "while num>0:\n",
    "    rem=num%10\n",
    "    x=math.factorial(rem)\n",
    "    n=n+x\n",
    "    num=num//10\n",
    "if temp==n:\n",
    "    print('yes')\n",
    "else:\n",
    "    print('no')\n"
   ]
  },
  {
   "cell_type": "code",
   "execution_count": null,
   "metadata": {},
   "outputs": [],
   "source": []
  }
 ],
 "metadata": {
  "kernelspec": {
   "display_name": "Python 3",
   "language": "python",
   "name": "python3"
  },
  "language_info": {
   "codemirror_mode": {
    "name": "ipython",
    "version": 3
   },
   "file_extension": ".py",
   "mimetype": "text/x-python",
   "name": "python",
   "nbconvert_exporter": "python",
   "pygments_lexer": "ipython3",
   "version": "3.7.4"
  }
 },
 "nbformat": 4,
 "nbformat_minor": 2
}
