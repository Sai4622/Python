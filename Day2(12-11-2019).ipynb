{
 "cells": [
  {
   "cell_type": "markdown",
   "metadata": {},
   "source": [
    "# List Methods"
   ]
  },
  {
   "cell_type": "markdown",
   "metadata": {},
   "source": []
  },
  {
   "cell_type": "code",
   "execution_count": 10,
   "metadata": {},
   "outputs": [
    {
     "name": "stdout",
     "output_type": "stream",
     "text": [
      "['rajee', 'akkii', 'sravs']\n"
     ]
    }
   ],
   "source": [
    "N=[\"rajee\",\"akkii\"]\n",
    "N.append(\"sravs\")\n",
    "print(N)"
   ]
  },
  {
   "cell_type": "code",
   "execution_count": 14,
   "metadata": {},
   "outputs": [],
   "source": [
    "a=[\"r\",\"s\",\"k\"]\n",
    "a.clear()"
   ]
  },
  {
   "cell_type": "code",
   "execution_count": 15,
   "metadata": {},
   "outputs": [
    {
     "name": "stdout",
     "output_type": "stream",
     "text": [
      "[1, 2, 3]\n"
     ]
    }
   ],
   "source": [
    "a=[1,2,3]\n",
    "x=a.copy()\n",
    "print(x)"
   ]
  },
  {
   "cell_type": "code",
   "execution_count": 19,
   "metadata": {},
   "outputs": [
    {
     "name": "stdout",
     "output_type": "stream",
     "text": [
      "2\n"
     ]
    }
   ],
   "source": [
    "fruits = [1,2,4,3,2,3]\n",
    "\n",
    "x = fruits.count(3)\n",
    "print(x)"
   ]
  },
  {
   "cell_type": "code",
   "execution_count": 21,
   "metadata": {},
   "outputs": [
    {
     "name": "stdout",
     "output_type": "stream",
     "text": [
      "[1, 2, 5, 4, 3, 5, 7, 9, 0, 7]\n"
     ]
    }
   ],
   "source": [
    "a=[1,2,5,4,3]\n",
    "b=[5,7,9,0,7]\n",
    "a.extend(b)\n",
    "print(a)"
   ]
  },
  {
   "cell_type": "code",
   "execution_count": 22,
   "metadata": {},
   "outputs": [
    {
     "data": {
      "text/plain": [
       "3"
      ]
     },
     "execution_count": 22,
     "metadata": {},
     "output_type": "execute_result"
    }
   ],
   "source": [
    "a.index(4)"
   ]
  },
  {
   "cell_type": "code",
   "execution_count": 25,
   "metadata": {},
   "outputs": [
    {
     "data": {
      "text/plain": [
       "3"
      ]
     },
     "execution_count": 25,
     "metadata": {},
     "output_type": "execute_result"
    }
   ],
   "source": [
    "b.index(0)"
   ]
  },
  {
   "cell_type": "markdown",
   "metadata": {},
   "source": [
    "## Accept three values as input from the user, you need to check whether student got minimum marks(30) in all the subjects, if not print fail. if he gets minimum marks then find avg..if avg is>75=> print grade as A. if the avg is between 60-75, print the grade as B.if the avg is between 30-60,print as grade C, if<30 print it as fail.\n"
   ]
  },
  {
   "cell_type": "code",
   "execution_count": 26,
   "metadata": {},
   "outputs": [
    {
     "name": "stdout",
     "output_type": "stream",
     "text": [
      "['r', 's', 'a', 'd', 'e']\n"
     ]
    }
   ],
   "source": [
    "a=['r','s','a','e']\n",
    "a.insert(3,'d')\n",
    "print(a)"
   ]
  },
  {
   "cell_type": "code",
   "execution_count": 27,
   "metadata": {},
   "outputs": [
    {
     "name": "stdout",
     "output_type": "stream",
     "text": [
      "['r', 's', 'a', 'd']\n"
     ]
    }
   ],
   "source": [
    "a.pop(4)\n",
    "print(a)"
   ]
  },
  {
   "cell_type": "code",
   "execution_count": null,
   "metadata": {},
   "outputs": [],
   "source": [
    "input(\"Enter a name\")"
   ]
  },
  {
   "cell_type": "code",
   "execution_count": 2,
   "metadata": {},
   "outputs": [
    {
     "name": "stdout",
     "output_type": "stream",
     "text": [
      "True\n"
     ]
    }
   ],
   "source": [
    "if (5<7):\n",
    "    \n",
    "    print(True)"
   ]
  },
  {
   "cell_type": "code",
   "execution_count": null,
   "metadata": {},
   "outputs": [],
   "source": [
    " int(input(\"Enter a number\"))"
   ]
  },
  {
   "cell_type": "code",
   "execution_count": null,
   "metadata": {},
   "outputs": [],
   "source": [
    "a = int(input(\"Enter a number\"))\n",
    "if a==3:\n",
    "    print(True)\n",
    "else:\n",
    "    print(False)\n"
   ]
  },
  {
   "cell_type": "code",
   "execution_count": 3,
   "metadata": {},
   "outputs": [
    {
     "name": "stdout",
     "output_type": "stream",
     "text": [
      "Enter a number1\n",
      "False\n"
     ]
    }
   ],
   "source": [
    "a = int(input(\"Enter a number\"))\n",
    "if a==3:\n",
    "    print(True)\n",
    "elif a==4:\n",
    "    print(1)\n",
    "elif a==5:\n",
    "    print(\"Three\")\n",
    "else:\n",
    "    print(False)\n"
   ]
  },
  {
   "cell_type": "code",
   "execution_count": 6,
   "metadata": {},
   "outputs": [
    {
     "name": "stdout",
     "output_type": "stream",
     "text": [
      "enter 1st subject marks32\n",
      "32\n",
      "enter 2nd subject marks25\n",
      "fail\n",
      "enter 3rd subject marks45\n",
      "45\n",
      "34.0\n"
     ]
    }
   ],
   "source": [
    "a=int(input(\"enter 1st subject marks\"))\n",
    "if a>=30:\n",
    "    print(a)\n",
    "else:\n",
    "    print(\"fail\")\n",
    "b=int(input(\"enter 2nd subject marks\"))\n",
    "if b>=30:\n",
    "    print(b)\n",
    "else:\n",
    "    print(\"fail\")\n",
    "c=int(input(\"enter 3rd subject marks\"))\n",
    "if c>=30:\n",
    "    print(c)\n",
    "else:\n",
    "    print(\"fail\")\n",
    "avg=(a+b+c)/3\n",
    "print(avg)\n",
    "    "
   ]
  },
  {
   "cell_type": "code",
   "execution_count": 8,
   "metadata": {},
   "outputs": [
    {
     "name": "stdout",
     "output_type": "stream",
     "text": [
      "c grade\n"
     ]
    }
   ],
   "source": [
    "if avg>=75:\n",
    "    print(\"A\")\n",
    "elif avg>=60 and avg<=70:\n",
    "    print(\"B\")\n",
    "elif avg>=30 and avg<=60:\n",
    "    print(\"c grade\")\n",
    "else:\n",
    "    print(\"fail\")\n",
    "    "
   ]
  },
  {
   "cell_type": "markdown",
   "metadata": {},
   "source": [
    " # 1. Check whether the given number is even or odd\n"
   ]
  },
  {
   "cell_type": "code",
   "execution_count": 11,
   "metadata": {},
   "outputs": [
    {
     "name": "stdout",
     "output_type": "stream",
     "text": [
      "enter a no.5\n",
      "odd\n"
     ]
    }
   ],
   "source": [
    "a=int(input(\"enter a no.\"))\n",
    "if a%2==0:\n",
    "    print(\"enven\")\n",
    "else:\n",
    "    print(\"odd\")\n"
   ]
  },
  {
   "cell_type": "markdown",
   "metadata": {},
   "source": [
    "# 2. Accept age of a person and decide whether the candidate is eligible for     voting or not\n"
   ]
  },
  {
   "cell_type": "code",
   "execution_count": 13,
   "metadata": {},
   "outputs": [
    {
     "name": "stdout",
     "output_type": "stream",
     "text": [
      "enter age 43\n",
      "eligible to vote\n"
     ]
    }
   ],
   "source": [
    "a=int(input(\"enter age \"))\n",
    "if a>=18:\n",
    "    print(\"eligible to vote\")\n",
    "else:\n",
    "    print(\"not eligible\")"
   ]
  },
  {
   "cell_type": "markdown",
   "metadata": {},
   "source": [
    "# 3. Check whether the given number is divible by 2 and 3 but not 4.\n"
   ]
  },
  {
   "cell_type": "code",
   "execution_count": 27,
   "metadata": {},
   "outputs": [
    {
     "name": "stdout",
     "output_type": "stream",
     "text": [
      "enter a no.4\n",
      "Not divisible\n"
     ]
    }
   ],
   "source": [
    "a=int(input(\"enter a no.\"))\n",
    "if a%2==0 and a%3==0 and a%4!=0:\n",
    "    print(\"No.s are divisible by 2 and 3 but not 4\")\n",
    "else:    \n",
    "    print(\"Not divisible\")\n",
    "    \n",
    "    \n",
    "    "
   ]
  },
  {
   "cell_type": "markdown",
   "metadata": {},
   "source": [
    "# 4. find the large number from the given 3 numbers.\n"
   ]
  },
  {
   "cell_type": "code",
   "execution_count": 29,
   "metadata": {},
   "outputs": [
    {
     "name": "stdout",
     "output_type": "stream",
     "text": [
      "enter a value 78\n",
      "enter b value 90\n",
      "enter c value 70\n",
      "b is big\n"
     ]
    }
   ],
   "source": [
    "a=int(input(\"enter a value \"))\n",
    "b=int(input(\"enter b value \"))\n",
    "c=int(input(\"enter c value \"))\n",
    "if a>b and a>c:\n",
    "    print(\"a is big\")\n",
    "elif b>a and b>c:\n",
    "    print(\"b is big\")\n",
    "else:\n",
    "    print(\"c is big\")"
   ]
  },
  {
   "cell_type": "markdown",
   "metadata": {},
   "source": [
    "# 5. check whether the given year is leap year or not.\n"
   ]
  },
  {
   "cell_type": "code",
   "execution_count": 32,
   "metadata": {},
   "outputs": [
    {
     "name": "stdout",
     "output_type": "stream",
     "text": [
      "enter year 2000\n",
      "leap year\n"
     ]
    }
   ],
   "source": [
    "a= int(input(\"enter year \"))\n",
    "if a%4==0 and a%100!=0 or a%400==0:\n",
    "    print(\"leap year\")\n",
    "else:\n",
    "    print(\"not\")\n",
    "    "
   ]
  },
  {
   "cell_type": "markdown",
   "metadata": {},
   "source": [
    "# 6. Read the string and char as input and print the number of occurances of charin the given string.\n"
   ]
  },
  {
   "cell_type": "markdown",
   "metadata": {},
   "source": [
    "#  Example:Input : Application, p Output: 2"
   ]
  },
  {
   "cell_type": "code",
   "execution_count": 4,
   "metadata": {},
   "outputs": [
    {
     "name": "stdout",
     "output_type": "stream",
     "text": [
      "enter a stringapplication\n",
      " enter a charp\n",
      " sting is there\n",
      "2\n"
     ]
    }
   ],
   "source": [
    "st=input(\"enter a string\")\n",
    "ch=input(\" enter a char\")\n",
    "if ch in st:\n",
    "    print(\" char is there\")\n",
    "else:\n",
    "    print(\" char is not there\")\n",
    "print(st.count(ch))\n",
    "    \n",
    "    "
   ]
  },
  {
   "cell_type": "markdown",
   "metadata": {},
   "source": [
    "# 7. Read the input as string and print the output in the following manner\n",
    "    "
   ]
  },
  {
   "cell_type": "markdown",
   "metadata": {},
   "source": [
    "# Input: PythonProgrMMINg  Output: pYTHONpROGRmminG"
   ]
  },
  {
   "cell_type": "code",
   "execution_count": 2,
   "metadata": {},
   "outputs": [
    {
     "name": "stdout",
     "output_type": "stream",
     "text": [
      "pYTHONpROGRmminG\n"
     ]
    }
   ],
   "source": [
    "x=(\"PythonProgrMMINg\")\n",
    "print(x.swapcase())"
   ]
  },
  {
   "cell_type": "markdown",
   "metadata": {},
   "source": [
    "# 8. Test whether the string is palindrome or not:\n"
   ]
  },
  {
   "cell_type": "code",
   "execution_count": 5,
   "metadata": {},
   "outputs": [
    {
     "name": "stdout",
     "output_type": "stream",
     "text": [
      "enter a string madam\n",
      "string is polindrome\n"
     ]
    }
   ],
   "source": [
    "x=input(\"enter a string \")\n",
    "if x==x[::-1]:\n",
    "    print(\"string is polindrome\")\n",
    "else:\n",
    "    print(\"not polindrome\")"
   ]
  },
  {
   "cell_type": "code",
   "execution_count": 17,
   "metadata": {},
   "outputs": [
    {
     "name": "stdout",
     "output_type": "stream",
     "text": [
      "mada\n"
     ]
    }
   ],
   "source": [
    "print(x[:-1])"
   ]
  },
  {
   "cell_type": "markdown",
   "metadata": {},
   "source": [
    "# 9. Convert string into list:\n"
   ]
  },
  {
   "cell_type": "markdown",
   "metadata": {},
   "source": [
    "# Example:  Input: a= \"1 2 3 4 5 6\"  Output: [1, 2, 3, 4, 5, 6]\n"
   ]
  },
  {
   "cell_type": "code",
   "execution_count": 54,
   "metadata": {},
   "outputs": [
    {
     "name": "stdout",
     "output_type": "stream",
     "text": [
      "[1, 2, 3, 4, 5, 6]\n"
     ]
    }
   ],
   "source": [
    "a  = \"123456\"\n",
    "l = []\n",
    "for x in a:\n",
    "    l.append(int(x))\n",
    "print(l)"
   ]
  },
  {
   "cell_type": "code",
   "execution_count": 44,
   "metadata": {},
   "outputs": [
    {
     "name": "stdout",
     "output_type": "stream",
     "text": [
      "[7, 8, 9, 2, 3]\n"
     ]
    }
   ],
   "source": [
    "a=\"78923\"\n",
    "l=[]\n",
    "for y in a:\n",
    "    l.append(int(y))\n",
    "print(l)    "
   ]
  },
  {
   "cell_type": "code",
   "execution_count": 50,
   "metadata": {},
   "outputs": [
    {
     "name": "stdout",
     "output_type": "stream",
     "text": [
      "['r', 'a', 'j', 'e', 'e']\n"
     ]
    }
   ],
   "source": [
    "a=\"rajee\"\n",
    "l=[]\n",
    "for x in a:\n",
    "    l.append((x))\n",
    "print(l)    "
   ]
  },
  {
   "cell_type": "markdown",
   "metadata": {},
   "source": [
    "# 10.Print the second largest string from the list of string"
   ]
  },
  {
   "cell_type": "markdown",
   "metadata": {},
   "source": [
    "# Input: a=[\"Python\",\"Java\",\"C\",\"programming\", \"Swift\"]"
   ]
  },
  {
   "cell_type": "code",
   "execution_count": 60,
   "metadata": {},
   "outputs": [
    {
     "name": "stdout",
     "output_type": "stream",
     "text": [
      "python\n"
     ]
    }
   ],
   "source": [
    "a=[\"python\",\"java\",\"c\",\"programming\",\"swift\"]\n",
    "x=a[0]\n",
    "\n",
    "print(x)\n"
   ]
  },
  {
   "cell_type": "code",
   "execution_count": null,
   "metadata": {},
   "outputs": [],
   "source": []
  },
  {
   "cell_type": "code",
   "execution_count": null,
   "metadata": {},
   "outputs": [],
   "source": []
  }
 ],
 "metadata": {
  "kernelspec": {
   "display_name": "Python 3",
   "language": "python",
   "name": "python3"
  }
 },
 "nbformat": 4,
 "nbformat_minor": 2
}
