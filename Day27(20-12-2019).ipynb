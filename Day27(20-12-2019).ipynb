{
 "cells": [
  {
   "cell_type": "markdown",
   "metadata": {},
   "source": [
    "# Pandas:\n",
    "    \n",
    "   - Open Source Lib\n",
    "   - Data Analysis\n",
    "   - Data seg\n",
    "   - Data Structure"
   ]
  },
  {
   "cell_type": "code",
   "execution_count": 24,
   "metadata": {},
   "outputs": [
    {
     "name": "stdout",
     "output_type": "stream",
     "text": [
      "        match_id  inning         batting_team                 bowling_team  \\\n",
      "0              1       1  Sunrisers Hyderabad  Royal Challengers Bangalore   \n",
      "1              1       1  Sunrisers Hyderabad  Royal Challengers Bangalore   \n",
      "2              1       1  Sunrisers Hyderabad  Royal Challengers Bangalore   \n",
      "3              1       1  Sunrisers Hyderabad  Royal Challengers Bangalore   \n",
      "4              1       1  Sunrisers Hyderabad  Royal Challengers Bangalore   \n",
      "...          ...     ...                  ...                          ...   \n",
      "179073     11415       2  Chennai Super Kings               Mumbai Indians   \n",
      "179074     11415       2  Chennai Super Kings               Mumbai Indians   \n",
      "179075     11415       2  Chennai Super Kings               Mumbai Indians   \n",
      "179076     11415       2  Chennai Super Kings               Mumbai Indians   \n",
      "179077     11415       2  Chennai Super Kings               Mumbai Indians   \n",
      "\n",
      "        over  ball    batsman non_striker      bowler  is_super_over  ...  \\\n",
      "0          1     1  DA Warner    S Dhawan    TS Mills              0  ...   \n",
      "1          1     2  DA Warner    S Dhawan    TS Mills              0  ...   \n",
      "2          1     3  DA Warner    S Dhawan    TS Mills              0  ...   \n",
      "3          1     4  DA Warner    S Dhawan    TS Mills              0  ...   \n",
      "4          1     5  DA Warner    S Dhawan    TS Mills              0  ...   \n",
      "...      ...   ...        ...         ...         ...            ...  ...   \n",
      "179073    20     2  RA Jadeja   SR Watson  SL Malinga              0  ...   \n",
      "179074    20     3  SR Watson   RA Jadeja  SL Malinga              0  ...   \n",
      "179075    20     4  SR Watson   RA Jadeja  SL Malinga              0  ...   \n",
      "179076    20     5  SN Thakur   RA Jadeja  SL Malinga              0  ...   \n",
      "179077    20     6  SN Thakur   RA Jadeja  SL Malinga              0  ...   \n",
      "\n",
      "        bye_runs  legbye_runs  noball_runs  penalty_runs  batsman_runs  \\\n",
      "0              0            0            0             0             0   \n",
      "1              0            0            0             0             0   \n",
      "2              0            0            0             0             4   \n",
      "3              0            0            0             0             0   \n",
      "4              0            0            0             0             0   \n",
      "...          ...          ...          ...           ...           ...   \n",
      "179073         0            0            0             0             1   \n",
      "179074         0            0            0             0             2   \n",
      "179075         0            0            0             0             1   \n",
      "179076         0            0            0             0             2   \n",
      "179077         0            0            0             0             0   \n",
      "\n",
      "        extra_runs  total_runs  player_dismissed dismissal_kind    fielder  \n",
      "0                0           0               NaN            NaN        NaN  \n",
      "1                0           0               NaN            NaN        NaN  \n",
      "2                0           4               NaN            NaN        NaN  \n",
      "3                0           0               NaN            NaN        NaN  \n",
      "4                2           2               NaN            NaN        NaN  \n",
      "...            ...         ...               ...            ...        ...  \n",
      "179073           0           1               NaN            NaN        NaN  \n",
      "179074           0           2               NaN            NaN        NaN  \n",
      "179075           0           1         SR Watson        run out  KH Pandya  \n",
      "179076           0           2               NaN            NaN        NaN  \n",
      "179077           0           0         SN Thakur            lbw        NaN  \n",
      "\n",
      "[179078 rows x 21 columns]\n"
     ]
    }
   ],
   "source": [
    "import pandas as pd\n",
    "pd = pd.read_csv('deliveries.csv')\n",
    "print(pd)"
   ]
  },
  {
   "cell_type": "code",
   "execution_count": 25,
   "metadata": {},
   "outputs": [
    {
     "data": {
      "text/plain": [
       "Index(['id', 'season', 'city', 'date'], dtype='object')"
      ]
     },
     "execution_count": 25,
     "metadata": {},
     "output_type": "execute_result"
    }
   ],
   "source": [
    "pd1.columns[0:4]"
   ]
  },
  {
   "cell_type": "code",
   "execution_count": 26,
   "metadata": {},
   "outputs": [
    {
     "name": "stdout",
     "output_type": "stream",
     "text": [
      "        id  season           city        date                        team1  \\\n",
      "0        1    2017      Hyderabad  2017-04-05          Sunrisers Hyderabad   \n",
      "1        2    2017           Pune  2017-04-06               Mumbai Indians   \n",
      "2        3    2017         Rajkot  2017-04-07                Gujarat Lions   \n",
      "3        4    2017         Indore  2017-04-08       Rising Pune Supergiant   \n",
      "4        5    2017      Bangalore  2017-04-08  Royal Challengers Bangalore   \n",
      "..     ...     ...            ...         ...                          ...   \n",
      "751  11347    2019         Mumbai    05/05/19        Kolkata Knight Riders   \n",
      "752  11412    2019        Chennai    07/05/19          Chennai Super Kings   \n",
      "753  11413    2019  Visakhapatnam    08/05/19          Sunrisers Hyderabad   \n",
      "754  11414    2019  Visakhapatnam    10/05/19               Delhi Capitals   \n",
      "755  11415    2019      Hyderabad    12/05/19               Mumbai Indians   \n",
      "\n",
      "                           team2                  toss_winner toss_decision  \\\n",
      "0    Royal Challengers Bangalore  Royal Challengers Bangalore         field   \n",
      "1         Rising Pune Supergiant       Rising Pune Supergiant         field   \n",
      "2          Kolkata Knight Riders        Kolkata Knight Riders         field   \n",
      "3                Kings XI Punjab              Kings XI Punjab         field   \n",
      "4               Delhi Daredevils  Royal Challengers Bangalore           bat   \n",
      "..                           ...                          ...           ...   \n",
      "751               Mumbai Indians               Mumbai Indians         field   \n",
      "752               Mumbai Indians          Chennai Super Kings           bat   \n",
      "753               Delhi Capitals               Delhi Capitals         field   \n",
      "754          Chennai Super Kings          Chennai Super Kings         field   \n",
      "755          Chennai Super Kings               Mumbai Indians           bat   \n",
      "\n",
      "     result  dl_applied                       winner  win_by_runs  \\\n",
      "0    normal           0          Sunrisers Hyderabad           35   \n",
      "1    normal           0       Rising Pune Supergiant            0   \n",
      "2    normal           0        Kolkata Knight Riders            0   \n",
      "3    normal           0              Kings XI Punjab            0   \n",
      "4    normal           0  Royal Challengers Bangalore           15   \n",
      "..      ...         ...                          ...          ...   \n",
      "751  normal           0               Mumbai Indians            0   \n",
      "752  normal           0               Mumbai Indians            0   \n",
      "753  normal           0               Delhi Capitals            0   \n",
      "754  normal           0          Chennai Super Kings            0   \n",
      "755  normal           0               Mumbai Indians            1   \n",
      "\n",
      "     win_by_wickets player_of_match  \\\n",
      "0                 0    Yuvraj Singh   \n",
      "1                 7       SPD Smith   \n",
      "2                10         CA Lynn   \n",
      "3                 6      GJ Maxwell   \n",
      "4                 0       KM Jadhav   \n",
      "..              ...             ...   \n",
      "751               9       HH Pandya   \n",
      "752               6        AS Yadav   \n",
      "753               2         RR Pant   \n",
      "754               6    F du Plessis   \n",
      "755               0       JJ Bumrah   \n",
      "\n",
      "                                         venue         umpire1  \\\n",
      "0    Rajiv Gandhi International Stadium, Uppal     AY Dandekar   \n",
      "1      Maharashtra Cricket Association Stadium  A Nand Kishore   \n",
      "2       Saurashtra Cricket Association Stadium     Nitin Menon   \n",
      "3                       Holkar Cricket Stadium    AK Chaudhary   \n",
      "4                        M Chinnaswamy Stadium             NaN   \n",
      "..                                         ...             ...   \n",
      "751                           Wankhede Stadium   Nanda Kishore   \n",
      "752                  M. A. Chidambaram Stadium     Nigel Llong   \n",
      "753                           ACA-VDCA Stadium             NaN   \n",
      "754                           ACA-VDCA Stadium   Sundaram Ravi   \n",
      "755         Rajiv Gandhi Intl. Cricket Stadium     Nitin Menon   \n",
      "\n",
      "            umpire2                  umpire3  \n",
      "0          NJ Llong                      NaN  \n",
      "1            S Ravi                      NaN  \n",
      "2         CK Nandan                      NaN  \n",
      "3     C Shamshuddin                      NaN  \n",
      "4               NaN                      NaN  \n",
      "..              ...                      ...  \n",
      "751        O Nandan                   S Ravi  \n",
      "752     Nitin Menon                Ian Gould  \n",
      "753             NaN                      NaN  \n",
      "754  Bruce Oxenford  Chettithody Shamshuddin  \n",
      "755       Ian Gould              Nigel Llong  \n",
      "\n",
      "[756 rows x 18 columns]\n"
     ]
    }
   ],
   "source": [
    "import pandas as pd1\n",
    "pd1 = pd1.read_csv('matches.csv')\n",
    "print(pd1)\n"
   ]
  },
  {
   "cell_type": "code",
   "execution_count": 27,
   "metadata": {},
   "outputs": [
    {
     "data": {
      "text/plain": [
       "id                              11415\n",
       "season                           2019\n",
       "date                         31/03/19\n",
       "team1             Sunrisers Hyderabad\n",
       "team2             Sunrisers Hyderabad\n",
       "toss_winner       Sunrisers Hyderabad\n",
       "toss_decision                   field\n",
       "result                            tie\n",
       "dl_applied                          1\n",
       "win_by_runs                       146\n",
       "win_by_wickets                     10\n",
       "venue                Wankhede Stadium\n",
       "dtype: object"
      ]
     },
     "execution_count": 27,
     "metadata": {},
     "output_type": "execute_result"
    }
   ],
   "source": [
    "pd1.max()"
   ]
  },
  {
   "cell_type": "code",
   "execution_count": 30,
   "metadata": {},
   "outputs": [
    {
     "data": {
      "text/plain": [
       "11415"
      ]
     },
     "execution_count": 30,
     "metadata": {},
     "output_type": "execute_result"
    }
   ],
   "source": [
    "pd1['id'].max()"
   ]
  },
  {
   "cell_type": "code",
   "execution_count": null,
   "metadata": {},
   "outputs": [],
   "source": []
  }
 ],
 "metadata": {
  "kernelspec": {
   "display_name": "Python 3",
   "language": "python",
   "name": "python3"
  },
  "language_info": {
   "codemirror_mode": {
    "name": "ipython",
    "version": 3
   },
   "file_extension": ".py",
   "mimetype": "text/x-python",
   "name": "python",
   "nbconvert_exporter": "python",
   "pygments_lexer": "ipython3",
   "version": "3.7.4"
  }
 },
 "nbformat": 4,
 "nbformat_minor": 2
}
