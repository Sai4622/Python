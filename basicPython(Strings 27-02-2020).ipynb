{
 "cells": [
  {
   "cell_type": "markdown",
   "metadata": {},
   "source": [
    "# Strings And String Related Programs\n",
    "- Strings : Sequence of Characters\n",
    "- Python : Character and String\n",
    "- ord(char) :Represents the Output in terms of ASCII Number\n",
    "- chr(ord(char)):Represent the output in terms of Character\n",
    "- ASCII Number:\n",
    "    - A-Z :65-90\n",
    "    - a-z :97-122\n",
    "    - 0-9 :48-57\n",
    "    - Space :32"
   ]
  },
  {
   "cell_type": "code",
   "execution_count": 10,
   "metadata": {},
   "outputs": [
    {
     "name": "stdout",
     "output_type": "stream",
     "text": [
      "<class 'str'> <class 'str'>\n",
      "a\n",
      "application\n",
      "1\n",
      "11\n",
      "97\n"
     ]
    }
   ],
   "source": [
    "s1='a'\n",
    "s2='application'\n",
    "print(type(s1),type(s2))\n",
    "print(s1)\n",
    "print(s2)\n",
    "print(len(s1))\n",
    "print(len(s2))\n",
    "print(ord(s1))"
   ]
  },
  {
   "cell_type": "code",
   "execution_count": 19,
   "metadata": {},
   "outputs": [
    {
     "name": "stdout",
     "output_type": "stream",
     "text": [
      "APPLication\n",
      "Upper case :4 Lower Case :7\n"
     ]
    }
   ],
   "source": [
    "l1=[]\n",
    "s1=input()\n",
    "ucount=0\n",
    "icount=0\n",
    "for i in range(len(s1)):\n",
    "    if ord(s1[i])>=65 and ord(s1[i])<=90:\n",
    "        ucount +=1\n",
    "    elif ord(s1[i])>=97 and ord(s1[i])<=122:\n",
    "        icount +=1\n",
    "print('Upper case :{} Lower Case :{}'.format(ucount,icount))"
   ]
  },
  {
   "cell_type": "code",
   "execution_count": 21,
   "metadata": {},
   "outputs": [
    {
     "name": "stdout",
     "output_type": "stream",
     "text": [
      "APPliCation\n",
      "Upper case :4 Lower Case :7\n"
     ]
    }
   ],
   "source": [
    "l1=[]\n",
    "s1=input()\n",
    "ucount=0\n",
    "icount=0\n",
    "for i in range(len(s1)):\n",
    "    if s1[i].isupper():\n",
    "        ucount +=1\n",
    "    elif s1[i].islower():\n",
    "        icount +=1\n",
    "print('Upper case :{} Lower Case :{}'.format(ucount,icount))"
   ]
  },
  {
   "cell_type": "code",
   "execution_count": 32,
   "metadata": {},
   "outputs": [
    {
     "name": "stdout",
     "output_type": "stream",
     "text": [
      "16\n"
     ]
    }
   ],
   "source": [
    "#App1ca8ti8on9   #1889  # 48-0\n",
    "#16\n",
    "s1='App1ca8ti8on9'\n",
    "count=0\n",
    "for i in range(len(s1)):\n",
    "    if s1[i].isdigit():\n",
    "        k=ord(s1[i])-48\n",
    "        if k%2==0:\n",
    "            count +=k\n",
    "print(count)"
   ]
  },
  {
   "cell_type": "code",
   "execution_count": 2,
   "metadata": {},
   "outputs": [
    {
     "name": "stdout",
     "output_type": "stream",
     "text": [
      "['M', 'o', 'b', 'i', 'l', 'e', '1', '2', '3', 'N', 'e', 'e', 'd', 's', '2', '1', 'W', 'o', 'r', 'k', 's', '4', '5', 'L', 'a', 'n', 'd', '8', '7', 'u', 's', 'e', 'r', '3', '4', '2', 'Mobile123Needs21Works45Land87user342']\n"
     ]
    }
   ],
   "source": [
    "# Mobile123Needs21Works45Land87user342  #21+45+87=153   #123+342=465\n",
    "# 153 465\n",
    "s1='Mobile123Needs21Works45Land87user342'\n",
    "count=0\n",
    "for i in range(len(s1)):\n",
    "    if s1[i].split():\n",
    "        li=list(s1)\n",
    "        li.append(s1)\n",
    "print(li)"
   ]
  },
  {
   "cell_type": "code",
   "execution_count": 3,
   "metadata": {},
   "outputs": [
    {
     "name": "stdout",
     "output_type": "stream",
     "text": [
      "153\n",
      "465\n"
     ]
    }
   ],
   "source": [
    "import re\n",
    "s='Mobile123Needs21Works45Land87user342'\n",
    "a=re.split('(\\d+)',s)\n",
    "x=a[1::2]\n",
    "s1=0\n",
    "s2=0\n",
    "for i in x:\n",
    "    if len(i)==2:\n",
    "        s1=s1+int(i)\n",
    "    elif len(i)==3:\n",
    "        s2=s2+int(i)\n",
    "print(s1)\n",
    "print(s2)"
   ]
  },
  {
   "cell_type": "code",
   "execution_count": 4,
   "metadata": {},
   "outputs": [
    {
     "name": "stdout",
     "output_type": "stream",
     "text": [
      "153\n",
      "465\n"
     ]
    }
   ],
   "source": [
    "import re\n",
    "s='Mobile123Needs21Works45Land87user342'\n",
    "a=re.split('(\\d+)',s)\n",
    "x=a[1::2]\n",
    "s1=0\n",
    "s2=0\n",
    "for i in x:\n",
    "    if len(i)==2:\n",
    "        s1=s1+int(i)\n",
    "    elif len(i)==3:\n",
    "        s2=s2+int(i)\n",
    "print(s1)\n",
    "print(s2)\n",
    "\n",
    "#\\d+ matches 1-or-more digits.\n",
    "#\\d*\\D+ matches 0-or-more digits followed by 1-or-more non-digits.\n",
    "#\\d+|\\D+ matches 1-or-more digits or 1-or-more non-digits."
   ]
  },
  {
   "cell_type": "code",
   "execution_count": 5,
   "metadata": {},
   "outputs": [
    {
     "ename": "SyntaxError",
     "evalue": "invalid syntax (<ipython-input-5-9451cb4d89d2>, line 17)",
     "output_type": "error",
     "traceback": [
      "\u001b[1;36m  File \u001b[1;32m\"<ipython-input-5-9451cb4d89d2>\"\u001b[1;36m, line \u001b[1;32m17\u001b[0m\n\u001b[1;33m    elif:\u001b[0m\n\u001b[1;37m       ^\u001b[0m\n\u001b[1;31mSyntaxError\u001b[0m\u001b[1;31m:\u001b[0m invalid syntax\n"
     ]
    }
   ],
   "source": [
    "def check(n):\n",
    "    cnt=0\n",
    "    while n !=0:\n",
    "        cnt +=1\n",
    "        n=n//10\n",
    "        return cnt\n",
    "s1=input()\n",
    "final_sum=0\n",
    "final_x=0\n",
    "for i in range(len(s1)):\n",
    "    num=0\n",
    "    while True:\n",
    "        if s1[i].isdigit():\n",
    "            k=ord(s1[i])=-48\n",
    "            num=(num*10)+k\n",
    "            i+=1\n",
    "            elif:\n",
    "                break\n",
    "                if check(num)==2:\n",
    "                    final_sum +=num\n",
    "                elif check(num)==3:\n",
    "                    final_x +=num\n",
    "print('{0}{1}.format(final_sum,final_x')"
   ]
  },
  {
   "cell_type": "code",
   "execution_count": 6,
   "metadata": {},
   "outputs": [
    {
     "name": "stdout",
     "output_type": "stream",
     "text": [
      "['mobile', '123', 'Needs', '21', 'works', '45', 'land', '87', 'user', '342']\n"
     ]
    }
   ],
   "source": [
    "def str(string):\n",
    "    pc = string[0]\n",
    "    groups = []\n",
    "    newword = string[0]\n",
    "    for x, i in enumerate(string[1:]):\n",
    "        if i.isalpha() and pc.isalpha():\n",
    "            newword += i\n",
    "        elif i.isnumeric() and pc.isnumeric():\n",
    "            newword += i\n",
    "        else:\n",
    "            groups.append(newword)\n",
    "            newword = i\n",
    "        pc = i\n",
    "        if x == len(string) - 2:\n",
    "            groups.append(newword)\n",
    "            newword = ''\n",
    "    return groups\n",
    "\n",
    "print(str('mobile123Needs21works45land87user342'))"
   ]
  },
  {
   "cell_type": "code",
   "execution_count": 7,
   "metadata": {},
   "outputs": [
    {
     "name": "stdout",
     "output_type": "stream",
     "text": [
      "465,153\n"
     ]
    }
   ],
   "source": [
    "def str(string):\n",
    "    pc = string[0]\n",
    "    groups = []\n",
    "    c=0\n",
    "    c1=0\n",
    "    newword = string[0]\n",
    "    for x, i in enumerate(string[1:]):\n",
    "        if i.isalpha() and pc.isalpha():\n",
    "            newword += i\n",
    "        elif i.isnumeric() and pc.isnumeric():\n",
    "            newword += i\n",
    "        else:\n",
    "            groups.append(newword)\n",
    "            newword = i\n",
    "        pc = i\n",
    "        if x == len(string) - 2:\n",
    "            groups.append(newword)\n",
    "            newword = ''\n",
    "    a=groups[1::2]\n",
    "    for i in a:\n",
    "        if len(i)==3:\n",
    "            c=c+int(i)\n",
    "        else:\n",
    "            c1=c1+int(i)\n",
    "    print('{},{}'.format(c,c1))  \n",
    "str('mobile123Needs21works45land87user342')"
   ]
  },
  {
   "cell_type": "code",
   "execution_count": 8,
   "metadata": {},
   "outputs": [
    {
     "ename": "SyntaxError",
     "evalue": "invalid syntax (<ipython-input-8-055de483ddc0>, line 7)",
     "output_type": "error",
     "traceback": [
      "\u001b[1;36m  File \u001b[1;32m\"<ipython-input-8-055de483ddc0>\"\u001b[1;36m, line \u001b[1;32m7\u001b[0m\n\u001b[1;33m    jif len(str(i))==2:\u001b[0m\n\u001b[1;37m          ^\u001b[0m\n\u001b[1;31mSyntaxError\u001b[0m\u001b[1;31m:\u001b[0m invalid syntax\n"
     ]
    }
   ],
   "source": [
    "s=\"Mobile123Needs21work45lnd87user342\"\n",
    "savings=0\n",
    "net_amount=0    \n",
    "res = list(map(int,''.join([x if x.isdigit() else ' ' for x in s]).split()))\n",
    "print(res)\n",
    "for i in res:\n",
    "    jif len(str(i))==2:\n",
    "        savings=savings+i\n",
    "    elif len(str(i))==3:\n",
    "        net_amount=net_amount+i\n",
    "print('two digit sum:{} three digit sum:{}'.format(savings,net_amount)) "
   ]
  },
  {
   "cell_type": "code",
   "execution_count": 11,
   "metadata": {},
   "outputs": [
    {
     "name": "stdout",
     "output_type": "stream",
     "text": [
      "\n",
      "\n",
      "\n",
      "\n",
      "!@@!!!@@@@!!@@!!!@@@@!!!!!!!@@!!!"
     ]
    }
   ],
   "source": [
    "# Password Encrypytion Format - 128 bits(Encryption)\n",
    "# not Special Char and digits\n",
    "#input:\n",
    "    #Abcd Aabc aabc         \n",
    "    #ABCD AABCDE AABC\n",
    "#output:\n",
    "    #!@!!!@@@@\n",
    "    #!@!!@@@!!!!@@@@@\n",
    "    #!@!!@@@\n",
    "    \n",
    "s='ABCD AABCDE AABC'\n",
    "l1=list(s)\n",
    "s=\"\"\n",
    "for i in l1:\n",
    "    if i!=\" \":\n",
    "        x=ord(i) - ord('A') + 1  \n",
    "        if x%2==0:\n",
    "            s=s+('@'*x)\n",
    "        else:\n",
    "            s=s+('!'*x)  \n",
    "    else:\n",
    "        print('\\n')\n",
    "print(s,end='')"
   ]
  },
  {
   "cell_type": "code",
   "execution_count": 10,
   "metadata": {},
   "outputs": [
    {
     "name": "stdout",
     "output_type": "stream",
     "text": [
      "!@@!!!@@@@@!@@!!!@@@@!!!!!!@!!@@@"
     ]
    }
   ],
   "source": [
    "def password(s) :\n",
    "    evenPos = '@'\n",
    "    oddPos = '!'\n",
    "    for i in range(len(s)) :\n",
    "        ascii = ord(s[i]);  \n",
    "        if ascii >= 97:\n",
    "            repeat = (ascii - 96 )\n",
    "        else:\n",
    "            repeat=(ascii - 64)\n",
    "        for j in range(repeat):\n",
    "            if (i % 2 == 0):\n",
    "                print(oddPos, end = \"\")\n",
    "            else :\n",
    "                print(evenPos, end = \"\")\n",
    "password('ABCD AABCDE AABC')"
   ]
  },
  {
   "cell_type": "code",
   "execution_count": 12,
   "metadata": {},
   "outputs": [
    {
     "name": "stdout",
     "output_type": "stream",
     "text": [
      "Saiteja\n",
      "!!!!!!!!!!!!!!!!!!!@!!!!!!!!!@@@@@@@@@@@@@@@@@@@@!!!!!@@@@@@@@@@!"
     ]
    }
   ],
   "source": [
    "s=input().upper()\n",
    "ch='!'\n",
    "for i in range(len(s)):\n",
    "    if ord(s[i]) !=32:\n",
    "        k=ord(s[i])-64\n",
    "        for j in range(k):\n",
    "            print(ch,end='')\n",
    "        if ch=='!':\n",
    "            ch='@'\n",
    "        else:\n",
    "            ch='!'\n",
    "    else:\n",
    "        print('\\n')\n",
    "        ch='!'"
   ]
  },
  {
   "cell_type": "code",
   "execution_count": null,
   "metadata": {},
   "outputs": [],
   "source": []
  }
 ],
 "metadata": {
  "kernelspec": {
   "display_name": "Python 3",
   "language": "python",
   "name": "python3"
  },
  "language_info": {
   "codemirror_mode": {
    "name": "ipython",
    "version": 3
   },
   "file_extension": ".py",
   "mimetype": "text/x-python",
   "name": "python",
   "nbconvert_exporter": "python",
   "pygments_lexer": "ipython3",
   "version": "3.7.4"
  }
 },
 "nbformat": 4,
 "nbformat_minor": 2
}
