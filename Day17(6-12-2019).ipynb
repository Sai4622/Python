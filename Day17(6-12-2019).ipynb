{
 "cells": [
  {
   "cell_type": "code",
   "execution_count": null,
   "metadata": {},
   "outputs": [],
   "source": [
    "# i/p: 19535\n",
    "# o/p: 9(large no.f the given number)\n",
    "#fumctional prgrmng\n",
    "def largeDigit(n):\n",
    "    l=0\n",
    "    while n!=0:\n",
    "        r=n%10\n",
    "        if l<r:\n",
    "            l=r\n",
    "        n=n//10\n",
    "    return l\n",
    "largeDigit(19535)"
   ]
  },
  {
   "cell_type": "markdown",
   "metadata": {},
   "source": [
    "## read a number as input\n",
    "## output yes or no\n",
    "\n",
    "## Input : 145\n",
    "## o/p: yes\n",
    "\n",
    "## i/p: 123\n",
    "## o/p: no\n",
    "\n",
    "## individual digit factorial sum is sa,e as input number "
   ]
  },
  {
   "cell_type": "code",
   "execution_count": 8,
   "metadata": {},
   "outputs": [
    {
     "name": "stdout",
     "output_type": "stream",
     "text": [
      "no\n"
     ]
    }
   ],
   "source": [
    "def sfd(n):\n",
    "    num=1\n",
    "    s=0\n",
    "    buf=n\n",
    "    while n!=0:\n",
    "        r=n%10\n",
    "        if r>=1:\n",
    "            num=num*r\n",
    "            r=r-1   \n",
    "        s=s+num\n",
    "        n=n//10    \n",
    "    if buf==s:\n",
    "        print(\"yes\")\n",
    "    else:\n",
    "        print(\"no\")\n",
    "        \n",
    "sfd(145)        \n",
    "        \n",
    "        "
   ]
  },
  {
   "cell_type": "code",
   "execution_count": 9,
   "metadata": {},
   "outputs": [
    {
     "name": "stdout",
     "output_type": "stream",
     "text": [
      "yes\n"
     ]
    }
   ],
   "source": [
    "def factorial(n): #find the fact\n",
    "    fact = 1\n",
    "    i=1\n",
    "    while i<=n:\n",
    "        fact =fact*i\n",
    "        i=i+1\n",
    "    return fact\n",
    "def digitFactSum(n):\n",
    "    s=0\n",
    "    buffer=n# store the input value in buffer because n will be zero after the while loop\n",
    "    while n!=0:\n",
    "        r=n%10\n",
    "        s+=factorial(r)\n",
    "        n=n//10\n",
    "    if buffer==s: #compare the s with buffer\n",
    "        return \"yes\"\n",
    "    else:\n",
    "        return \"no\"\n",
    "    return\n",
    "print(digitFactSum(145))"
   ]
  },
  {
   "cell_type": "code",
   "execution_count": null,
   "metadata": {},
   "outputs": [],
   "source": []
  },
  {
   "cell_type": "code",
   "execution_count": null,
   "metadata": {},
   "outputs": [],
   "source": []
  }
 ],
 "metadata": {
  "kernelspec": {
   "display_name": "Python 3",
   "language": "python",
   "name": "python3"
  },
  "language_info": {
   "codemirror_mode": {
    "name": "ipython",
    "version": 3
   },
   "file_extension": ".py",
   "mimetype": "text/x-python",
   "name": "python",
   "nbconvert_exporter": "python",
   "pygments_lexer": "ipython3",
   "version": "3.7.4"
  }
 },
 "nbformat": 4,
 "nbformat_minor": 2
}
